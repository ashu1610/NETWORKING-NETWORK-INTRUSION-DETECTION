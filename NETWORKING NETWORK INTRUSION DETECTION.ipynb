{
 "cells": [
  {
   "cell_type": "code",
   "execution_count": 1,
   "metadata": {},
   "outputs": [],
   "source": [
    "import numpy as np\n",
    "import pandas as pd\n",
    "\n",
    "import matplotlib.pyplot as pylt\n",
    "\n",
    "import scipy.stats as stats\n"
   ]
  },
  {
   "cell_type": "code",
   "execution_count": 2,
   "metadata": {},
   "outputs": [],
   "source": [
    "from sklearn.model_selection import train_test_split\n",
    "import statsmodels.formula.api as smf\n",
    "import sklearn.metrics as metrics"
   ]
  },
  {
   "cell_type": "code",
   "execution_count": 3,
   "metadata": {},
   "outputs": [],
   "source": [
    "import seaborn as sns"
   ]
  },
  {
   "cell_type": "code",
   "execution_count": 4,
   "metadata": {},
   "outputs": [],
   "source": [
    "train = pd.read_csv('c:/my_computer/data_file/NSL_Dataset/Train.txt')"
   ]
  },
  {
   "cell_type": "code",
   "execution_count": 5,
   "metadata": {},
   "outputs": [
    {
     "data": {
      "text/html": [
       "<div>\n",
       "<style scoped>\n",
       "    .dataframe tbody tr th:only-of-type {\n",
       "        vertical-align: middle;\n",
       "    }\n",
       "\n",
       "    .dataframe tbody tr th {\n",
       "        vertical-align: top;\n",
       "    }\n",
       "\n",
       "    .dataframe thead th {\n",
       "        text-align: right;\n",
       "    }\n",
       "</style>\n",
       "<table border=\"1\" class=\"dataframe\">\n",
       "  <thead>\n",
       "    <tr style=\"text-align: right;\">\n",
       "      <th></th>\n",
       "      <th>0</th>\n",
       "      <th>tcp</th>\n",
       "      <th>ftp_data</th>\n",
       "      <th>SF</th>\n",
       "      <th>491</th>\n",
       "      <th>0.1</th>\n",
       "      <th>0.2</th>\n",
       "      <th>0.3</th>\n",
       "      <th>0.4</th>\n",
       "      <th>0.5</th>\n",
       "      <th>...</th>\n",
       "      <th>0.17.1</th>\n",
       "      <th>0.03</th>\n",
       "      <th>0.17.2</th>\n",
       "      <th>0.00.6</th>\n",
       "      <th>0.00.7</th>\n",
       "      <th>0.00.8</th>\n",
       "      <th>0.05</th>\n",
       "      <th>0.00.9</th>\n",
       "      <th>normal</th>\n",
       "      <th>20</th>\n",
       "    </tr>\n",
       "  </thead>\n",
       "  <tbody>\n",
       "    <tr>\n",
       "      <td>0</td>\n",
       "      <td>0</td>\n",
       "      <td>udp</td>\n",
       "      <td>other</td>\n",
       "      <td>SF</td>\n",
       "      <td>146</td>\n",
       "      <td>0</td>\n",
       "      <td>0</td>\n",
       "      <td>0</td>\n",
       "      <td>0</td>\n",
       "      <td>0</td>\n",
       "      <td>...</td>\n",
       "      <td>0.0</td>\n",
       "      <td>0.60</td>\n",
       "      <td>0.88</td>\n",
       "      <td>0.00</td>\n",
       "      <td>0.00</td>\n",
       "      <td>0.00</td>\n",
       "      <td>0.0</td>\n",
       "      <td>0.00</td>\n",
       "      <td>normal</td>\n",
       "      <td>15</td>\n",
       "    </tr>\n",
       "    <tr>\n",
       "      <td>1</td>\n",
       "      <td>0</td>\n",
       "      <td>tcp</td>\n",
       "      <td>private</td>\n",
       "      <td>S0</td>\n",
       "      <td>0</td>\n",
       "      <td>0</td>\n",
       "      <td>0</td>\n",
       "      <td>0</td>\n",
       "      <td>0</td>\n",
       "      <td>0</td>\n",
       "      <td>...</td>\n",
       "      <td>0.1</td>\n",
       "      <td>0.05</td>\n",
       "      <td>0.00</td>\n",
       "      <td>0.00</td>\n",
       "      <td>1.00</td>\n",
       "      <td>1.00</td>\n",
       "      <td>0.0</td>\n",
       "      <td>0.00</td>\n",
       "      <td>neptune</td>\n",
       "      <td>19</td>\n",
       "    </tr>\n",
       "    <tr>\n",
       "      <td>2</td>\n",
       "      <td>0</td>\n",
       "      <td>tcp</td>\n",
       "      <td>http</td>\n",
       "      <td>SF</td>\n",
       "      <td>232</td>\n",
       "      <td>8153</td>\n",
       "      <td>0</td>\n",
       "      <td>0</td>\n",
       "      <td>0</td>\n",
       "      <td>0</td>\n",
       "      <td>...</td>\n",
       "      <td>1.0</td>\n",
       "      <td>0.00</td>\n",
       "      <td>0.03</td>\n",
       "      <td>0.04</td>\n",
       "      <td>0.03</td>\n",
       "      <td>0.01</td>\n",
       "      <td>0.0</td>\n",
       "      <td>0.01</td>\n",
       "      <td>normal</td>\n",
       "      <td>21</td>\n",
       "    </tr>\n",
       "  </tbody>\n",
       "</table>\n",
       "<p>3 rows × 43 columns</p>\n",
       "</div>"
      ],
      "text/plain": [
       "   0  tcp ftp_data  SF  491   0.1  0.2  0.3  0.4  0.5  ...  0.17.1  0.03  \\\n",
       "0  0  udp    other  SF  146     0    0    0    0    0  ...     0.0  0.60   \n",
       "1  0  tcp  private  S0    0     0    0    0    0    0  ...     0.1  0.05   \n",
       "2  0  tcp     http  SF  232  8153    0    0    0    0  ...     1.0  0.00   \n",
       "\n",
       "   0.17.2  0.00.6  0.00.7  0.00.8  0.05  0.00.9   normal  20  \n",
       "0    0.88    0.00    0.00    0.00   0.0    0.00   normal  15  \n",
       "1    0.00    0.00    1.00    1.00   0.0    0.00  neptune  19  \n",
       "2    0.03    0.04    0.03    0.01   0.0    0.01   normal  21  \n",
       "\n",
       "[3 rows x 43 columns]"
      ]
     },
     "execution_count": 5,
     "metadata": {},
     "output_type": "execute_result"
    }
   ],
   "source": [
    "train.head(3)"
   ]
  },
  {
   "cell_type": "code",
   "execution_count": 254,
   "metadata": {},
   "outputs": [],
   "source": [
    "test = pd.read_csv('c:/my_computer/data_file/NSL_Dataset/Test.txt')"
   ]
  },
  {
   "cell_type": "code",
   "execution_count": 7,
   "metadata": {},
   "outputs": [
    {
     "data": {
      "text/html": [
       "<div>\n",
       "<style scoped>\n",
       "    .dataframe tbody tr th:only-of-type {\n",
       "        vertical-align: middle;\n",
       "    }\n",
       "\n",
       "    .dataframe tbody tr th {\n",
       "        vertical-align: top;\n",
       "    }\n",
       "\n",
       "    .dataframe thead th {\n",
       "        text-align: right;\n",
       "    }\n",
       "</style>\n",
       "<table border=\"1\" class=\"dataframe\">\n",
       "  <thead>\n",
       "    <tr style=\"text-align: right;\">\n",
       "      <th></th>\n",
       "      <th>0</th>\n",
       "      <th>tcp</th>\n",
       "      <th>private</th>\n",
       "      <th>REJ</th>\n",
       "      <th>0.1</th>\n",
       "      <th>0.2</th>\n",
       "      <th>0.3</th>\n",
       "      <th>0.4</th>\n",
       "      <th>0.5</th>\n",
       "      <th>0.6</th>\n",
       "      <th>...</th>\n",
       "      <th>0.04.1</th>\n",
       "      <th>0.06.1</th>\n",
       "      <th>0.00.3</th>\n",
       "      <th>0.00.4</th>\n",
       "      <th>0.00.5</th>\n",
       "      <th>0.00.6</th>\n",
       "      <th>1.00.2</th>\n",
       "      <th>1.00.3</th>\n",
       "      <th>neptune</th>\n",
       "      <th>21</th>\n",
       "    </tr>\n",
       "  </thead>\n",
       "  <tbody>\n",
       "    <tr>\n",
       "      <td>0</td>\n",
       "      <td>0</td>\n",
       "      <td>tcp</td>\n",
       "      <td>private</td>\n",
       "      <td>REJ</td>\n",
       "      <td>0</td>\n",
       "      <td>0</td>\n",
       "      <td>0</td>\n",
       "      <td>0</td>\n",
       "      <td>0</td>\n",
       "      <td>0</td>\n",
       "      <td>...</td>\n",
       "      <td>0.00</td>\n",
       "      <td>0.06</td>\n",
       "      <td>0.00</td>\n",
       "      <td>0.00</td>\n",
       "      <td>0.0</td>\n",
       "      <td>0.0</td>\n",
       "      <td>1.0</td>\n",
       "      <td>1.0</td>\n",
       "      <td>neptune</td>\n",
       "      <td>21</td>\n",
       "    </tr>\n",
       "    <tr>\n",
       "      <td>1</td>\n",
       "      <td>2</td>\n",
       "      <td>tcp</td>\n",
       "      <td>ftp_data</td>\n",
       "      <td>SF</td>\n",
       "      <td>12983</td>\n",
       "      <td>0</td>\n",
       "      <td>0</td>\n",
       "      <td>0</td>\n",
       "      <td>0</td>\n",
       "      <td>0</td>\n",
       "      <td>...</td>\n",
       "      <td>0.61</td>\n",
       "      <td>0.04</td>\n",
       "      <td>0.61</td>\n",
       "      <td>0.02</td>\n",
       "      <td>0.0</td>\n",
       "      <td>0.0</td>\n",
       "      <td>0.0</td>\n",
       "      <td>0.0</td>\n",
       "      <td>normal</td>\n",
       "      <td>21</td>\n",
       "    </tr>\n",
       "    <tr>\n",
       "      <td>2</td>\n",
       "      <td>0</td>\n",
       "      <td>icmp</td>\n",
       "      <td>eco_i</td>\n",
       "      <td>SF</td>\n",
       "      <td>20</td>\n",
       "      <td>0</td>\n",
       "      <td>0</td>\n",
       "      <td>0</td>\n",
       "      <td>0</td>\n",
       "      <td>0</td>\n",
       "      <td>...</td>\n",
       "      <td>1.00</td>\n",
       "      <td>0.00</td>\n",
       "      <td>1.00</td>\n",
       "      <td>0.28</td>\n",
       "      <td>0.0</td>\n",
       "      <td>0.0</td>\n",
       "      <td>0.0</td>\n",
       "      <td>0.0</td>\n",
       "      <td>saint</td>\n",
       "      <td>15</td>\n",
       "    </tr>\n",
       "  </tbody>\n",
       "</table>\n",
       "<p>3 rows × 43 columns</p>\n",
       "</div>"
      ],
      "text/plain": [
       "   0   tcp   private  REJ    0.1  0.2  0.3  0.4  0.5  0.6  ...  0.04.1  \\\n",
       "0  0   tcp   private  REJ      0    0    0    0    0    0  ...    0.00   \n",
       "1  2   tcp  ftp_data   SF  12983    0    0    0    0    0  ...    0.61   \n",
       "2  0  icmp     eco_i   SF     20    0    0    0    0    0  ...    1.00   \n",
       "\n",
       "   0.06.1  0.00.3  0.00.4  0.00.5  0.00.6  1.00.2  1.00.3  neptune  21  \n",
       "0    0.06    0.00    0.00     0.0     0.0     1.0     1.0  neptune  21  \n",
       "1    0.04    0.61    0.02     0.0     0.0     0.0     0.0   normal  21  \n",
       "2    0.00    1.00    0.28     0.0     0.0     0.0     0.0    saint  15  \n",
       "\n",
       "[3 rows x 43 columns]"
      ]
     },
     "execution_count": 7,
     "metadata": {},
     "output_type": "execute_result"
    }
   ],
   "source": [
    "test.head(3)"
   ]
  },
  {
   "cell_type": "markdown",
   "metadata": {},
   "source": [
    "### data prepration"
   ]
  },
  {
   "cell_type": "code",
   "execution_count": 8,
   "metadata": {},
   "outputs": [
    {
     "data": {
      "text/html": [
       "<div>\n",
       "<style scoped>\n",
       "    .dataframe tbody tr th:only-of-type {\n",
       "        vertical-align: middle;\n",
       "    }\n",
       "\n",
       "    .dataframe tbody tr th {\n",
       "        vertical-align: top;\n",
       "    }\n",
       "\n",
       "    .dataframe thead th {\n",
       "        text-align: right;\n",
       "    }\n",
       "</style>\n",
       "<table border=\"1\" class=\"dataframe\">\n",
       "  <thead>\n",
       "    <tr style=\"text-align: right;\">\n",
       "      <th></th>\n",
       "      <th>duration</th>\n",
       "      <th>protocol_type</th>\n",
       "      <th>service</th>\n",
       "      <th>flag</th>\n",
       "      <th>src_bytes</th>\n",
       "      <th>dst_bytes</th>\n",
       "      <th>land</th>\n",
       "      <th>wrong_fragment</th>\n",
       "      <th>urgent</th>\n",
       "      <th>hot</th>\n",
       "      <th>...</th>\n",
       "      <th>dst_host_same_srv_rate</th>\n",
       "      <th>dst_host_diff_srv_rate</th>\n",
       "      <th>dst_host_same_src_port_rate</th>\n",
       "      <th>dst_host_srv_diff_host_rate</th>\n",
       "      <th>dst_host_serror_rate</th>\n",
       "      <th>dst_host_srv_serror_rate</th>\n",
       "      <th>dst_host_rerror_rate</th>\n",
       "      <th>dst_host_srv_rerror_rate</th>\n",
       "      <th>attack</th>\n",
       "      <th>last_flag</th>\n",
       "    </tr>\n",
       "  </thead>\n",
       "  <tbody>\n",
       "    <tr>\n",
       "      <td>0</td>\n",
       "      <td>0</td>\n",
       "      <td>udp</td>\n",
       "      <td>other</td>\n",
       "      <td>SF</td>\n",
       "      <td>146</td>\n",
       "      <td>0</td>\n",
       "      <td>0</td>\n",
       "      <td>0</td>\n",
       "      <td>0</td>\n",
       "      <td>0</td>\n",
       "      <td>...</td>\n",
       "      <td>0.0</td>\n",
       "      <td>0.60</td>\n",
       "      <td>0.88</td>\n",
       "      <td>0.00</td>\n",
       "      <td>0.00</td>\n",
       "      <td>0.00</td>\n",
       "      <td>0.0</td>\n",
       "      <td>0.00</td>\n",
       "      <td>normal</td>\n",
       "      <td>15</td>\n",
       "    </tr>\n",
       "    <tr>\n",
       "      <td>1</td>\n",
       "      <td>0</td>\n",
       "      <td>tcp</td>\n",
       "      <td>private</td>\n",
       "      <td>S0</td>\n",
       "      <td>0</td>\n",
       "      <td>0</td>\n",
       "      <td>0</td>\n",
       "      <td>0</td>\n",
       "      <td>0</td>\n",
       "      <td>0</td>\n",
       "      <td>...</td>\n",
       "      <td>0.1</td>\n",
       "      <td>0.05</td>\n",
       "      <td>0.00</td>\n",
       "      <td>0.00</td>\n",
       "      <td>1.00</td>\n",
       "      <td>1.00</td>\n",
       "      <td>0.0</td>\n",
       "      <td>0.00</td>\n",
       "      <td>neptune</td>\n",
       "      <td>19</td>\n",
       "    </tr>\n",
       "    <tr>\n",
       "      <td>2</td>\n",
       "      <td>0</td>\n",
       "      <td>tcp</td>\n",
       "      <td>http</td>\n",
       "      <td>SF</td>\n",
       "      <td>232</td>\n",
       "      <td>8153</td>\n",
       "      <td>0</td>\n",
       "      <td>0</td>\n",
       "      <td>0</td>\n",
       "      <td>0</td>\n",
       "      <td>...</td>\n",
       "      <td>1.0</td>\n",
       "      <td>0.00</td>\n",
       "      <td>0.03</td>\n",
       "      <td>0.04</td>\n",
       "      <td>0.03</td>\n",
       "      <td>0.01</td>\n",
       "      <td>0.0</td>\n",
       "      <td>0.01</td>\n",
       "      <td>normal</td>\n",
       "      <td>21</td>\n",
       "    </tr>\n",
       "  </tbody>\n",
       "</table>\n",
       "<p>3 rows × 43 columns</p>\n",
       "</div>"
      ],
      "text/plain": [
       "   duration protocol_type  service flag  src_bytes  dst_bytes  land  \\\n",
       "0         0           udp    other   SF        146          0     0   \n",
       "1         0           tcp  private   S0          0          0     0   \n",
       "2         0           tcp     http   SF        232       8153     0   \n",
       "\n",
       "   wrong_fragment  urgent  hot  ...  dst_host_same_srv_rate  \\\n",
       "0               0       0    0  ...                     0.0   \n",
       "1               0       0    0  ...                     0.1   \n",
       "2               0       0    0  ...                     1.0   \n",
       "\n",
       "   dst_host_diff_srv_rate  dst_host_same_src_port_rate  \\\n",
       "0                    0.60                         0.88   \n",
       "1                    0.05                         0.00   \n",
       "2                    0.00                         0.03   \n",
       "\n",
       "   dst_host_srv_diff_host_rate  dst_host_serror_rate  \\\n",
       "0                         0.00                  0.00   \n",
       "1                         0.00                  1.00   \n",
       "2                         0.04                  0.03   \n",
       "\n",
       "   dst_host_srv_serror_rate  dst_host_rerror_rate  dst_host_srv_rerror_rate  \\\n",
       "0                      0.00                   0.0                      0.00   \n",
       "1                      1.00                   0.0                      0.00   \n",
       "2                      0.01                   0.0                      0.01   \n",
       "\n",
       "    attack  last_flag  \n",
       "0   normal         15  \n",
       "1  neptune         19  \n",
       "2   normal         21  \n",
       "\n",
       "[3 rows x 43 columns]"
      ]
     },
     "execution_count": 8,
     "metadata": {},
     "output_type": "execute_result"
    }
   ],
   "source": [
    "col_list = [\"duration\",\"protocol_type\",\"service\",\"flag\",\"src_bytes\",\"dst_bytes\",\"land\",\"wrong_fragment\",\n",
    "            \"urgent\",\"hot\",\"num_failed_logins\",\"logged_in\",\"num_compromised\",\"root_shell\",\"su_attempted\",\n",
    "            \"num_root\",\"num_file_creations\",\"num_shells\",\"num_access_files\",\"num_outbound_cmds\",\"is_host_login\",\n",
    "            \"is_guest_login\",\"count\",\"srv_count\",\"serror_rate\", \"srv_serror_rate\",\"rerror_rate\",\"srv_rerror_rate\",\n",
    "            \"same_srv_rate\", \"diff_srv_rate\",\"srv_diff_host_rate\",\"dst_host_count\",\"dst_host_srv_count\",\n",
    "            \"dst_host_same_srv_rate\",\"dst_host_diff_srv_rate\",\"dst_host_same_src_port_rate\",\n",
    "            \"dst_host_srv_diff_host_rate\",\"dst_host_serror_rate\",\"dst_host_srv_serror_rate\",\n",
    "            \"dst_host_rerror_rate\",\"dst_host_srv_rerror_rate\",\"attack\", \"last_flag\"]\n",
    "\n",
    "train.columns = col_list\n",
    "\n",
    "train.head(3)"
   ]
  },
  {
   "cell_type": "code",
   "execution_count": 256,
   "metadata": {},
   "outputs": [
    {
     "data": {
      "text/html": [
       "<div>\n",
       "<style scoped>\n",
       "    .dataframe tbody tr th:only-of-type {\n",
       "        vertical-align: middle;\n",
       "    }\n",
       "\n",
       "    .dataframe tbody tr th {\n",
       "        vertical-align: top;\n",
       "    }\n",
       "\n",
       "    .dataframe thead th {\n",
       "        text-align: right;\n",
       "    }\n",
       "</style>\n",
       "<table border=\"1\" class=\"dataframe\">\n",
       "  <thead>\n",
       "    <tr style=\"text-align: right;\">\n",
       "      <th></th>\n",
       "      <th>duration</th>\n",
       "      <th>protocol_type</th>\n",
       "      <th>service</th>\n",
       "      <th>flag</th>\n",
       "      <th>src_bytes</th>\n",
       "      <th>dst_bytes</th>\n",
       "      <th>land</th>\n",
       "      <th>wrong_fragment</th>\n",
       "      <th>urgent</th>\n",
       "      <th>hot</th>\n",
       "      <th>...</th>\n",
       "      <th>dst_host_same_srv_rate</th>\n",
       "      <th>dst_host_diff_srv_rate</th>\n",
       "      <th>dst_host_same_src_port_rate</th>\n",
       "      <th>dst_host_srv_diff_host_rate</th>\n",
       "      <th>dst_host_serror_rate</th>\n",
       "      <th>dst_host_srv_serror_rate</th>\n",
       "      <th>dst_host_rerror_rate</th>\n",
       "      <th>dst_host_srv_rerror_rate</th>\n",
       "      <th>attack</th>\n",
       "      <th>last_flag</th>\n",
       "    </tr>\n",
       "  </thead>\n",
       "  <tbody>\n",
       "    <tr>\n",
       "      <td>0</td>\n",
       "      <td>0</td>\n",
       "      <td>tcp</td>\n",
       "      <td>private</td>\n",
       "      <td>REJ</td>\n",
       "      <td>0</td>\n",
       "      <td>0</td>\n",
       "      <td>0</td>\n",
       "      <td>0</td>\n",
       "      <td>0</td>\n",
       "      <td>0</td>\n",
       "      <td>...</td>\n",
       "      <td>0.00</td>\n",
       "      <td>0.06</td>\n",
       "      <td>0.00</td>\n",
       "      <td>0.00</td>\n",
       "      <td>0.0</td>\n",
       "      <td>0.0</td>\n",
       "      <td>1.0</td>\n",
       "      <td>1.0</td>\n",
       "      <td>neptune</td>\n",
       "      <td>21</td>\n",
       "    </tr>\n",
       "    <tr>\n",
       "      <td>1</td>\n",
       "      <td>2</td>\n",
       "      <td>tcp</td>\n",
       "      <td>ftp_data</td>\n",
       "      <td>SF</td>\n",
       "      <td>12983</td>\n",
       "      <td>0</td>\n",
       "      <td>0</td>\n",
       "      <td>0</td>\n",
       "      <td>0</td>\n",
       "      <td>0</td>\n",
       "      <td>...</td>\n",
       "      <td>0.61</td>\n",
       "      <td>0.04</td>\n",
       "      <td>0.61</td>\n",
       "      <td>0.02</td>\n",
       "      <td>0.0</td>\n",
       "      <td>0.0</td>\n",
       "      <td>0.0</td>\n",
       "      <td>0.0</td>\n",
       "      <td>normal</td>\n",
       "      <td>21</td>\n",
       "    </tr>\n",
       "    <tr>\n",
       "      <td>2</td>\n",
       "      <td>0</td>\n",
       "      <td>icmp</td>\n",
       "      <td>eco_i</td>\n",
       "      <td>SF</td>\n",
       "      <td>20</td>\n",
       "      <td>0</td>\n",
       "      <td>0</td>\n",
       "      <td>0</td>\n",
       "      <td>0</td>\n",
       "      <td>0</td>\n",
       "      <td>...</td>\n",
       "      <td>1.00</td>\n",
       "      <td>0.00</td>\n",
       "      <td>1.00</td>\n",
       "      <td>0.28</td>\n",
       "      <td>0.0</td>\n",
       "      <td>0.0</td>\n",
       "      <td>0.0</td>\n",
       "      <td>0.0</td>\n",
       "      <td>saint</td>\n",
       "      <td>15</td>\n",
       "    </tr>\n",
       "  </tbody>\n",
       "</table>\n",
       "<p>3 rows × 43 columns</p>\n",
       "</div>"
      ],
      "text/plain": [
       "   duration protocol_type   service flag  src_bytes  dst_bytes  land  \\\n",
       "0         0           tcp   private  REJ          0          0     0   \n",
       "1         2           tcp  ftp_data   SF      12983          0     0   \n",
       "2         0          icmp     eco_i   SF         20          0     0   \n",
       "\n",
       "   wrong_fragment  urgent  hot  ...  dst_host_same_srv_rate  \\\n",
       "0               0       0    0  ...                    0.00   \n",
       "1               0       0    0  ...                    0.61   \n",
       "2               0       0    0  ...                    1.00   \n",
       "\n",
       "   dst_host_diff_srv_rate  dst_host_same_src_port_rate  \\\n",
       "0                    0.06                         0.00   \n",
       "1                    0.04                         0.61   \n",
       "2                    0.00                         1.00   \n",
       "\n",
       "   dst_host_srv_diff_host_rate  dst_host_serror_rate  \\\n",
       "0                         0.00                   0.0   \n",
       "1                         0.02                   0.0   \n",
       "2                         0.28                   0.0   \n",
       "\n",
       "   dst_host_srv_serror_rate  dst_host_rerror_rate  dst_host_srv_rerror_rate  \\\n",
       "0                       0.0                   1.0                       1.0   \n",
       "1                       0.0                   0.0                       0.0   \n",
       "2                       0.0                   0.0                       0.0   \n",
       "\n",
       "    attack  last_flag  \n",
       "0  neptune         21  \n",
       "1   normal         21  \n",
       "2    saint         15  \n",
       "\n",
       "[3 rows x 43 columns]"
      ]
     },
     "execution_count": 256,
     "metadata": {},
     "output_type": "execute_result"
    }
   ],
   "source": [
    "test.columns = col_list\n",
    "test.head(3)"
   ]
  },
  {
   "cell_type": "markdown",
   "metadata": {},
   "source": [
    "### missing values"
   ]
  },
  {
   "cell_type": "code",
   "execution_count": 10,
   "metadata": {},
   "outputs": [],
   "source": [
    "# Treating Missing values\n",
    "def missing_values(x, stats = 'mean'):\n",
    "    if (x.dtypes == 'float64') | (x.dtypes == 'int64'):\n",
    "         x = x.fillna(x.mean()) if stats == 'mean' else x.fillna(x.median())\n",
    "    else:\n",
    "        x = x.fillna(x.mode()[0])\n",
    "    return x"
   ]
  },
  {
   "cell_type": "code",
   "execution_count": 11,
   "metadata": {},
   "outputs": [],
   "source": [
    "train = train.apply(missing_values)"
   ]
  },
  {
   "cell_type": "code",
   "execution_count": 12,
   "metadata": {},
   "outputs": [],
   "source": [
    "test = test.apply(missing_values)"
   ]
  },
  {
   "cell_type": "code",
   "execution_count": 13,
   "metadata": {},
   "outputs": [],
   "source": [
    "cat_list = ['protocol_type','service','flag','land','logged_in','root_shell','urgent','num_failed_logins',\n",
    "            'su_attempted','is_host_login','is_guest_login','attack','wrong_fragment','num_shells','num_outbound_cmds']"
   ]
  },
  {
   "cell_type": "code",
   "execution_count": 14,
   "metadata": {},
   "outputs": [],
   "source": [
    "num_list = ['duration','src_bytes','dst_bytes','hot',\n",
    "            'num_compromised','num_root','num_file_creations','last_flag','num_access_files',\n",
    "            'count','srv_count','serror_rate','srv_serror_rate','rerror_rate',\n",
    "            'srv_rerror_rate','same_srv_rate','diff_srv_rate','srv_diff_host_rate','dst_host_count',\n",
    "            'dst_host_srv_count','dst_host_same_srv_rate','dst_host_diff_srv_rate',\n",
    "            'dst_host_same_src_port_rate','dst_host_srv_diff_host_rate','dst_host_serror_rate',\n",
    "            'dst_host_srv_serror_rate','dst_host_rerror_rate','dst_host_srv_rerror_rate']"
   ]
  },
  {
   "cell_type": "code",
   "execution_count": 15,
   "metadata": {},
   "outputs": [],
   "source": [
    "train_cat = train[cat_list]\n",
    "\n",
    "train_num = train[num_list]"
   ]
  },
  {
   "cell_type": "code",
   "execution_count": 16,
   "metadata": {},
   "outputs": [],
   "source": [
    "test_cat = test[cat_list]\n",
    "\n",
    "test_num = test[num_list]"
   ]
  },
  {
   "cell_type": "markdown",
   "metadata": {},
   "source": [
    "### data analysis"
   ]
  },
  {
   "cell_type": "code",
   "execution_count": 17,
   "metadata": {},
   "outputs": [],
   "source": [
    "#Numerical data Analysis :\n",
    "def var_summary(x):\n",
    "    return pd.Series([x.count(), x.isnull().sum(),x.nunique(), x.sum(), x.mean(), x.median(),  x.std(), x.var(),\n",
    "                      x.min(), x.dropna().quantile(0.01), x.dropna().quantile(0.05),x.dropna().quantile(0.10),\n",
    "                      x.dropna().quantile(0.25),x.dropna().quantile(0.50),x.dropna().quantile(0.75),\n",
    "                      x.dropna().quantile(0.90),x.dropna().quantile(0.95), x.dropna().quantile(0.99),x.max()], \n",
    "                  index=['N', 'NMISS','nunique', 'SUM', 'MEAN','MEDIAN', 'STD', 'VAR', 'MIN', 'P1' , 'P5' ,\n",
    "                         'P10' ,'P25' ,'P50' ,'P75' ,'P90' ,'P95' ,'P99' ,'MAX'])"
   ]
  },
  {
   "cell_type": "code",
   "execution_count": 18,
   "metadata": {
    "scrolled": true
   },
   "outputs": [
    {
     "data": {
      "text/html": [
       "<div>\n",
       "<style scoped>\n",
       "    .dataframe tbody tr th:only-of-type {\n",
       "        vertical-align: middle;\n",
       "    }\n",
       "\n",
       "    .dataframe tbody tr th {\n",
       "        vertical-align: top;\n",
       "    }\n",
       "\n",
       "    .dataframe thead th {\n",
       "        text-align: right;\n",
       "    }\n",
       "</style>\n",
       "<table border=\"1\" class=\"dataframe\">\n",
       "  <thead>\n",
       "    <tr style=\"text-align: right;\">\n",
       "      <th></th>\n",
       "      <th>N</th>\n",
       "      <th>NMISS</th>\n",
       "      <th>nunique</th>\n",
       "      <th>SUM</th>\n",
       "      <th>MEAN</th>\n",
       "      <th>MEDIAN</th>\n",
       "      <th>STD</th>\n",
       "      <th>VAR</th>\n",
       "      <th>MIN</th>\n",
       "      <th>P1</th>\n",
       "      <th>P5</th>\n",
       "      <th>P10</th>\n",
       "      <th>P25</th>\n",
       "      <th>P50</th>\n",
       "      <th>P75</th>\n",
       "      <th>P90</th>\n",
       "      <th>P95</th>\n",
       "      <th>P99</th>\n",
       "      <th>MAX</th>\n",
       "    </tr>\n",
       "  </thead>\n",
       "  <tbody>\n",
       "    <tr>\n",
       "      <td>duration</td>\n",
       "      <td>125972.0</td>\n",
       "      <td>0.0</td>\n",
       "      <td>2981.0</td>\n",
       "      <td>3.617247e+07</td>\n",
       "      <td>287.146929</td>\n",
       "      <td>0.00</td>\n",
       "      <td>2.604526e+03</td>\n",
       "      <td>6.783553e+06</td>\n",
       "      <td>0.0</td>\n",
       "      <td>0.0</td>\n",
       "      <td>0.00</td>\n",
       "      <td>0.00</td>\n",
       "      <td>0.00</td>\n",
       "      <td>0.00</td>\n",
       "      <td>0.00</td>\n",
       "      <td>0.00</td>\n",
       "      <td>4.00</td>\n",
       "      <td>9590.58</td>\n",
       "      <td>4.290800e+04</td>\n",
       "    </tr>\n",
       "    <tr>\n",
       "      <td>src_bytes</td>\n",
       "      <td>125972.0</td>\n",
       "      <td>0.0</td>\n",
       "      <td>3341.0</td>\n",
       "      <td>5.740179e+09</td>\n",
       "      <td>45567.100824</td>\n",
       "      <td>44.00</td>\n",
       "      <td>5.870354e+06</td>\n",
       "      <td>3.446106e+13</td>\n",
       "      <td>0.0</td>\n",
       "      <td>0.0</td>\n",
       "      <td>0.00</td>\n",
       "      <td>0.00</td>\n",
       "      <td>0.00</td>\n",
       "      <td>44.00</td>\n",
       "      <td>276.00</td>\n",
       "      <td>848.00</td>\n",
       "      <td>1480.00</td>\n",
       "      <td>54540.00</td>\n",
       "      <td>1.379964e+09</td>\n",
       "    </tr>\n",
       "    <tr>\n",
       "      <td>dst_bytes</td>\n",
       "      <td>125972.0</td>\n",
       "      <td>0.0</td>\n",
       "      <td>9326.0</td>\n",
       "      <td>2.491634e+09</td>\n",
       "      <td>19779.271433</td>\n",
       "      <td>0.00</td>\n",
       "      <td>4.021285e+06</td>\n",
       "      <td>1.617073e+13</td>\n",
       "      <td>0.0</td>\n",
       "      <td>0.0</td>\n",
       "      <td>0.00</td>\n",
       "      <td>0.00</td>\n",
       "      <td>0.00</td>\n",
       "      <td>0.00</td>\n",
       "      <td>516.00</td>\n",
       "      <td>3375.90</td>\n",
       "      <td>8314.00</td>\n",
       "      <td>25519.00</td>\n",
       "      <td>1.309937e+09</td>\n",
       "    </tr>\n",
       "    <tr>\n",
       "      <td>hot</td>\n",
       "      <td>125972.0</td>\n",
       "      <td>0.0</td>\n",
       "      <td>28.0</td>\n",
       "      <td>2.575000e+04</td>\n",
       "      <td>0.204411</td>\n",
       "      <td>0.00</td>\n",
       "      <td>2.149977e+00</td>\n",
       "      <td>4.622401e+00</td>\n",
       "      <td>0.0</td>\n",
       "      <td>0.0</td>\n",
       "      <td>0.00</td>\n",
       "      <td>0.00</td>\n",
       "      <td>0.00</td>\n",
       "      <td>0.00</td>\n",
       "      <td>0.00</td>\n",
       "      <td>0.00</td>\n",
       "      <td>0.00</td>\n",
       "      <td>3.00</td>\n",
       "      <td>7.700000e+01</td>\n",
       "    </tr>\n",
       "    <tr>\n",
       "      <td>num_compromised</td>\n",
       "      <td>125972.0</td>\n",
       "      <td>0.0</td>\n",
       "      <td>88.0</td>\n",
       "      <td>3.517800e+04</td>\n",
       "      <td>0.279253</td>\n",
       "      <td>0.00</td>\n",
       "      <td>2.394214e+01</td>\n",
       "      <td>5.732259e+02</td>\n",
       "      <td>0.0</td>\n",
       "      <td>0.0</td>\n",
       "      <td>0.00</td>\n",
       "      <td>0.00</td>\n",
       "      <td>0.00</td>\n",
       "      <td>0.00</td>\n",
       "      <td>0.00</td>\n",
       "      <td>0.00</td>\n",
       "      <td>0.00</td>\n",
       "      <td>1.00</td>\n",
       "      <td>7.479000e+03</td>\n",
       "    </tr>\n",
       "    <tr>\n",
       "      <td>num_root</td>\n",
       "      <td>125972.0</td>\n",
       "      <td>0.0</td>\n",
       "      <td>82.0</td>\n",
       "      <td>3.806800e+04</td>\n",
       "      <td>0.302194</td>\n",
       "      <td>0.00</td>\n",
       "      <td>2.439971e+01</td>\n",
       "      <td>5.953461e+02</td>\n",
       "      <td>0.0</td>\n",
       "      <td>0.0</td>\n",
       "      <td>0.00</td>\n",
       "      <td>0.00</td>\n",
       "      <td>0.00</td>\n",
       "      <td>0.00</td>\n",
       "      <td>0.00</td>\n",
       "      <td>0.00</td>\n",
       "      <td>0.00</td>\n",
       "      <td>0.00</td>\n",
       "      <td>7.468000e+03</td>\n",
       "    </tr>\n",
       "    <tr>\n",
       "      <td>num_file_creations</td>\n",
       "      <td>125972.0</td>\n",
       "      <td>0.0</td>\n",
       "      <td>35.0</td>\n",
       "      <td>1.596000e+03</td>\n",
       "      <td>0.012669</td>\n",
       "      <td>0.00</td>\n",
       "      <td>4.839370e-01</td>\n",
       "      <td>2.341950e-01</td>\n",
       "      <td>0.0</td>\n",
       "      <td>0.0</td>\n",
       "      <td>0.00</td>\n",
       "      <td>0.00</td>\n",
       "      <td>0.00</td>\n",
       "      <td>0.00</td>\n",
       "      <td>0.00</td>\n",
       "      <td>0.00</td>\n",
       "      <td>0.00</td>\n",
       "      <td>0.00</td>\n",
       "      <td>4.300000e+01</td>\n",
       "    </tr>\n",
       "    <tr>\n",
       "      <td>last_flag</td>\n",
       "      <td>125972.0</td>\n",
       "      <td>0.0</td>\n",
       "      <td>22.0</td>\n",
       "      <td>2.456965e+06</td>\n",
       "      <td>19.504056</td>\n",
       "      <td>20.00</td>\n",
       "      <td>2.291512e+00</td>\n",
       "      <td>5.251025e+00</td>\n",
       "      <td>0.0</td>\n",
       "      <td>11.0</td>\n",
       "      <td>15.00</td>\n",
       "      <td>17.00</td>\n",
       "      <td>18.00</td>\n",
       "      <td>20.00</td>\n",
       "      <td>21.00</td>\n",
       "      <td>21.00</td>\n",
       "      <td>21.00</td>\n",
       "      <td>21.00</td>\n",
       "      <td>2.100000e+01</td>\n",
       "    </tr>\n",
       "    <tr>\n",
       "      <td>num_access_files</td>\n",
       "      <td>125972.0</td>\n",
       "      <td>0.0</td>\n",
       "      <td>10.0</td>\n",
       "      <td>5.160000e+02</td>\n",
       "      <td>0.004096</td>\n",
       "      <td>0.00</td>\n",
       "      <td>9.936995e-02</td>\n",
       "      <td>9.874387e-03</td>\n",
       "      <td>0.0</td>\n",
       "      <td>0.0</td>\n",
       "      <td>0.00</td>\n",
       "      <td>0.00</td>\n",
       "      <td>0.00</td>\n",
       "      <td>0.00</td>\n",
       "      <td>0.00</td>\n",
       "      <td>0.00</td>\n",
       "      <td>0.00</td>\n",
       "      <td>0.00</td>\n",
       "      <td>9.000000e+00</td>\n",
       "    </tr>\n",
       "    <tr>\n",
       "      <td>count</td>\n",
       "      <td>125972.0</td>\n",
       "      <td>0.0</td>\n",
       "      <td>512.0</td>\n",
       "      <td>1.059528e+07</td>\n",
       "      <td>84.108207</td>\n",
       "      <td>14.00</td>\n",
       "      <td>1.145088e+02</td>\n",
       "      <td>1.311227e+04</td>\n",
       "      <td>0.0</td>\n",
       "      <td>1.0</td>\n",
       "      <td>1.00</td>\n",
       "      <td>1.00</td>\n",
       "      <td>2.00</td>\n",
       "      <td>14.00</td>\n",
       "      <td>143.00</td>\n",
       "      <td>256.00</td>\n",
       "      <td>286.00</td>\n",
       "      <td>511.00</td>\n",
       "      <td>5.110000e+02</td>\n",
       "    </tr>\n",
       "    <tr>\n",
       "      <td>srv_count</td>\n",
       "      <td>125972.0</td>\n",
       "      <td>0.0</td>\n",
       "      <td>509.0</td>\n",
       "      <td>3.494223e+06</td>\n",
       "      <td>27.738093</td>\n",
       "      <td>8.00</td>\n",
       "      <td>7.263609e+01</td>\n",
       "      <td>5.276002e+03</td>\n",
       "      <td>0.0</td>\n",
       "      <td>1.0</td>\n",
       "      <td>1.00</td>\n",
       "      <td>1.00</td>\n",
       "      <td>2.00</td>\n",
       "      <td>8.00</td>\n",
       "      <td>18.00</td>\n",
       "      <td>40.00</td>\n",
       "      <td>158.00</td>\n",
       "      <td>492.00</td>\n",
       "      <td>5.110000e+02</td>\n",
       "    </tr>\n",
       "    <tr>\n",
       "      <td>serror_rate</td>\n",
       "      <td>125972.0</td>\n",
       "      <td>0.0</td>\n",
       "      <td>89.0</td>\n",
       "      <td>3.583737e+04</td>\n",
       "      <td>0.284487</td>\n",
       "      <td>0.00</td>\n",
       "      <td>4.464567e-01</td>\n",
       "      <td>1.993236e-01</td>\n",
       "      <td>0.0</td>\n",
       "      <td>0.0</td>\n",
       "      <td>0.00</td>\n",
       "      <td>0.00</td>\n",
       "      <td>0.00</td>\n",
       "      <td>0.00</td>\n",
       "      <td>1.00</td>\n",
       "      <td>1.00</td>\n",
       "      <td>1.00</td>\n",
       "      <td>1.00</td>\n",
       "      <td>1.000000e+00</td>\n",
       "    </tr>\n",
       "    <tr>\n",
       "      <td>srv_serror_rate</td>\n",
       "      <td>125972.0</td>\n",
       "      <td>0.0</td>\n",
       "      <td>86.0</td>\n",
       "      <td>3.558553e+04</td>\n",
       "      <td>0.282488</td>\n",
       "      <td>0.00</td>\n",
       "      <td>4.470236e-01</td>\n",
       "      <td>1.998301e-01</td>\n",
       "      <td>0.0</td>\n",
       "      <td>0.0</td>\n",
       "      <td>0.00</td>\n",
       "      <td>0.00</td>\n",
       "      <td>0.00</td>\n",
       "      <td>0.00</td>\n",
       "      <td>1.00</td>\n",
       "      <td>1.00</td>\n",
       "      <td>1.00</td>\n",
       "      <td>1.00</td>\n",
       "      <td>1.000000e+00</td>\n",
       "    </tr>\n",
       "    <tr>\n",
       "      <td>rerror_rate</td>\n",
       "      <td>125972.0</td>\n",
       "      <td>0.0</td>\n",
       "      <td>82.0</td>\n",
       "      <td>1.511153e+04</td>\n",
       "      <td>0.119959</td>\n",
       "      <td>0.00</td>\n",
       "      <td>3.204366e-01</td>\n",
       "      <td>1.026796e-01</td>\n",
       "      <td>0.0</td>\n",
       "      <td>0.0</td>\n",
       "      <td>0.00</td>\n",
       "      <td>0.00</td>\n",
       "      <td>0.00</td>\n",
       "      <td>0.00</td>\n",
       "      <td>0.00</td>\n",
       "      <td>1.00</td>\n",
       "      <td>1.00</td>\n",
       "      <td>1.00</td>\n",
       "      <td>1.000000e+00</td>\n",
       "    </tr>\n",
       "    <tr>\n",
       "      <td>srv_rerror_rate</td>\n",
       "      <td>125972.0</td>\n",
       "      <td>0.0</td>\n",
       "      <td>62.0</td>\n",
       "      <td>1.526582e+04</td>\n",
       "      <td>0.121184</td>\n",
       "      <td>0.00</td>\n",
       "      <td>3.236483e-01</td>\n",
       "      <td>1.047482e-01</td>\n",
       "      <td>0.0</td>\n",
       "      <td>0.0</td>\n",
       "      <td>0.00</td>\n",
       "      <td>0.00</td>\n",
       "      <td>0.00</td>\n",
       "      <td>0.00</td>\n",
       "      <td>0.00</td>\n",
       "      <td>1.00</td>\n",
       "      <td>1.00</td>\n",
       "      <td>1.00</td>\n",
       "      <td>1.000000e+00</td>\n",
       "    </tr>\n",
       "    <tr>\n",
       "      <td>same_srv_rate</td>\n",
       "      <td>125972.0</td>\n",
       "      <td>0.0</td>\n",
       "      <td>101.0</td>\n",
       "      <td>8.325804e+04</td>\n",
       "      <td>0.660925</td>\n",
       "      <td>1.00</td>\n",
       "      <td>4.396236e-01</td>\n",
       "      <td>1.932689e-01</td>\n",
       "      <td>0.0</td>\n",
       "      <td>0.0</td>\n",
       "      <td>0.01</td>\n",
       "      <td>0.03</td>\n",
       "      <td>0.09</td>\n",
       "      <td>1.00</td>\n",
       "      <td>1.00</td>\n",
       "      <td>1.00</td>\n",
       "      <td>1.00</td>\n",
       "      <td>1.00</td>\n",
       "      <td>1.000000e+00</td>\n",
       "    </tr>\n",
       "    <tr>\n",
       "      <td>diff_srv_rate</td>\n",
       "      <td>125972.0</td>\n",
       "      <td>0.0</td>\n",
       "      <td>95.0</td>\n",
       "      <td>7.942930e+03</td>\n",
       "      <td>0.063053</td>\n",
       "      <td>0.00</td>\n",
       "      <td>1.803150e-01</td>\n",
       "      <td>3.251351e-02</td>\n",
       "      <td>0.0</td>\n",
       "      <td>0.0</td>\n",
       "      <td>0.00</td>\n",
       "      <td>0.00</td>\n",
       "      <td>0.00</td>\n",
       "      <td>0.00</td>\n",
       "      <td>0.06</td>\n",
       "      <td>0.07</td>\n",
       "      <td>0.29</td>\n",
       "      <td>1.00</td>\n",
       "      <td>1.000000e+00</td>\n",
       "    </tr>\n",
       "    <tr>\n",
       "      <td>srv_diff_host_rate</td>\n",
       "      <td>125972.0</td>\n",
       "      <td>0.0</td>\n",
       "      <td>60.0</td>\n",
       "      <td>1.225990e+04</td>\n",
       "      <td>0.097322</td>\n",
       "      <td>0.00</td>\n",
       "      <td>2.598314e-01</td>\n",
       "      <td>6.751235e-02</td>\n",
       "      <td>0.0</td>\n",
       "      <td>0.0</td>\n",
       "      <td>0.00</td>\n",
       "      <td>0.00</td>\n",
       "      <td>0.00</td>\n",
       "      <td>0.00</td>\n",
       "      <td>0.00</td>\n",
       "      <td>0.31</td>\n",
       "      <td>1.00</td>\n",
       "      <td>1.00</td>\n",
       "      <td>1.000000e+00</td>\n",
       "    </tr>\n",
       "    <tr>\n",
       "      <td>dst_host_count</td>\n",
       "      <td>125972.0</td>\n",
       "      <td>0.0</td>\n",
       "      <td>256.0</td>\n",
       "      <td>2.294570e+07</td>\n",
       "      <td>182.149200</td>\n",
       "      <td>255.00</td>\n",
       "      <td>9.920657e+01</td>\n",
       "      <td>9.841943e+03</td>\n",
       "      <td>0.0</td>\n",
       "      <td>1.0</td>\n",
       "      <td>3.00</td>\n",
       "      <td>11.00</td>\n",
       "      <td>82.00</td>\n",
       "      <td>255.00</td>\n",
       "      <td>255.00</td>\n",
       "      <td>255.00</td>\n",
       "      <td>255.00</td>\n",
       "      <td>255.00</td>\n",
       "      <td>2.550000e+02</td>\n",
       "    </tr>\n",
       "    <tr>\n",
       "      <td>dst_host_srv_count</td>\n",
       "      <td>125972.0</td>\n",
       "      <td>0.0</td>\n",
       "      <td>256.0</td>\n",
       "      <td>1.456913e+07</td>\n",
       "      <td>115.653725</td>\n",
       "      <td>63.00</td>\n",
       "      <td>1.107029e+02</td>\n",
       "      <td>1.225513e+04</td>\n",
       "      <td>0.0</td>\n",
       "      <td>1.0</td>\n",
       "      <td>1.00</td>\n",
       "      <td>2.00</td>\n",
       "      <td>10.00</td>\n",
       "      <td>63.00</td>\n",
       "      <td>255.00</td>\n",
       "      <td>255.00</td>\n",
       "      <td>255.00</td>\n",
       "      <td>255.00</td>\n",
       "      <td>2.550000e+02</td>\n",
       "    </tr>\n",
       "    <tr>\n",
       "      <td>dst_host_same_srv_rate</td>\n",
       "      <td>125972.0</td>\n",
       "      <td>0.0</td>\n",
       "      <td>101.0</td>\n",
       "      <td>6.566221e+04</td>\n",
       "      <td>0.521244</td>\n",
       "      <td>0.51</td>\n",
       "      <td>4.489501e-01</td>\n",
       "      <td>2.015562e-01</td>\n",
       "      <td>0.0</td>\n",
       "      <td>0.0</td>\n",
       "      <td>0.00</td>\n",
       "      <td>0.01</td>\n",
       "      <td>0.05</td>\n",
       "      <td>0.51</td>\n",
       "      <td>1.00</td>\n",
       "      <td>1.00</td>\n",
       "      <td>1.00</td>\n",
       "      <td>1.00</td>\n",
       "      <td>1.000000e+00</td>\n",
       "    </tr>\n",
       "    <tr>\n",
       "      <td>dst_host_diff_srv_rate</td>\n",
       "      <td>125972.0</td>\n",
       "      <td>0.0</td>\n",
       "      <td>101.0</td>\n",
       "      <td>1.044957e+04</td>\n",
       "      <td>0.082952</td>\n",
       "      <td>0.02</td>\n",
       "      <td>1.889225e-01</td>\n",
       "      <td>3.569171e-02</td>\n",
       "      <td>0.0</td>\n",
       "      <td>0.0</td>\n",
       "      <td>0.00</td>\n",
       "      <td>0.00</td>\n",
       "      <td>0.00</td>\n",
       "      <td>0.02</td>\n",
       "      <td>0.07</td>\n",
       "      <td>0.10</td>\n",
       "      <td>0.56</td>\n",
       "      <td>1.00</td>\n",
       "      <td>1.000000e+00</td>\n",
       "    </tr>\n",
       "    <tr>\n",
       "      <td>dst_host_same_src_port_rate</td>\n",
       "      <td>125972.0</td>\n",
       "      <td>0.0</td>\n",
       "      <td>101.0</td>\n",
       "      <td>1.869156e+04</td>\n",
       "      <td>0.148379</td>\n",
       "      <td>0.00</td>\n",
       "      <td>3.089984e-01</td>\n",
       "      <td>9.547998e-02</td>\n",
       "      <td>0.0</td>\n",
       "      <td>0.0</td>\n",
       "      <td>0.00</td>\n",
       "      <td>0.00</td>\n",
       "      <td>0.00</td>\n",
       "      <td>0.00</td>\n",
       "      <td>0.06</td>\n",
       "      <td>0.84</td>\n",
       "      <td>1.00</td>\n",
       "      <td>1.00</td>\n",
       "      <td>1.000000e+00</td>\n",
       "    </tr>\n",
       "    <tr>\n",
       "      <td>dst_host_srv_diff_host_rate</td>\n",
       "      <td>125972.0</td>\n",
       "      <td>0.0</td>\n",
       "      <td>75.0</td>\n",
       "      <td>4.099470e+03</td>\n",
       "      <td>0.032543</td>\n",
       "      <td>0.00</td>\n",
       "      <td>1.125642e-01</td>\n",
       "      <td>1.267070e-02</td>\n",
       "      <td>0.0</td>\n",
       "      <td>0.0</td>\n",
       "      <td>0.00</td>\n",
       "      <td>0.00</td>\n",
       "      <td>0.00</td>\n",
       "      <td>0.00</td>\n",
       "      <td>0.02</td>\n",
       "      <td>0.05</td>\n",
       "      <td>0.18</td>\n",
       "      <td>0.52</td>\n",
       "      <td>1.000000e+00</td>\n",
       "    </tr>\n",
       "    <tr>\n",
       "      <td>dst_host_serror_rate</td>\n",
       "      <td>125972.0</td>\n",
       "      <td>0.0</td>\n",
       "      <td>101.0</td>\n",
       "      <td>3.583333e+04</td>\n",
       "      <td>0.284455</td>\n",
       "      <td>0.00</td>\n",
       "      <td>4.447851e-01</td>\n",
       "      <td>1.978338e-01</td>\n",
       "      <td>0.0</td>\n",
       "      <td>0.0</td>\n",
       "      <td>0.00</td>\n",
       "      <td>0.00</td>\n",
       "      <td>0.00</td>\n",
       "      <td>0.00</td>\n",
       "      <td>1.00</td>\n",
       "      <td>1.00</td>\n",
       "      <td>1.00</td>\n",
       "      <td>1.00</td>\n",
       "      <td>1.000000e+00</td>\n",
       "    </tr>\n",
       "    <tr>\n",
       "      <td>dst_host_srv_serror_rate</td>\n",
       "      <td>125972.0</td>\n",
       "      <td>0.0</td>\n",
       "      <td>100.0</td>\n",
       "      <td>3.508153e+04</td>\n",
       "      <td>0.278487</td>\n",
       "      <td>0.00</td>\n",
       "      <td>4.456702e-01</td>\n",
       "      <td>1.986219e-01</td>\n",
       "      <td>0.0</td>\n",
       "      <td>0.0</td>\n",
       "      <td>0.00</td>\n",
       "      <td>0.00</td>\n",
       "      <td>0.00</td>\n",
       "      <td>0.00</td>\n",
       "      <td>1.00</td>\n",
       "      <td>1.00</td>\n",
       "      <td>1.00</td>\n",
       "      <td>1.00</td>\n",
       "      <td>1.000000e+00</td>\n",
       "    </tr>\n",
       "    <tr>\n",
       "      <td>dst_host_rerror_rate</td>\n",
       "      <td>125972.0</td>\n",
       "      <td>0.0</td>\n",
       "      <td>101.0</td>\n",
       "      <td>1.496955e+04</td>\n",
       "      <td>0.118832</td>\n",
       "      <td>0.00</td>\n",
       "      <td>3.065586e-01</td>\n",
       "      <td>9.397818e-02</td>\n",
       "      <td>0.0</td>\n",
       "      <td>0.0</td>\n",
       "      <td>0.00</td>\n",
       "      <td>0.00</td>\n",
       "      <td>0.00</td>\n",
       "      <td>0.00</td>\n",
       "      <td>0.00</td>\n",
       "      <td>0.84</td>\n",
       "      <td>1.00</td>\n",
       "      <td>1.00</td>\n",
       "      <td>1.000000e+00</td>\n",
       "    </tr>\n",
       "    <tr>\n",
       "      <td>dst_host_srv_rerror_rate</td>\n",
       "      <td>125972.0</td>\n",
       "      <td>0.0</td>\n",
       "      <td>101.0</td>\n",
       "      <td>1.514698e+04</td>\n",
       "      <td>0.120241</td>\n",
       "      <td>0.00</td>\n",
       "      <td>3.194605e-01</td>\n",
       "      <td>1.020550e-01</td>\n",
       "      <td>0.0</td>\n",
       "      <td>0.0</td>\n",
       "      <td>0.00</td>\n",
       "      <td>0.00</td>\n",
       "      <td>0.00</td>\n",
       "      <td>0.00</td>\n",
       "      <td>0.00</td>\n",
       "      <td>1.00</td>\n",
       "      <td>1.00</td>\n",
       "      <td>1.00</td>\n",
       "      <td>1.000000e+00</td>\n",
       "    </tr>\n",
       "  </tbody>\n",
       "</table>\n",
       "</div>"
      ],
      "text/plain": [
       "                                    N  NMISS  nunique           SUM  \\\n",
       "duration                     125972.0    0.0   2981.0  3.617247e+07   \n",
       "src_bytes                    125972.0    0.0   3341.0  5.740179e+09   \n",
       "dst_bytes                    125972.0    0.0   9326.0  2.491634e+09   \n",
       "hot                          125972.0    0.0     28.0  2.575000e+04   \n",
       "num_compromised              125972.0    0.0     88.0  3.517800e+04   \n",
       "num_root                     125972.0    0.0     82.0  3.806800e+04   \n",
       "num_file_creations           125972.0    0.0     35.0  1.596000e+03   \n",
       "last_flag                    125972.0    0.0     22.0  2.456965e+06   \n",
       "num_access_files             125972.0    0.0     10.0  5.160000e+02   \n",
       "count                        125972.0    0.0    512.0  1.059528e+07   \n",
       "srv_count                    125972.0    0.0    509.0  3.494223e+06   \n",
       "serror_rate                  125972.0    0.0     89.0  3.583737e+04   \n",
       "srv_serror_rate              125972.0    0.0     86.0  3.558553e+04   \n",
       "rerror_rate                  125972.0    0.0     82.0  1.511153e+04   \n",
       "srv_rerror_rate              125972.0    0.0     62.0  1.526582e+04   \n",
       "same_srv_rate                125972.0    0.0    101.0  8.325804e+04   \n",
       "diff_srv_rate                125972.0    0.0     95.0  7.942930e+03   \n",
       "srv_diff_host_rate           125972.0    0.0     60.0  1.225990e+04   \n",
       "dst_host_count               125972.0    0.0    256.0  2.294570e+07   \n",
       "dst_host_srv_count           125972.0    0.0    256.0  1.456913e+07   \n",
       "dst_host_same_srv_rate       125972.0    0.0    101.0  6.566221e+04   \n",
       "dst_host_diff_srv_rate       125972.0    0.0    101.0  1.044957e+04   \n",
       "dst_host_same_src_port_rate  125972.0    0.0    101.0  1.869156e+04   \n",
       "dst_host_srv_diff_host_rate  125972.0    0.0     75.0  4.099470e+03   \n",
       "dst_host_serror_rate         125972.0    0.0    101.0  3.583333e+04   \n",
       "dst_host_srv_serror_rate     125972.0    0.0    100.0  3.508153e+04   \n",
       "dst_host_rerror_rate         125972.0    0.0    101.0  1.496955e+04   \n",
       "dst_host_srv_rerror_rate     125972.0    0.0    101.0  1.514698e+04   \n",
       "\n",
       "                                     MEAN  MEDIAN           STD           VAR  \\\n",
       "duration                       287.146929    0.00  2.604526e+03  6.783553e+06   \n",
       "src_bytes                    45567.100824   44.00  5.870354e+06  3.446106e+13   \n",
       "dst_bytes                    19779.271433    0.00  4.021285e+06  1.617073e+13   \n",
       "hot                              0.204411    0.00  2.149977e+00  4.622401e+00   \n",
       "num_compromised                  0.279253    0.00  2.394214e+01  5.732259e+02   \n",
       "num_root                         0.302194    0.00  2.439971e+01  5.953461e+02   \n",
       "num_file_creations               0.012669    0.00  4.839370e-01  2.341950e-01   \n",
       "last_flag                       19.504056   20.00  2.291512e+00  5.251025e+00   \n",
       "num_access_files                 0.004096    0.00  9.936995e-02  9.874387e-03   \n",
       "count                           84.108207   14.00  1.145088e+02  1.311227e+04   \n",
       "srv_count                       27.738093    8.00  7.263609e+01  5.276002e+03   \n",
       "serror_rate                      0.284487    0.00  4.464567e-01  1.993236e-01   \n",
       "srv_serror_rate                  0.282488    0.00  4.470236e-01  1.998301e-01   \n",
       "rerror_rate                      0.119959    0.00  3.204366e-01  1.026796e-01   \n",
       "srv_rerror_rate                  0.121184    0.00  3.236483e-01  1.047482e-01   \n",
       "same_srv_rate                    0.660925    1.00  4.396236e-01  1.932689e-01   \n",
       "diff_srv_rate                    0.063053    0.00  1.803150e-01  3.251351e-02   \n",
       "srv_diff_host_rate               0.097322    0.00  2.598314e-01  6.751235e-02   \n",
       "dst_host_count                 182.149200  255.00  9.920657e+01  9.841943e+03   \n",
       "dst_host_srv_count             115.653725   63.00  1.107029e+02  1.225513e+04   \n",
       "dst_host_same_srv_rate           0.521244    0.51  4.489501e-01  2.015562e-01   \n",
       "dst_host_diff_srv_rate           0.082952    0.02  1.889225e-01  3.569171e-02   \n",
       "dst_host_same_src_port_rate      0.148379    0.00  3.089984e-01  9.547998e-02   \n",
       "dst_host_srv_diff_host_rate      0.032543    0.00  1.125642e-01  1.267070e-02   \n",
       "dst_host_serror_rate             0.284455    0.00  4.447851e-01  1.978338e-01   \n",
       "dst_host_srv_serror_rate         0.278487    0.00  4.456702e-01  1.986219e-01   \n",
       "dst_host_rerror_rate             0.118832    0.00  3.065586e-01  9.397818e-02   \n",
       "dst_host_srv_rerror_rate         0.120241    0.00  3.194605e-01  1.020550e-01   \n",
       "\n",
       "                             MIN    P1     P5    P10    P25     P50     P75  \\\n",
       "duration                     0.0   0.0   0.00   0.00   0.00    0.00    0.00   \n",
       "src_bytes                    0.0   0.0   0.00   0.00   0.00   44.00  276.00   \n",
       "dst_bytes                    0.0   0.0   0.00   0.00   0.00    0.00  516.00   \n",
       "hot                          0.0   0.0   0.00   0.00   0.00    0.00    0.00   \n",
       "num_compromised              0.0   0.0   0.00   0.00   0.00    0.00    0.00   \n",
       "num_root                     0.0   0.0   0.00   0.00   0.00    0.00    0.00   \n",
       "num_file_creations           0.0   0.0   0.00   0.00   0.00    0.00    0.00   \n",
       "last_flag                    0.0  11.0  15.00  17.00  18.00   20.00   21.00   \n",
       "num_access_files             0.0   0.0   0.00   0.00   0.00    0.00    0.00   \n",
       "count                        0.0   1.0   1.00   1.00   2.00   14.00  143.00   \n",
       "srv_count                    0.0   1.0   1.00   1.00   2.00    8.00   18.00   \n",
       "serror_rate                  0.0   0.0   0.00   0.00   0.00    0.00    1.00   \n",
       "srv_serror_rate              0.0   0.0   0.00   0.00   0.00    0.00    1.00   \n",
       "rerror_rate                  0.0   0.0   0.00   0.00   0.00    0.00    0.00   \n",
       "srv_rerror_rate              0.0   0.0   0.00   0.00   0.00    0.00    0.00   \n",
       "same_srv_rate                0.0   0.0   0.01   0.03   0.09    1.00    1.00   \n",
       "diff_srv_rate                0.0   0.0   0.00   0.00   0.00    0.00    0.06   \n",
       "srv_diff_host_rate           0.0   0.0   0.00   0.00   0.00    0.00    0.00   \n",
       "dst_host_count               0.0   1.0   3.00  11.00  82.00  255.00  255.00   \n",
       "dst_host_srv_count           0.0   1.0   1.00   2.00  10.00   63.00  255.00   \n",
       "dst_host_same_srv_rate       0.0   0.0   0.00   0.01   0.05    0.51    1.00   \n",
       "dst_host_diff_srv_rate       0.0   0.0   0.00   0.00   0.00    0.02    0.07   \n",
       "dst_host_same_src_port_rate  0.0   0.0   0.00   0.00   0.00    0.00    0.06   \n",
       "dst_host_srv_diff_host_rate  0.0   0.0   0.00   0.00   0.00    0.00    0.02   \n",
       "dst_host_serror_rate         0.0   0.0   0.00   0.00   0.00    0.00    1.00   \n",
       "dst_host_srv_serror_rate     0.0   0.0   0.00   0.00   0.00    0.00    1.00   \n",
       "dst_host_rerror_rate         0.0   0.0   0.00   0.00   0.00    0.00    0.00   \n",
       "dst_host_srv_rerror_rate     0.0   0.0   0.00   0.00   0.00    0.00    0.00   \n",
       "\n",
       "                                 P90      P95       P99           MAX  \n",
       "duration                        0.00     4.00   9590.58  4.290800e+04  \n",
       "src_bytes                     848.00  1480.00  54540.00  1.379964e+09  \n",
       "dst_bytes                    3375.90  8314.00  25519.00  1.309937e+09  \n",
       "hot                             0.00     0.00      3.00  7.700000e+01  \n",
       "num_compromised                 0.00     0.00      1.00  7.479000e+03  \n",
       "num_root                        0.00     0.00      0.00  7.468000e+03  \n",
       "num_file_creations              0.00     0.00      0.00  4.300000e+01  \n",
       "last_flag                      21.00    21.00     21.00  2.100000e+01  \n",
       "num_access_files                0.00     0.00      0.00  9.000000e+00  \n",
       "count                         256.00   286.00    511.00  5.110000e+02  \n",
       "srv_count                      40.00   158.00    492.00  5.110000e+02  \n",
       "serror_rate                     1.00     1.00      1.00  1.000000e+00  \n",
       "srv_serror_rate                 1.00     1.00      1.00  1.000000e+00  \n",
       "rerror_rate                     1.00     1.00      1.00  1.000000e+00  \n",
       "srv_rerror_rate                 1.00     1.00      1.00  1.000000e+00  \n",
       "same_srv_rate                   1.00     1.00      1.00  1.000000e+00  \n",
       "diff_srv_rate                   0.07     0.29      1.00  1.000000e+00  \n",
       "srv_diff_host_rate              0.31     1.00      1.00  1.000000e+00  \n",
       "dst_host_count                255.00   255.00    255.00  2.550000e+02  \n",
       "dst_host_srv_count            255.00   255.00    255.00  2.550000e+02  \n",
       "dst_host_same_srv_rate          1.00     1.00      1.00  1.000000e+00  \n",
       "dst_host_diff_srv_rate          0.10     0.56      1.00  1.000000e+00  \n",
       "dst_host_same_src_port_rate     0.84     1.00      1.00  1.000000e+00  \n",
       "dst_host_srv_diff_host_rate     0.05     0.18      0.52  1.000000e+00  \n",
       "dst_host_serror_rate            1.00     1.00      1.00  1.000000e+00  \n",
       "dst_host_srv_serror_rate        1.00     1.00      1.00  1.000000e+00  \n",
       "dst_host_rerror_rate            0.84     1.00      1.00  1.000000e+00  \n",
       "dst_host_srv_rerror_rate        1.00     1.00      1.00  1.000000e+00  "
      ]
     },
     "execution_count": 18,
     "metadata": {},
     "output_type": "execute_result"
    }
   ],
   "source": [
    "train_num.apply(var_summary).T"
   ]
  },
  {
   "cell_type": "code",
   "execution_count": 19,
   "metadata": {
    "scrolled": true
   },
   "outputs": [
    {
     "data": {
      "text/html": [
       "<div>\n",
       "<style scoped>\n",
       "    .dataframe tbody tr th:only-of-type {\n",
       "        vertical-align: middle;\n",
       "    }\n",
       "\n",
       "    .dataframe tbody tr th {\n",
       "        vertical-align: top;\n",
       "    }\n",
       "\n",
       "    .dataframe thead th {\n",
       "        text-align: right;\n",
       "    }\n",
       "</style>\n",
       "<table border=\"1\" class=\"dataframe\">\n",
       "  <thead>\n",
       "    <tr style=\"text-align: right;\">\n",
       "      <th></th>\n",
       "      <th>N</th>\n",
       "      <th>NMISS</th>\n",
       "      <th>nunique</th>\n",
       "      <th>SUM</th>\n",
       "      <th>MEAN</th>\n",
       "      <th>MEDIAN</th>\n",
       "      <th>STD</th>\n",
       "      <th>VAR</th>\n",
       "      <th>MIN</th>\n",
       "      <th>P1</th>\n",
       "      <th>P5</th>\n",
       "      <th>P10</th>\n",
       "      <th>P25</th>\n",
       "      <th>P50</th>\n",
       "      <th>P75</th>\n",
       "      <th>P90</th>\n",
       "      <th>P95</th>\n",
       "      <th>P99</th>\n",
       "      <th>MAX</th>\n",
       "    </tr>\n",
       "  </thead>\n",
       "  <tbody>\n",
       "    <tr>\n",
       "      <td>duration</td>\n",
       "      <td>22543.0</td>\n",
       "      <td>0.0</td>\n",
       "      <td>624.0</td>\n",
       "      <td>4.933959e+06</td>\n",
       "      <td>218.868784</td>\n",
       "      <td>0.00</td>\n",
       "      <td>1407.207069</td>\n",
       "      <td>1.980232e+06</td>\n",
       "      <td>0.0</td>\n",
       "      <td>0.0</td>\n",
       "      <td>0.00</td>\n",
       "      <td>0.00</td>\n",
       "      <td>0.00</td>\n",
       "      <td>0.00</td>\n",
       "      <td>0.00</td>\n",
       "      <td>4.00</td>\n",
       "      <td>283.00</td>\n",
       "      <td>7589.5800</td>\n",
       "      <td>57715.0</td>\n",
       "    </tr>\n",
       "    <tr>\n",
       "      <td>src_bytes</td>\n",
       "      <td>22543.0</td>\n",
       "      <td>0.0</td>\n",
       "      <td>1149.0</td>\n",
       "      <td>2.343550e+08</td>\n",
       "      <td>10395.911369</td>\n",
       "      <td>54.00</td>\n",
       "      <td>472796.912692</td>\n",
       "      <td>2.235369e+11</td>\n",
       "      <td>0.0</td>\n",
       "      <td>0.0</td>\n",
       "      <td>0.00</td>\n",
       "      <td>0.00</td>\n",
       "      <td>0.00</td>\n",
       "      <td>54.00</td>\n",
       "      <td>287.00</td>\n",
       "      <td>1032.00</td>\n",
       "      <td>15876.00</td>\n",
       "      <td>283618.0000</td>\n",
       "      <td>62825648.0</td>\n",
       "    </tr>\n",
       "    <tr>\n",
       "      <td>dst_bytes</td>\n",
       "      <td>22543.0</td>\n",
       "      <td>0.0</td>\n",
       "      <td>3650.0</td>\n",
       "      <td>4.635089e+07</td>\n",
       "      <td>2056.110012</td>\n",
       "      <td>46.00</td>\n",
       "      <td>21219.763847</td>\n",
       "      <td>4.502784e+08</td>\n",
       "      <td>0.0</td>\n",
       "      <td>0.0</td>\n",
       "      <td>0.00</td>\n",
       "      <td>0.00</td>\n",
       "      <td>0.00</td>\n",
       "      <td>46.00</td>\n",
       "      <td>601.00</td>\n",
       "      <td>4099.40</td>\n",
       "      <td>8314.00</td>\n",
       "      <td>26032.7600</td>\n",
       "      <td>1345927.0</td>\n",
       "    </tr>\n",
       "    <tr>\n",
       "      <td>hot</td>\n",
       "      <td>22543.0</td>\n",
       "      <td>0.0</td>\n",
       "      <td>16.0</td>\n",
       "      <td>2.376000e+03</td>\n",
       "      <td>0.105399</td>\n",
       "      <td>0.00</td>\n",
       "      <td>0.928448</td>\n",
       "      <td>8.620164e-01</td>\n",
       "      <td>0.0</td>\n",
       "      <td>0.0</td>\n",
       "      <td>0.00</td>\n",
       "      <td>0.00</td>\n",
       "      <td>0.00</td>\n",
       "      <td>0.00</td>\n",
       "      <td>0.00</td>\n",
       "      <td>0.00</td>\n",
       "      <td>0.00</td>\n",
       "      <td>2.0000</td>\n",
       "      <td>101.0</td>\n",
       "    </tr>\n",
       "    <tr>\n",
       "      <td>num_compromised</td>\n",
       "      <td>22543.0</td>\n",
       "      <td>0.0</td>\n",
       "      <td>23.0</td>\n",
       "      <td>2.703000e+03</td>\n",
       "      <td>0.119904</td>\n",
       "      <td>0.00</td>\n",
       "      <td>7.269758</td>\n",
       "      <td>5.284939e+01</td>\n",
       "      <td>0.0</td>\n",
       "      <td>0.0</td>\n",
       "      <td>0.00</td>\n",
       "      <td>0.00</td>\n",
       "      <td>0.00</td>\n",
       "      <td>0.00</td>\n",
       "      <td>0.00</td>\n",
       "      <td>0.00</td>\n",
       "      <td>0.00</td>\n",
       "      <td>1.0000</td>\n",
       "      <td>796.0</td>\n",
       "    </tr>\n",
       "    <tr>\n",
       "      <td>num_root</td>\n",
       "      <td>22543.0</td>\n",
       "      <td>0.0</td>\n",
       "      <td>20.0</td>\n",
       "      <td>2.585000e+03</td>\n",
       "      <td>0.114670</td>\n",
       "      <td>0.00</td>\n",
       "      <td>8.041792</td>\n",
       "      <td>6.467042e+01</td>\n",
       "      <td>0.0</td>\n",
       "      <td>0.0</td>\n",
       "      <td>0.00</td>\n",
       "      <td>0.00</td>\n",
       "      <td>0.00</td>\n",
       "      <td>0.00</td>\n",
       "      <td>0.00</td>\n",
       "      <td>0.00</td>\n",
       "      <td>0.00</td>\n",
       "      <td>0.0000</td>\n",
       "      <td>878.0</td>\n",
       "    </tr>\n",
       "    <tr>\n",
       "      <td>num_file_creations</td>\n",
       "      <td>22543.0</td>\n",
       "      <td>0.0</td>\n",
       "      <td>9.0</td>\n",
       "      <td>1.970000e+02</td>\n",
       "      <td>0.008739</td>\n",
       "      <td>0.00</td>\n",
       "      <td>0.676857</td>\n",
       "      <td>4.581350e-01</td>\n",
       "      <td>0.0</td>\n",
       "      <td>0.0</td>\n",
       "      <td>0.00</td>\n",
       "      <td>0.00</td>\n",
       "      <td>0.00</td>\n",
       "      <td>0.00</td>\n",
       "      <td>0.00</td>\n",
       "      <td>0.00</td>\n",
       "      <td>0.00</td>\n",
       "      <td>0.0000</td>\n",
       "      <td>100.0</td>\n",
       "    </tr>\n",
       "    <tr>\n",
       "      <td>last_flag</td>\n",
       "      <td>22543.0</td>\n",
       "      <td>0.0</td>\n",
       "      <td>22.0</td>\n",
       "      <td>4.061760e+05</td>\n",
       "      <td>18.017833</td>\n",
       "      <td>20.00</td>\n",
       "      <td>4.270409</td>\n",
       "      <td>1.823640e+01</td>\n",
       "      <td>0.0</td>\n",
       "      <td>2.0</td>\n",
       "      <td>9.00</td>\n",
       "      <td>12.00</td>\n",
       "      <td>17.00</td>\n",
       "      <td>20.00</td>\n",
       "      <td>21.00</td>\n",
       "      <td>21.00</td>\n",
       "      <td>21.00</td>\n",
       "      <td>21.0000</td>\n",
       "      <td>21.0</td>\n",
       "    </tr>\n",
       "    <tr>\n",
       "      <td>num_access_files</td>\n",
       "      <td>22543.0</td>\n",
       "      <td>0.0</td>\n",
       "      <td>5.0</td>\n",
       "      <td>8.000000e+01</td>\n",
       "      <td>0.003549</td>\n",
       "      <td>0.00</td>\n",
       "      <td>0.067831</td>\n",
       "      <td>4.601016e-03</td>\n",
       "      <td>0.0</td>\n",
       "      <td>0.0</td>\n",
       "      <td>0.00</td>\n",
       "      <td>0.00</td>\n",
       "      <td>0.00</td>\n",
       "      <td>0.00</td>\n",
       "      <td>0.00</td>\n",
       "      <td>0.00</td>\n",
       "      <td>0.00</td>\n",
       "      <td>0.0000</td>\n",
       "      <td>4.0</td>\n",
       "    </tr>\n",
       "    <tr>\n",
       "      <td>count</td>\n",
       "      <td>22543.0</td>\n",
       "      <td>0.0</td>\n",
       "      <td>495.0</td>\n",
       "      <td>1.781386e+06</td>\n",
       "      <td>79.021692</td>\n",
       "      <td>8.00</td>\n",
       "      <td>128.538218</td>\n",
       "      <td>1.652207e+04</td>\n",
       "      <td>0.0</td>\n",
       "      <td>1.0</td>\n",
       "      <td>1.00</td>\n",
       "      <td>1.00</td>\n",
       "      <td>1.00</td>\n",
       "      <td>8.00</td>\n",
       "      <td>123.00</td>\n",
       "      <td>256.00</td>\n",
       "      <td>400.90</td>\n",
       "      <td>511.0000</td>\n",
       "      <td>511.0</td>\n",
       "    </tr>\n",
       "    <tr>\n",
       "      <td>srv_count</td>\n",
       "      <td>22543.0</td>\n",
       "      <td>0.0</td>\n",
       "      <td>457.0</td>\n",
       "      <td>7.016580e+05</td>\n",
       "      <td>31.125316</td>\n",
       "      <td>6.00</td>\n",
       "      <td>89.064396</td>\n",
       "      <td>7.932467e+03</td>\n",
       "      <td>0.0</td>\n",
       "      <td>1.0</td>\n",
       "      <td>1.00</td>\n",
       "      <td>1.00</td>\n",
       "      <td>1.00</td>\n",
       "      <td>6.00</td>\n",
       "      <td>16.00</td>\n",
       "      <td>43.00</td>\n",
       "      <td>185.00</td>\n",
       "      <td>511.0000</td>\n",
       "      <td>511.0</td>\n",
       "    </tr>\n",
       "    <tr>\n",
       "      <td>serror_rate</td>\n",
       "      <td>22543.0</td>\n",
       "      <td>0.0</td>\n",
       "      <td>88.0</td>\n",
       "      <td>2.320310e+03</td>\n",
       "      <td>0.102928</td>\n",
       "      <td>0.00</td>\n",
       "      <td>0.295373</td>\n",
       "      <td>8.724498e-02</td>\n",
       "      <td>0.0</td>\n",
       "      <td>0.0</td>\n",
       "      <td>0.00</td>\n",
       "      <td>0.00</td>\n",
       "      <td>0.00</td>\n",
       "      <td>0.00</td>\n",
       "      <td>0.00</td>\n",
       "      <td>0.50</td>\n",
       "      <td>1.00</td>\n",
       "      <td>1.0000</td>\n",
       "      <td>1.0</td>\n",
       "    </tr>\n",
       "    <tr>\n",
       "      <td>srv_serror_rate</td>\n",
       "      <td>22543.0</td>\n",
       "      <td>0.0</td>\n",
       "      <td>82.0</td>\n",
       "      <td>2.336350e+03</td>\n",
       "      <td>0.103640</td>\n",
       "      <td>0.00</td>\n",
       "      <td>0.298337</td>\n",
       "      <td>8.900522e-02</td>\n",
       "      <td>0.0</td>\n",
       "      <td>0.0</td>\n",
       "      <td>0.00</td>\n",
       "      <td>0.00</td>\n",
       "      <td>0.00</td>\n",
       "      <td>0.00</td>\n",
       "      <td>0.00</td>\n",
       "      <td>0.60</td>\n",
       "      <td>1.00</td>\n",
       "      <td>1.0000</td>\n",
       "      <td>1.0</td>\n",
       "    </tr>\n",
       "    <tr>\n",
       "      <td>rerror_rate</td>\n",
       "      <td>22543.0</td>\n",
       "      <td>0.0</td>\n",
       "      <td>90.0</td>\n",
       "      <td>5.374910e+03</td>\n",
       "      <td>0.238429</td>\n",
       "      <td>0.00</td>\n",
       "      <td>0.416096</td>\n",
       "      <td>1.731358e-01</td>\n",
       "      <td>0.0</td>\n",
       "      <td>0.0</td>\n",
       "      <td>0.00</td>\n",
       "      <td>0.00</td>\n",
       "      <td>0.00</td>\n",
       "      <td>0.00</td>\n",
       "      <td>0.25</td>\n",
       "      <td>1.00</td>\n",
       "      <td>1.00</td>\n",
       "      <td>1.0000</td>\n",
       "      <td>1.0</td>\n",
       "    </tr>\n",
       "    <tr>\n",
       "      <td>srv_rerror_rate</td>\n",
       "      <td>22543.0</td>\n",
       "      <td>0.0</td>\n",
       "      <td>93.0</td>\n",
       "      <td>5.300870e+03</td>\n",
       "      <td>0.235145</td>\n",
       "      <td>0.00</td>\n",
       "      <td>0.416193</td>\n",
       "      <td>1.732166e-01</td>\n",
       "      <td>0.0</td>\n",
       "      <td>0.0</td>\n",
       "      <td>0.00</td>\n",
       "      <td>0.00</td>\n",
       "      <td>0.00</td>\n",
       "      <td>0.00</td>\n",
       "      <td>0.07</td>\n",
       "      <td>1.00</td>\n",
       "      <td>1.00</td>\n",
       "      <td>1.0000</td>\n",
       "      <td>1.0</td>\n",
       "    </tr>\n",
       "    <tr>\n",
       "      <td>same_srv_rate</td>\n",
       "      <td>22543.0</td>\n",
       "      <td>0.0</td>\n",
       "      <td>75.0</td>\n",
       "      <td>1.669029e+04</td>\n",
       "      <td>0.740376</td>\n",
       "      <td>1.00</td>\n",
       "      <td>0.412479</td>\n",
       "      <td>1.701388e-01</td>\n",
       "      <td>0.0</td>\n",
       "      <td>0.0</td>\n",
       "      <td>0.01</td>\n",
       "      <td>0.03</td>\n",
       "      <td>0.25</td>\n",
       "      <td>1.00</td>\n",
       "      <td>1.00</td>\n",
       "      <td>1.00</td>\n",
       "      <td>1.00</td>\n",
       "      <td>1.0000</td>\n",
       "      <td>1.0</td>\n",
       "    </tr>\n",
       "    <tr>\n",
       "      <td>diff_srv_rate</td>\n",
       "      <td>22543.0</td>\n",
       "      <td>0.0</td>\n",
       "      <td>99.0</td>\n",
       "      <td>2.120740e+03</td>\n",
       "      <td>0.094075</td>\n",
       "      <td>0.00</td>\n",
       "      <td>0.259143</td>\n",
       "      <td>6.715523e-02</td>\n",
       "      <td>0.0</td>\n",
       "      <td>0.0</td>\n",
       "      <td>0.00</td>\n",
       "      <td>0.00</td>\n",
       "      <td>0.00</td>\n",
       "      <td>0.00</td>\n",
       "      <td>0.06</td>\n",
       "      <td>0.09</td>\n",
       "      <td>1.00</td>\n",
       "      <td>1.0000</td>\n",
       "      <td>1.0</td>\n",
       "    </tr>\n",
       "    <tr>\n",
       "      <td>srv_diff_host_rate</td>\n",
       "      <td>22543.0</td>\n",
       "      <td>0.0</td>\n",
       "      <td>84.0</td>\n",
       "      <td>2.211800e+03</td>\n",
       "      <td>0.098115</td>\n",
       "      <td>0.00</td>\n",
       "      <td>0.253550</td>\n",
       "      <td>6.428764e-02</td>\n",
       "      <td>0.0</td>\n",
       "      <td>0.0</td>\n",
       "      <td>0.00</td>\n",
       "      <td>0.00</td>\n",
       "      <td>0.00</td>\n",
       "      <td>0.00</td>\n",
       "      <td>0.00</td>\n",
       "      <td>0.33</td>\n",
       "      <td>1.00</td>\n",
       "      <td>1.0000</td>\n",
       "      <td>1.0</td>\n",
       "    </tr>\n",
       "    <tr>\n",
       "      <td>dst_host_count</td>\n",
       "      <td>22543.0</td>\n",
       "      <td>0.0</td>\n",
       "      <td>256.0</td>\n",
       "      <td>4.370337e+06</td>\n",
       "      <td>193.866699</td>\n",
       "      <td>255.00</td>\n",
       "      <td>94.036867</td>\n",
       "      <td>8.842932e+03</td>\n",
       "      <td>0.0</td>\n",
       "      <td>1.0</td>\n",
       "      <td>6.00</td>\n",
       "      <td>20.00</td>\n",
       "      <td>121.00</td>\n",
       "      <td>255.00</td>\n",
       "      <td>255.00</td>\n",
       "      <td>255.00</td>\n",
       "      <td>255.00</td>\n",
       "      <td>255.0000</td>\n",
       "      <td>255.0</td>\n",
       "    </tr>\n",
       "    <tr>\n",
       "      <td>dst_host_srv_count</td>\n",
       "      <td>22543.0</td>\n",
       "      <td>0.0</td>\n",
       "      <td>256.0</td>\n",
       "      <td>3.173070e+06</td>\n",
       "      <td>140.756332</td>\n",
       "      <td>168.00</td>\n",
       "      <td>111.783059</td>\n",
       "      <td>1.249545e+04</td>\n",
       "      <td>0.0</td>\n",
       "      <td>1.0</td>\n",
       "      <td>1.00</td>\n",
       "      <td>3.00</td>\n",
       "      <td>15.00</td>\n",
       "      <td>168.00</td>\n",
       "      <td>255.00</td>\n",
       "      <td>255.00</td>\n",
       "      <td>255.00</td>\n",
       "      <td>255.0000</td>\n",
       "      <td>255.0</td>\n",
       "    </tr>\n",
       "    <tr>\n",
       "      <td>dst_host_same_srv_rate</td>\n",
       "      <td>22543.0</td>\n",
       "      <td>0.0</td>\n",
       "      <td>101.0</td>\n",
       "      <td>1.372298e+04</td>\n",
       "      <td>0.608747</td>\n",
       "      <td>0.92</td>\n",
       "      <td>0.435681</td>\n",
       "      <td>1.898182e-01</td>\n",
       "      <td>0.0</td>\n",
       "      <td>0.0</td>\n",
       "      <td>0.00</td>\n",
       "      <td>0.02</td>\n",
       "      <td>0.07</td>\n",
       "      <td>0.92</td>\n",
       "      <td>1.00</td>\n",
       "      <td>1.00</td>\n",
       "      <td>1.00</td>\n",
       "      <td>1.0000</td>\n",
       "      <td>1.0</td>\n",
       "    </tr>\n",
       "    <tr>\n",
       "      <td>dst_host_diff_srv_rate</td>\n",
       "      <td>22543.0</td>\n",
       "      <td>0.0</td>\n",
       "      <td>101.0</td>\n",
       "      <td>2.041070e+03</td>\n",
       "      <td>0.090541</td>\n",
       "      <td>0.01</td>\n",
       "      <td>0.220722</td>\n",
       "      <td>4.871805e-02</td>\n",
       "      <td>0.0</td>\n",
       "      <td>0.0</td>\n",
       "      <td>0.00</td>\n",
       "      <td>0.00</td>\n",
       "      <td>0.00</td>\n",
       "      <td>0.01</td>\n",
       "      <td>0.06</td>\n",
       "      <td>0.15</td>\n",
       "      <td>0.75</td>\n",
       "      <td>1.0000</td>\n",
       "      <td>1.0</td>\n",
       "    </tr>\n",
       "    <tr>\n",
       "      <td>dst_host_same_src_port_rate</td>\n",
       "      <td>22543.0</td>\n",
       "      <td>0.0</td>\n",
       "      <td>101.0</td>\n",
       "      <td>2.981690e+03</td>\n",
       "      <td>0.132267</td>\n",
       "      <td>0.00</td>\n",
       "      <td>0.306274</td>\n",
       "      <td>9.380364e-02</td>\n",
       "      <td>0.0</td>\n",
       "      <td>0.0</td>\n",
       "      <td>0.00</td>\n",
       "      <td>0.00</td>\n",
       "      <td>0.00</td>\n",
       "      <td>0.00</td>\n",
       "      <td>0.03</td>\n",
       "      <td>0.85</td>\n",
       "      <td>1.00</td>\n",
       "      <td>1.0000</td>\n",
       "      <td>1.0</td>\n",
       "    </tr>\n",
       "    <tr>\n",
       "      <td>dst_host_srv_diff_host_rate</td>\n",
       "      <td>22543.0</td>\n",
       "      <td>0.0</td>\n",
       "      <td>58.0</td>\n",
       "      <td>4.427300e+02</td>\n",
       "      <td>0.019639</td>\n",
       "      <td>0.00</td>\n",
       "      <td>0.085396</td>\n",
       "      <td>7.292422e-03</td>\n",
       "      <td>0.0</td>\n",
       "      <td>0.0</td>\n",
       "      <td>0.00</td>\n",
       "      <td>0.00</td>\n",
       "      <td>0.00</td>\n",
       "      <td>0.00</td>\n",
       "      <td>0.01</td>\n",
       "      <td>0.04</td>\n",
       "      <td>0.06</td>\n",
       "      <td>0.4058</td>\n",
       "      <td>1.0</td>\n",
       "    </tr>\n",
       "    <tr>\n",
       "      <td>dst_host_serror_rate</td>\n",
       "      <td>22543.0</td>\n",
       "      <td>0.0</td>\n",
       "      <td>99.0</td>\n",
       "      <td>2.205110e+03</td>\n",
       "      <td>0.097818</td>\n",
       "      <td>0.00</td>\n",
       "      <td>0.273144</td>\n",
       "      <td>7.460766e-02</td>\n",
       "      <td>0.0</td>\n",
       "      <td>0.0</td>\n",
       "      <td>0.00</td>\n",
       "      <td>0.00</td>\n",
       "      <td>0.00</td>\n",
       "      <td>0.00</td>\n",
       "      <td>0.00</td>\n",
       "      <td>0.35</td>\n",
       "      <td>1.00</td>\n",
       "      <td>1.0000</td>\n",
       "      <td>1.0</td>\n",
       "    </tr>\n",
       "    <tr>\n",
       "      <td>dst_host_srv_serror_rate</td>\n",
       "      <td>22543.0</td>\n",
       "      <td>0.0</td>\n",
       "      <td>101.0</td>\n",
       "      <td>2.241460e+03</td>\n",
       "      <td>0.099430</td>\n",
       "      <td>0.00</td>\n",
       "      <td>0.281872</td>\n",
       "      <td>7.945169e-02</td>\n",
       "      <td>0.0</td>\n",
       "      <td>0.0</td>\n",
       "      <td>0.00</td>\n",
       "      <td>0.00</td>\n",
       "      <td>0.00</td>\n",
       "      <td>0.00</td>\n",
       "      <td>0.00</td>\n",
       "      <td>0.46</td>\n",
       "      <td>1.00</td>\n",
       "      <td>1.0000</td>\n",
       "      <td>1.0</td>\n",
       "    </tr>\n",
       "    <tr>\n",
       "      <td>dst_host_rerror_rate</td>\n",
       "      <td>22543.0</td>\n",
       "      <td>0.0</td>\n",
       "      <td>101.0</td>\n",
       "      <td>5.260430e+03</td>\n",
       "      <td>0.233351</td>\n",
       "      <td>0.00</td>\n",
       "      <td>0.387204</td>\n",
       "      <td>1.499267e-01</td>\n",
       "      <td>0.0</td>\n",
       "      <td>0.0</td>\n",
       "      <td>0.00</td>\n",
       "      <td>0.00</td>\n",
       "      <td>0.00</td>\n",
       "      <td>0.00</td>\n",
       "      <td>0.36</td>\n",
       "      <td>1.00</td>\n",
       "      <td>1.00</td>\n",
       "      <td>1.0000</td>\n",
       "      <td>1.0</td>\n",
       "    </tr>\n",
       "    <tr>\n",
       "      <td>dst_host_srv_rerror_rate</td>\n",
       "      <td>22543.0</td>\n",
       "      <td>0.0</td>\n",
       "      <td>100.0</td>\n",
       "      <td>5.109340e+03</td>\n",
       "      <td>0.226649</td>\n",
       "      <td>0.00</td>\n",
       "      <td>0.400851</td>\n",
       "      <td>1.606813e-01</td>\n",
       "      <td>0.0</td>\n",
       "      <td>0.0</td>\n",
       "      <td>0.00</td>\n",
       "      <td>0.00</td>\n",
       "      <td>0.00</td>\n",
       "      <td>0.00</td>\n",
       "      <td>0.17</td>\n",
       "      <td>1.00</td>\n",
       "      <td>1.00</td>\n",
       "      <td>1.0000</td>\n",
       "      <td>1.0</td>\n",
       "    </tr>\n",
       "  </tbody>\n",
       "</table>\n",
       "</div>"
      ],
      "text/plain": [
       "                                   N  NMISS  nunique           SUM  \\\n",
       "duration                     22543.0    0.0    624.0  4.933959e+06   \n",
       "src_bytes                    22543.0    0.0   1149.0  2.343550e+08   \n",
       "dst_bytes                    22543.0    0.0   3650.0  4.635089e+07   \n",
       "hot                          22543.0    0.0     16.0  2.376000e+03   \n",
       "num_compromised              22543.0    0.0     23.0  2.703000e+03   \n",
       "num_root                     22543.0    0.0     20.0  2.585000e+03   \n",
       "num_file_creations           22543.0    0.0      9.0  1.970000e+02   \n",
       "last_flag                    22543.0    0.0     22.0  4.061760e+05   \n",
       "num_access_files             22543.0    0.0      5.0  8.000000e+01   \n",
       "count                        22543.0    0.0    495.0  1.781386e+06   \n",
       "srv_count                    22543.0    0.0    457.0  7.016580e+05   \n",
       "serror_rate                  22543.0    0.0     88.0  2.320310e+03   \n",
       "srv_serror_rate              22543.0    0.0     82.0  2.336350e+03   \n",
       "rerror_rate                  22543.0    0.0     90.0  5.374910e+03   \n",
       "srv_rerror_rate              22543.0    0.0     93.0  5.300870e+03   \n",
       "same_srv_rate                22543.0    0.0     75.0  1.669029e+04   \n",
       "diff_srv_rate                22543.0    0.0     99.0  2.120740e+03   \n",
       "srv_diff_host_rate           22543.0    0.0     84.0  2.211800e+03   \n",
       "dst_host_count               22543.0    0.0    256.0  4.370337e+06   \n",
       "dst_host_srv_count           22543.0    0.0    256.0  3.173070e+06   \n",
       "dst_host_same_srv_rate       22543.0    0.0    101.0  1.372298e+04   \n",
       "dst_host_diff_srv_rate       22543.0    0.0    101.0  2.041070e+03   \n",
       "dst_host_same_src_port_rate  22543.0    0.0    101.0  2.981690e+03   \n",
       "dst_host_srv_diff_host_rate  22543.0    0.0     58.0  4.427300e+02   \n",
       "dst_host_serror_rate         22543.0    0.0     99.0  2.205110e+03   \n",
       "dst_host_srv_serror_rate     22543.0    0.0    101.0  2.241460e+03   \n",
       "dst_host_rerror_rate         22543.0    0.0    101.0  5.260430e+03   \n",
       "dst_host_srv_rerror_rate     22543.0    0.0    100.0  5.109340e+03   \n",
       "\n",
       "                                     MEAN  MEDIAN            STD  \\\n",
       "duration                       218.868784    0.00    1407.207069   \n",
       "src_bytes                    10395.911369   54.00  472796.912692   \n",
       "dst_bytes                     2056.110012   46.00   21219.763847   \n",
       "hot                              0.105399    0.00       0.928448   \n",
       "num_compromised                  0.119904    0.00       7.269758   \n",
       "num_root                         0.114670    0.00       8.041792   \n",
       "num_file_creations               0.008739    0.00       0.676857   \n",
       "last_flag                       18.017833   20.00       4.270409   \n",
       "num_access_files                 0.003549    0.00       0.067831   \n",
       "count                           79.021692    8.00     128.538218   \n",
       "srv_count                       31.125316    6.00      89.064396   \n",
       "serror_rate                      0.102928    0.00       0.295373   \n",
       "srv_serror_rate                  0.103640    0.00       0.298337   \n",
       "rerror_rate                      0.238429    0.00       0.416096   \n",
       "srv_rerror_rate                  0.235145    0.00       0.416193   \n",
       "same_srv_rate                    0.740376    1.00       0.412479   \n",
       "diff_srv_rate                    0.094075    0.00       0.259143   \n",
       "srv_diff_host_rate               0.098115    0.00       0.253550   \n",
       "dst_host_count                 193.866699  255.00      94.036867   \n",
       "dst_host_srv_count             140.756332  168.00     111.783059   \n",
       "dst_host_same_srv_rate           0.608747    0.92       0.435681   \n",
       "dst_host_diff_srv_rate           0.090541    0.01       0.220722   \n",
       "dst_host_same_src_port_rate      0.132267    0.00       0.306274   \n",
       "dst_host_srv_diff_host_rate      0.019639    0.00       0.085396   \n",
       "dst_host_serror_rate             0.097818    0.00       0.273144   \n",
       "dst_host_srv_serror_rate         0.099430    0.00       0.281872   \n",
       "dst_host_rerror_rate             0.233351    0.00       0.387204   \n",
       "dst_host_srv_rerror_rate         0.226649    0.00       0.400851   \n",
       "\n",
       "                                      VAR  MIN   P1    P5    P10     P25  \\\n",
       "duration                     1.980232e+06  0.0  0.0  0.00   0.00    0.00   \n",
       "src_bytes                    2.235369e+11  0.0  0.0  0.00   0.00    0.00   \n",
       "dst_bytes                    4.502784e+08  0.0  0.0  0.00   0.00    0.00   \n",
       "hot                          8.620164e-01  0.0  0.0  0.00   0.00    0.00   \n",
       "num_compromised              5.284939e+01  0.0  0.0  0.00   0.00    0.00   \n",
       "num_root                     6.467042e+01  0.0  0.0  0.00   0.00    0.00   \n",
       "num_file_creations           4.581350e-01  0.0  0.0  0.00   0.00    0.00   \n",
       "last_flag                    1.823640e+01  0.0  2.0  9.00  12.00   17.00   \n",
       "num_access_files             4.601016e-03  0.0  0.0  0.00   0.00    0.00   \n",
       "count                        1.652207e+04  0.0  1.0  1.00   1.00    1.00   \n",
       "srv_count                    7.932467e+03  0.0  1.0  1.00   1.00    1.00   \n",
       "serror_rate                  8.724498e-02  0.0  0.0  0.00   0.00    0.00   \n",
       "srv_serror_rate              8.900522e-02  0.0  0.0  0.00   0.00    0.00   \n",
       "rerror_rate                  1.731358e-01  0.0  0.0  0.00   0.00    0.00   \n",
       "srv_rerror_rate              1.732166e-01  0.0  0.0  0.00   0.00    0.00   \n",
       "same_srv_rate                1.701388e-01  0.0  0.0  0.01   0.03    0.25   \n",
       "diff_srv_rate                6.715523e-02  0.0  0.0  0.00   0.00    0.00   \n",
       "srv_diff_host_rate           6.428764e-02  0.0  0.0  0.00   0.00    0.00   \n",
       "dst_host_count               8.842932e+03  0.0  1.0  6.00  20.00  121.00   \n",
       "dst_host_srv_count           1.249545e+04  0.0  1.0  1.00   3.00   15.00   \n",
       "dst_host_same_srv_rate       1.898182e-01  0.0  0.0  0.00   0.02    0.07   \n",
       "dst_host_diff_srv_rate       4.871805e-02  0.0  0.0  0.00   0.00    0.00   \n",
       "dst_host_same_src_port_rate  9.380364e-02  0.0  0.0  0.00   0.00    0.00   \n",
       "dst_host_srv_diff_host_rate  7.292422e-03  0.0  0.0  0.00   0.00    0.00   \n",
       "dst_host_serror_rate         7.460766e-02  0.0  0.0  0.00   0.00    0.00   \n",
       "dst_host_srv_serror_rate     7.945169e-02  0.0  0.0  0.00   0.00    0.00   \n",
       "dst_host_rerror_rate         1.499267e-01  0.0  0.0  0.00   0.00    0.00   \n",
       "dst_host_srv_rerror_rate     1.606813e-01  0.0  0.0  0.00   0.00    0.00   \n",
       "\n",
       "                                P50     P75      P90       P95          P99  \\\n",
       "duration                       0.00    0.00     4.00    283.00    7589.5800   \n",
       "src_bytes                     54.00  287.00  1032.00  15876.00  283618.0000   \n",
       "dst_bytes                     46.00  601.00  4099.40   8314.00   26032.7600   \n",
       "hot                            0.00    0.00     0.00      0.00       2.0000   \n",
       "num_compromised                0.00    0.00     0.00      0.00       1.0000   \n",
       "num_root                       0.00    0.00     0.00      0.00       0.0000   \n",
       "num_file_creations             0.00    0.00     0.00      0.00       0.0000   \n",
       "last_flag                     20.00   21.00    21.00     21.00      21.0000   \n",
       "num_access_files               0.00    0.00     0.00      0.00       0.0000   \n",
       "count                          8.00  123.00   256.00    400.90     511.0000   \n",
       "srv_count                      6.00   16.00    43.00    185.00     511.0000   \n",
       "serror_rate                    0.00    0.00     0.50      1.00       1.0000   \n",
       "srv_serror_rate                0.00    0.00     0.60      1.00       1.0000   \n",
       "rerror_rate                    0.00    0.25     1.00      1.00       1.0000   \n",
       "srv_rerror_rate                0.00    0.07     1.00      1.00       1.0000   \n",
       "same_srv_rate                  1.00    1.00     1.00      1.00       1.0000   \n",
       "diff_srv_rate                  0.00    0.06     0.09      1.00       1.0000   \n",
       "srv_diff_host_rate             0.00    0.00     0.33      1.00       1.0000   \n",
       "dst_host_count               255.00  255.00   255.00    255.00     255.0000   \n",
       "dst_host_srv_count           168.00  255.00   255.00    255.00     255.0000   \n",
       "dst_host_same_srv_rate         0.92    1.00     1.00      1.00       1.0000   \n",
       "dst_host_diff_srv_rate         0.01    0.06     0.15      0.75       1.0000   \n",
       "dst_host_same_src_port_rate    0.00    0.03     0.85      1.00       1.0000   \n",
       "dst_host_srv_diff_host_rate    0.00    0.01     0.04      0.06       0.4058   \n",
       "dst_host_serror_rate           0.00    0.00     0.35      1.00       1.0000   \n",
       "dst_host_srv_serror_rate       0.00    0.00     0.46      1.00       1.0000   \n",
       "dst_host_rerror_rate           0.00    0.36     1.00      1.00       1.0000   \n",
       "dst_host_srv_rerror_rate       0.00    0.17     1.00      1.00       1.0000   \n",
       "\n",
       "                                    MAX  \n",
       "duration                        57715.0  \n",
       "src_bytes                    62825648.0  \n",
       "dst_bytes                     1345927.0  \n",
       "hot                               101.0  \n",
       "num_compromised                   796.0  \n",
       "num_root                          878.0  \n",
       "num_file_creations                100.0  \n",
       "last_flag                          21.0  \n",
       "num_access_files                    4.0  \n",
       "count                             511.0  \n",
       "srv_count                         511.0  \n",
       "serror_rate                         1.0  \n",
       "srv_serror_rate                     1.0  \n",
       "rerror_rate                         1.0  \n",
       "srv_rerror_rate                     1.0  \n",
       "same_srv_rate                       1.0  \n",
       "diff_srv_rate                       1.0  \n",
       "srv_diff_host_rate                  1.0  \n",
       "dst_host_count                    255.0  \n",
       "dst_host_srv_count                255.0  \n",
       "dst_host_same_srv_rate              1.0  \n",
       "dst_host_diff_srv_rate              1.0  \n",
       "dst_host_same_src_port_rate         1.0  \n",
       "dst_host_srv_diff_host_rate         1.0  \n",
       "dst_host_serror_rate                1.0  \n",
       "dst_host_srv_serror_rate            1.0  \n",
       "dst_host_rerror_rate                1.0  \n",
       "dst_host_srv_rerror_rate            1.0  "
      ]
     },
     "execution_count": 19,
     "metadata": {},
     "output_type": "execute_result"
    }
   ],
   "source": [
    "test_num.apply(var_summary).T"
   ]
  },
  {
   "cell_type": "markdown",
   "metadata": {},
   "source": [
    "### outlier"
   ]
  },
  {
   "cell_type": "code",
   "execution_count": 20,
   "metadata": {},
   "outputs": [],
   "source": [
    "# treating outliers\n",
    "def outlier_clip(x):\n",
    "    x = x.clip_upper(x.quantile(0.99))\n",
    "    x = x.clip_lower(x.quantile(0.01))\n",
    "    return x"
   ]
  },
  {
   "cell_type": "code",
   "execution_count": 21,
   "metadata": {},
   "outputs": [
    {
     "name": "stderr",
     "output_type": "stream",
     "text": [
      "C:\\Users\\Ashu\\Anaconda3\\lib\\site-packages\\ipykernel_launcher.py:3: FutureWarning: clip_upper(threshold) is deprecated, use clip(upper=threshold) instead\n",
      "  This is separate from the ipykernel package so we can avoid doing imports until\n",
      "C:\\Users\\Ashu\\Anaconda3\\lib\\site-packages\\ipykernel_launcher.py:4: FutureWarning: clip_lower(threshold) is deprecated, use clip(lower=threshold) instead\n",
      "  after removing the cwd from sys.path.\n"
     ]
    }
   ],
   "source": [
    "train_num=train_num.apply(outlier_clip)"
   ]
  },
  {
   "cell_type": "code",
   "execution_count": 22,
   "metadata": {
    "scrolled": true
   },
   "outputs": [
    {
     "data": {
      "text/html": [
       "<div>\n",
       "<style scoped>\n",
       "    .dataframe tbody tr th:only-of-type {\n",
       "        vertical-align: middle;\n",
       "    }\n",
       "\n",
       "    .dataframe tbody tr th {\n",
       "        vertical-align: top;\n",
       "    }\n",
       "\n",
       "    .dataframe thead th {\n",
       "        text-align: right;\n",
       "    }\n",
       "</style>\n",
       "<table border=\"1\" class=\"dataframe\">\n",
       "  <thead>\n",
       "    <tr style=\"text-align: right;\">\n",
       "      <th></th>\n",
       "      <th>N</th>\n",
       "      <th>NMISS</th>\n",
       "      <th>nunique</th>\n",
       "      <th>SUM</th>\n",
       "      <th>MEAN</th>\n",
       "      <th>MEDIAN</th>\n",
       "      <th>STD</th>\n",
       "      <th>VAR</th>\n",
       "      <th>MIN</th>\n",
       "      <th>P1</th>\n",
       "      <th>P5</th>\n",
       "      <th>P10</th>\n",
       "      <th>P25</th>\n",
       "      <th>P50</th>\n",
       "      <th>P75</th>\n",
       "      <th>P90</th>\n",
       "      <th>P95</th>\n",
       "      <th>P99</th>\n",
       "      <th>MAX</th>\n",
       "    </tr>\n",
       "  </thead>\n",
       "  <tbody>\n",
       "    <tr>\n",
       "      <td>duration</td>\n",
       "      <td>125972.0</td>\n",
       "      <td>0.0</td>\n",
       "      <td>1767.0</td>\n",
       "      <td>1.911169e+07</td>\n",
       "      <td>151.713784</td>\n",
       "      <td>0.00</td>\n",
       "      <td>1095.867911</td>\n",
       "      <td>1.200926e+06</td>\n",
       "      <td>0.0</td>\n",
       "      <td>0.0</td>\n",
       "      <td>0.00</td>\n",
       "      <td>0.00</td>\n",
       "      <td>0.00</td>\n",
       "      <td>0.00</td>\n",
       "      <td>0.00</td>\n",
       "      <td>0.00</td>\n",
       "      <td>4.00</td>\n",
       "      <td>9590.1682</td>\n",
       "      <td>9590.58</td>\n",
       "    </tr>\n",
       "    <tr>\n",
       "      <td>src_bytes</td>\n",
       "      <td>125972.0</td>\n",
       "      <td>0.0</td>\n",
       "      <td>3223.0</td>\n",
       "      <td>1.296885e+08</td>\n",
       "      <td>1029.502397</td>\n",
       "      <td>44.00</td>\n",
       "      <td>6137.925753</td>\n",
       "      <td>3.767413e+07</td>\n",
       "      <td>0.0</td>\n",
       "      <td>0.0</td>\n",
       "      <td>0.00</td>\n",
       "      <td>0.00</td>\n",
       "      <td>0.00</td>\n",
       "      <td>44.00</td>\n",
       "      <td>276.00</td>\n",
       "      <td>848.00</td>\n",
       "      <td>1480.00</td>\n",
       "      <td>54540.0000</td>\n",
       "      <td>54540.00</td>\n",
       "    </tr>\n",
       "    <tr>\n",
       "      <td>dst_bytes</td>\n",
       "      <td>125972.0</td>\n",
       "      <td>0.0</td>\n",
       "      <td>8405.0</td>\n",
       "      <td>1.690707e+08</td>\n",
       "      <td>1342.129203</td>\n",
       "      <td>0.00</td>\n",
       "      <td>3804.307224</td>\n",
       "      <td>1.447275e+07</td>\n",
       "      <td>0.0</td>\n",
       "      <td>0.0</td>\n",
       "      <td>0.00</td>\n",
       "      <td>0.00</td>\n",
       "      <td>0.00</td>\n",
       "      <td>0.00</td>\n",
       "      <td>516.00</td>\n",
       "      <td>3375.90</td>\n",
       "      <td>8314.00</td>\n",
       "      <td>25519.0000</td>\n",
       "      <td>25519.00</td>\n",
       "    </tr>\n",
       "    <tr>\n",
       "      <td>hot</td>\n",
       "      <td>125972.0</td>\n",
       "      <td>0.0</td>\n",
       "      <td>4.0</td>\n",
       "      <td>6.238000e+03</td>\n",
       "      <td>0.049519</td>\n",
       "      <td>0.00</td>\n",
       "      <td>0.351828</td>\n",
       "      <td>1.237833e-01</td>\n",
       "      <td>0.0</td>\n",
       "      <td>0.0</td>\n",
       "      <td>0.00</td>\n",
       "      <td>0.00</td>\n",
       "      <td>0.00</td>\n",
       "      <td>0.00</td>\n",
       "      <td>0.00</td>\n",
       "      <td>0.00</td>\n",
       "      <td>0.00</td>\n",
       "      <td>3.0000</td>\n",
       "      <td>3.00</td>\n",
       "    </tr>\n",
       "    <tr>\n",
       "      <td>num_compromised</td>\n",
       "      <td>125972.0</td>\n",
       "      <td>0.0</td>\n",
       "      <td>2.0</td>\n",
       "      <td>1.286000e+03</td>\n",
       "      <td>0.010209</td>\n",
       "      <td>0.00</td>\n",
       "      <td>0.100521</td>\n",
       "      <td>1.010448e-02</td>\n",
       "      <td>0.0</td>\n",
       "      <td>0.0</td>\n",
       "      <td>0.00</td>\n",
       "      <td>0.00</td>\n",
       "      <td>0.00</td>\n",
       "      <td>0.00</td>\n",
       "      <td>0.00</td>\n",
       "      <td>0.00</td>\n",
       "      <td>0.00</td>\n",
       "      <td>1.0000</td>\n",
       "      <td>1.00</td>\n",
       "    </tr>\n",
       "    <tr>\n",
       "      <td>num_root</td>\n",
       "      <td>125972.0</td>\n",
       "      <td>0.0</td>\n",
       "      <td>1.0</td>\n",
       "      <td>0.000000e+00</td>\n",
       "      <td>0.000000</td>\n",
       "      <td>0.00</td>\n",
       "      <td>0.000000</td>\n",
       "      <td>0.000000e+00</td>\n",
       "      <td>0.0</td>\n",
       "      <td>0.0</td>\n",
       "      <td>0.00</td>\n",
       "      <td>0.00</td>\n",
       "      <td>0.00</td>\n",
       "      <td>0.00</td>\n",
       "      <td>0.00</td>\n",
       "      <td>0.00</td>\n",
       "      <td>0.00</td>\n",
       "      <td>0.0000</td>\n",
       "      <td>0.00</td>\n",
       "    </tr>\n",
       "    <tr>\n",
       "      <td>num_file_creations</td>\n",
       "      <td>125972.0</td>\n",
       "      <td>0.0</td>\n",
       "      <td>1.0</td>\n",
       "      <td>0.000000e+00</td>\n",
       "      <td>0.000000</td>\n",
       "      <td>0.00</td>\n",
       "      <td>0.000000</td>\n",
       "      <td>0.000000e+00</td>\n",
       "      <td>0.0</td>\n",
       "      <td>0.0</td>\n",
       "      <td>0.00</td>\n",
       "      <td>0.00</td>\n",
       "      <td>0.00</td>\n",
       "      <td>0.00</td>\n",
       "      <td>0.00</td>\n",
       "      <td>0.00</td>\n",
       "      <td>0.00</td>\n",
       "      <td>0.0000</td>\n",
       "      <td>0.00</td>\n",
       "    </tr>\n",
       "    <tr>\n",
       "      <td>last_flag</td>\n",
       "      <td>125972.0</td>\n",
       "      <td>0.0</td>\n",
       "      <td>11.0</td>\n",
       "      <td>2.462267e+06</td>\n",
       "      <td>19.546145</td>\n",
       "      <td>20.00</td>\n",
       "      <td>2.061403</td>\n",
       "      <td>4.249381e+00</td>\n",
       "      <td>11.0</td>\n",
       "      <td>11.0</td>\n",
       "      <td>15.00</td>\n",
       "      <td>17.00</td>\n",
       "      <td>18.00</td>\n",
       "      <td>20.00</td>\n",
       "      <td>21.00</td>\n",
       "      <td>21.00</td>\n",
       "      <td>21.00</td>\n",
       "      <td>21.0000</td>\n",
       "      <td>21.00</td>\n",
       "    </tr>\n",
       "    <tr>\n",
       "      <td>num_access_files</td>\n",
       "      <td>125972.0</td>\n",
       "      <td>0.0</td>\n",
       "      <td>1.0</td>\n",
       "      <td>0.000000e+00</td>\n",
       "      <td>0.000000</td>\n",
       "      <td>0.00</td>\n",
       "      <td>0.000000</td>\n",
       "      <td>0.000000e+00</td>\n",
       "      <td>0.0</td>\n",
       "      <td>0.0</td>\n",
       "      <td>0.00</td>\n",
       "      <td>0.00</td>\n",
       "      <td>0.00</td>\n",
       "      <td>0.00</td>\n",
       "      <td>0.00</td>\n",
       "      <td>0.00</td>\n",
       "      <td>0.00</td>\n",
       "      <td>0.0000</td>\n",
       "      <td>0.00</td>\n",
       "    </tr>\n",
       "    <tr>\n",
       "      <td>count</td>\n",
       "      <td>125972.0</td>\n",
       "      <td>0.0</td>\n",
       "      <td>511.0</td>\n",
       "      <td>1.059529e+07</td>\n",
       "      <td>84.108310</td>\n",
       "      <td>14.00</td>\n",
       "      <td>114.508753</td>\n",
       "      <td>1.311225e+04</td>\n",
       "      <td>1.0</td>\n",
       "      <td>1.0</td>\n",
       "      <td>1.00</td>\n",
       "      <td>1.00</td>\n",
       "      <td>2.00</td>\n",
       "      <td>14.00</td>\n",
       "      <td>143.00</td>\n",
       "      <td>256.00</td>\n",
       "      <td>286.00</td>\n",
       "      <td>511.0000</td>\n",
       "      <td>511.00</td>\n",
       "    </tr>\n",
       "    <tr>\n",
       "      <td>srv_count</td>\n",
       "      <td>125972.0</td>\n",
       "      <td>0.0</td>\n",
       "      <td>492.0</td>\n",
       "      <td>3.470952e+06</td>\n",
       "      <td>27.553361</td>\n",
       "      <td>8.00</td>\n",
       "      <td>71.420437</td>\n",
       "      <td>5.100879e+03</td>\n",
       "      <td>1.0</td>\n",
       "      <td>1.0</td>\n",
       "      <td>1.00</td>\n",
       "      <td>1.00</td>\n",
       "      <td>2.00</td>\n",
       "      <td>8.00</td>\n",
       "      <td>18.00</td>\n",
       "      <td>40.00</td>\n",
       "      <td>158.00</td>\n",
       "      <td>492.0000</td>\n",
       "      <td>492.00</td>\n",
       "    </tr>\n",
       "    <tr>\n",
       "      <td>serror_rate</td>\n",
       "      <td>125972.0</td>\n",
       "      <td>0.0</td>\n",
       "      <td>89.0</td>\n",
       "      <td>3.583737e+04</td>\n",
       "      <td>0.284487</td>\n",
       "      <td>0.00</td>\n",
       "      <td>0.446457</td>\n",
       "      <td>1.993236e-01</td>\n",
       "      <td>0.0</td>\n",
       "      <td>0.0</td>\n",
       "      <td>0.00</td>\n",
       "      <td>0.00</td>\n",
       "      <td>0.00</td>\n",
       "      <td>0.00</td>\n",
       "      <td>1.00</td>\n",
       "      <td>1.00</td>\n",
       "      <td>1.00</td>\n",
       "      <td>1.0000</td>\n",
       "      <td>1.00</td>\n",
       "    </tr>\n",
       "    <tr>\n",
       "      <td>srv_serror_rate</td>\n",
       "      <td>125972.0</td>\n",
       "      <td>0.0</td>\n",
       "      <td>86.0</td>\n",
       "      <td>3.558553e+04</td>\n",
       "      <td>0.282488</td>\n",
       "      <td>0.00</td>\n",
       "      <td>0.447024</td>\n",
       "      <td>1.998301e-01</td>\n",
       "      <td>0.0</td>\n",
       "      <td>0.0</td>\n",
       "      <td>0.00</td>\n",
       "      <td>0.00</td>\n",
       "      <td>0.00</td>\n",
       "      <td>0.00</td>\n",
       "      <td>1.00</td>\n",
       "      <td>1.00</td>\n",
       "      <td>1.00</td>\n",
       "      <td>1.0000</td>\n",
       "      <td>1.00</td>\n",
       "    </tr>\n",
       "    <tr>\n",
       "      <td>rerror_rate</td>\n",
       "      <td>125972.0</td>\n",
       "      <td>0.0</td>\n",
       "      <td>82.0</td>\n",
       "      <td>1.511153e+04</td>\n",
       "      <td>0.119959</td>\n",
       "      <td>0.00</td>\n",
       "      <td>0.320437</td>\n",
       "      <td>1.026796e-01</td>\n",
       "      <td>0.0</td>\n",
       "      <td>0.0</td>\n",
       "      <td>0.00</td>\n",
       "      <td>0.00</td>\n",
       "      <td>0.00</td>\n",
       "      <td>0.00</td>\n",
       "      <td>0.00</td>\n",
       "      <td>1.00</td>\n",
       "      <td>1.00</td>\n",
       "      <td>1.0000</td>\n",
       "      <td>1.00</td>\n",
       "    </tr>\n",
       "    <tr>\n",
       "      <td>srv_rerror_rate</td>\n",
       "      <td>125972.0</td>\n",
       "      <td>0.0</td>\n",
       "      <td>62.0</td>\n",
       "      <td>1.526582e+04</td>\n",
       "      <td>0.121184</td>\n",
       "      <td>0.00</td>\n",
       "      <td>0.323648</td>\n",
       "      <td>1.047482e-01</td>\n",
       "      <td>0.0</td>\n",
       "      <td>0.0</td>\n",
       "      <td>0.00</td>\n",
       "      <td>0.00</td>\n",
       "      <td>0.00</td>\n",
       "      <td>0.00</td>\n",
       "      <td>0.00</td>\n",
       "      <td>1.00</td>\n",
       "      <td>1.00</td>\n",
       "      <td>1.0000</td>\n",
       "      <td>1.00</td>\n",
       "    </tr>\n",
       "    <tr>\n",
       "      <td>same_srv_rate</td>\n",
       "      <td>125972.0</td>\n",
       "      <td>0.0</td>\n",
       "      <td>101.0</td>\n",
       "      <td>8.325804e+04</td>\n",
       "      <td>0.660925</td>\n",
       "      <td>1.00</td>\n",
       "      <td>0.439624</td>\n",
       "      <td>1.932689e-01</td>\n",
       "      <td>0.0</td>\n",
       "      <td>0.0</td>\n",
       "      <td>0.01</td>\n",
       "      <td>0.03</td>\n",
       "      <td>0.09</td>\n",
       "      <td>1.00</td>\n",
       "      <td>1.00</td>\n",
       "      <td>1.00</td>\n",
       "      <td>1.00</td>\n",
       "      <td>1.0000</td>\n",
       "      <td>1.00</td>\n",
       "    </tr>\n",
       "    <tr>\n",
       "      <td>diff_srv_rate</td>\n",
       "      <td>125972.0</td>\n",
       "      <td>0.0</td>\n",
       "      <td>95.0</td>\n",
       "      <td>7.942930e+03</td>\n",
       "      <td>0.063053</td>\n",
       "      <td>0.00</td>\n",
       "      <td>0.180315</td>\n",
       "      <td>3.251351e-02</td>\n",
       "      <td>0.0</td>\n",
       "      <td>0.0</td>\n",
       "      <td>0.00</td>\n",
       "      <td>0.00</td>\n",
       "      <td>0.00</td>\n",
       "      <td>0.00</td>\n",
       "      <td>0.06</td>\n",
       "      <td>0.07</td>\n",
       "      <td>0.29</td>\n",
       "      <td>1.0000</td>\n",
       "      <td>1.00</td>\n",
       "    </tr>\n",
       "    <tr>\n",
       "      <td>srv_diff_host_rate</td>\n",
       "      <td>125972.0</td>\n",
       "      <td>0.0</td>\n",
       "      <td>60.0</td>\n",
       "      <td>1.225990e+04</td>\n",
       "      <td>0.097322</td>\n",
       "      <td>0.00</td>\n",
       "      <td>0.259831</td>\n",
       "      <td>6.751235e-02</td>\n",
       "      <td>0.0</td>\n",
       "      <td>0.0</td>\n",
       "      <td>0.00</td>\n",
       "      <td>0.00</td>\n",
       "      <td>0.00</td>\n",
       "      <td>0.00</td>\n",
       "      <td>0.00</td>\n",
       "      <td>0.31</td>\n",
       "      <td>1.00</td>\n",
       "      <td>1.0000</td>\n",
       "      <td>1.00</td>\n",
       "    </tr>\n",
       "    <tr>\n",
       "      <td>dst_host_count</td>\n",
       "      <td>125972.0</td>\n",
       "      <td>0.0</td>\n",
       "      <td>255.0</td>\n",
       "      <td>2.294570e+07</td>\n",
       "      <td>182.149224</td>\n",
       "      <td>255.00</td>\n",
       "      <td>99.206522</td>\n",
       "      <td>9.841934e+03</td>\n",
       "      <td>1.0</td>\n",
       "      <td>1.0</td>\n",
       "      <td>3.00</td>\n",
       "      <td>11.00</td>\n",
       "      <td>82.00</td>\n",
       "      <td>255.00</td>\n",
       "      <td>255.00</td>\n",
       "      <td>255.00</td>\n",
       "      <td>255.00</td>\n",
       "      <td>255.0000</td>\n",
       "      <td>255.00</td>\n",
       "    </tr>\n",
       "    <tr>\n",
       "      <td>dst_host_srv_count</td>\n",
       "      <td>125972.0</td>\n",
       "      <td>0.0</td>\n",
       "      <td>255.0</td>\n",
       "      <td>1.456913e+07</td>\n",
       "      <td>115.653748</td>\n",
       "      <td>63.00</td>\n",
       "      <td>110.702861</td>\n",
       "      <td>1.225512e+04</td>\n",
       "      <td>1.0</td>\n",
       "      <td>1.0</td>\n",
       "      <td>1.00</td>\n",
       "      <td>2.00</td>\n",
       "      <td>10.00</td>\n",
       "      <td>63.00</td>\n",
       "      <td>255.00</td>\n",
       "      <td>255.00</td>\n",
       "      <td>255.00</td>\n",
       "      <td>255.0000</td>\n",
       "      <td>255.00</td>\n",
       "    </tr>\n",
       "    <tr>\n",
       "      <td>dst_host_same_srv_rate</td>\n",
       "      <td>125972.0</td>\n",
       "      <td>0.0</td>\n",
       "      <td>101.0</td>\n",
       "      <td>6.566221e+04</td>\n",
       "      <td>0.521244</td>\n",
       "      <td>0.51</td>\n",
       "      <td>0.448950</td>\n",
       "      <td>2.015562e-01</td>\n",
       "      <td>0.0</td>\n",
       "      <td>0.0</td>\n",
       "      <td>0.00</td>\n",
       "      <td>0.01</td>\n",
       "      <td>0.05</td>\n",
       "      <td>0.51</td>\n",
       "      <td>1.00</td>\n",
       "      <td>1.00</td>\n",
       "      <td>1.00</td>\n",
       "      <td>1.0000</td>\n",
       "      <td>1.00</td>\n",
       "    </tr>\n",
       "    <tr>\n",
       "      <td>dst_host_diff_srv_rate</td>\n",
       "      <td>125972.0</td>\n",
       "      <td>0.0</td>\n",
       "      <td>101.0</td>\n",
       "      <td>1.044957e+04</td>\n",
       "      <td>0.082952</td>\n",
       "      <td>0.02</td>\n",
       "      <td>0.188922</td>\n",
       "      <td>3.569171e-02</td>\n",
       "      <td>0.0</td>\n",
       "      <td>0.0</td>\n",
       "      <td>0.00</td>\n",
       "      <td>0.00</td>\n",
       "      <td>0.00</td>\n",
       "      <td>0.02</td>\n",
       "      <td>0.07</td>\n",
       "      <td>0.10</td>\n",
       "      <td>0.56</td>\n",
       "      <td>1.0000</td>\n",
       "      <td>1.00</td>\n",
       "    </tr>\n",
       "    <tr>\n",
       "      <td>dst_host_same_src_port_rate</td>\n",
       "      <td>125972.0</td>\n",
       "      <td>0.0</td>\n",
       "      <td>101.0</td>\n",
       "      <td>1.869156e+04</td>\n",
       "      <td>0.148379</td>\n",
       "      <td>0.00</td>\n",
       "      <td>0.308998</td>\n",
       "      <td>9.547998e-02</td>\n",
       "      <td>0.0</td>\n",
       "      <td>0.0</td>\n",
       "      <td>0.00</td>\n",
       "      <td>0.00</td>\n",
       "      <td>0.00</td>\n",
       "      <td>0.00</td>\n",
       "      <td>0.06</td>\n",
       "      <td>0.84</td>\n",
       "      <td>1.00</td>\n",
       "      <td>1.0000</td>\n",
       "      <td>1.00</td>\n",
       "    </tr>\n",
       "    <tr>\n",
       "      <td>dst_host_srv_diff_host_rate</td>\n",
       "      <td>125972.0</td>\n",
       "      <td>0.0</td>\n",
       "      <td>53.0</td>\n",
       "      <td>3.734940e+03</td>\n",
       "      <td>0.029649</td>\n",
       "      <td>0.00</td>\n",
       "      <td>0.092388</td>\n",
       "      <td>8.535578e-03</td>\n",
       "      <td>0.0</td>\n",
       "      <td>0.0</td>\n",
       "      <td>0.00</td>\n",
       "      <td>0.00</td>\n",
       "      <td>0.00</td>\n",
       "      <td>0.00</td>\n",
       "      <td>0.02</td>\n",
       "      <td>0.05</td>\n",
       "      <td>0.18</td>\n",
       "      <td>0.5200</td>\n",
       "      <td>0.52</td>\n",
       "    </tr>\n",
       "    <tr>\n",
       "      <td>dst_host_serror_rate</td>\n",
       "      <td>125972.0</td>\n",
       "      <td>0.0</td>\n",
       "      <td>101.0</td>\n",
       "      <td>3.583333e+04</td>\n",
       "      <td>0.284455</td>\n",
       "      <td>0.00</td>\n",
       "      <td>0.444785</td>\n",
       "      <td>1.978338e-01</td>\n",
       "      <td>0.0</td>\n",
       "      <td>0.0</td>\n",
       "      <td>0.00</td>\n",
       "      <td>0.00</td>\n",
       "      <td>0.00</td>\n",
       "      <td>0.00</td>\n",
       "      <td>1.00</td>\n",
       "      <td>1.00</td>\n",
       "      <td>1.00</td>\n",
       "      <td>1.0000</td>\n",
       "      <td>1.00</td>\n",
       "    </tr>\n",
       "    <tr>\n",
       "      <td>dst_host_srv_serror_rate</td>\n",
       "      <td>125972.0</td>\n",
       "      <td>0.0</td>\n",
       "      <td>100.0</td>\n",
       "      <td>3.508153e+04</td>\n",
       "      <td>0.278487</td>\n",
       "      <td>0.00</td>\n",
       "      <td>0.445670</td>\n",
       "      <td>1.986219e-01</td>\n",
       "      <td>0.0</td>\n",
       "      <td>0.0</td>\n",
       "      <td>0.00</td>\n",
       "      <td>0.00</td>\n",
       "      <td>0.00</td>\n",
       "      <td>0.00</td>\n",
       "      <td>1.00</td>\n",
       "      <td>1.00</td>\n",
       "      <td>1.00</td>\n",
       "      <td>1.0000</td>\n",
       "      <td>1.00</td>\n",
       "    </tr>\n",
       "    <tr>\n",
       "      <td>dst_host_rerror_rate</td>\n",
       "      <td>125972.0</td>\n",
       "      <td>0.0</td>\n",
       "      <td>101.0</td>\n",
       "      <td>1.496955e+04</td>\n",
       "      <td>0.118832</td>\n",
       "      <td>0.00</td>\n",
       "      <td>0.306559</td>\n",
       "      <td>9.397818e-02</td>\n",
       "      <td>0.0</td>\n",
       "      <td>0.0</td>\n",
       "      <td>0.00</td>\n",
       "      <td>0.00</td>\n",
       "      <td>0.00</td>\n",
       "      <td>0.00</td>\n",
       "      <td>0.00</td>\n",
       "      <td>0.84</td>\n",
       "      <td>1.00</td>\n",
       "      <td>1.0000</td>\n",
       "      <td>1.00</td>\n",
       "    </tr>\n",
       "    <tr>\n",
       "      <td>dst_host_srv_rerror_rate</td>\n",
       "      <td>125972.0</td>\n",
       "      <td>0.0</td>\n",
       "      <td>101.0</td>\n",
       "      <td>1.514698e+04</td>\n",
       "      <td>0.120241</td>\n",
       "      <td>0.00</td>\n",
       "      <td>0.319460</td>\n",
       "      <td>1.020550e-01</td>\n",
       "      <td>0.0</td>\n",
       "      <td>0.0</td>\n",
       "      <td>0.00</td>\n",
       "      <td>0.00</td>\n",
       "      <td>0.00</td>\n",
       "      <td>0.00</td>\n",
       "      <td>0.00</td>\n",
       "      <td>1.00</td>\n",
       "      <td>1.00</td>\n",
       "      <td>1.0000</td>\n",
       "      <td>1.00</td>\n",
       "    </tr>\n",
       "  </tbody>\n",
       "</table>\n",
       "</div>"
      ],
      "text/plain": [
       "                                    N  NMISS  nunique           SUM  \\\n",
       "duration                     125972.0    0.0   1767.0  1.911169e+07   \n",
       "src_bytes                    125972.0    0.0   3223.0  1.296885e+08   \n",
       "dst_bytes                    125972.0    0.0   8405.0  1.690707e+08   \n",
       "hot                          125972.0    0.0      4.0  6.238000e+03   \n",
       "num_compromised              125972.0    0.0      2.0  1.286000e+03   \n",
       "num_root                     125972.0    0.0      1.0  0.000000e+00   \n",
       "num_file_creations           125972.0    0.0      1.0  0.000000e+00   \n",
       "last_flag                    125972.0    0.0     11.0  2.462267e+06   \n",
       "num_access_files             125972.0    0.0      1.0  0.000000e+00   \n",
       "count                        125972.0    0.0    511.0  1.059529e+07   \n",
       "srv_count                    125972.0    0.0    492.0  3.470952e+06   \n",
       "serror_rate                  125972.0    0.0     89.0  3.583737e+04   \n",
       "srv_serror_rate              125972.0    0.0     86.0  3.558553e+04   \n",
       "rerror_rate                  125972.0    0.0     82.0  1.511153e+04   \n",
       "srv_rerror_rate              125972.0    0.0     62.0  1.526582e+04   \n",
       "same_srv_rate                125972.0    0.0    101.0  8.325804e+04   \n",
       "diff_srv_rate                125972.0    0.0     95.0  7.942930e+03   \n",
       "srv_diff_host_rate           125972.0    0.0     60.0  1.225990e+04   \n",
       "dst_host_count               125972.0    0.0    255.0  2.294570e+07   \n",
       "dst_host_srv_count           125972.0    0.0    255.0  1.456913e+07   \n",
       "dst_host_same_srv_rate       125972.0    0.0    101.0  6.566221e+04   \n",
       "dst_host_diff_srv_rate       125972.0    0.0    101.0  1.044957e+04   \n",
       "dst_host_same_src_port_rate  125972.0    0.0    101.0  1.869156e+04   \n",
       "dst_host_srv_diff_host_rate  125972.0    0.0     53.0  3.734940e+03   \n",
       "dst_host_serror_rate         125972.0    0.0    101.0  3.583333e+04   \n",
       "dst_host_srv_serror_rate     125972.0    0.0    100.0  3.508153e+04   \n",
       "dst_host_rerror_rate         125972.0    0.0    101.0  1.496955e+04   \n",
       "dst_host_srv_rerror_rate     125972.0    0.0    101.0  1.514698e+04   \n",
       "\n",
       "                                    MEAN  MEDIAN          STD           VAR  \\\n",
       "duration                      151.713784    0.00  1095.867911  1.200926e+06   \n",
       "src_bytes                    1029.502397   44.00  6137.925753  3.767413e+07   \n",
       "dst_bytes                    1342.129203    0.00  3804.307224  1.447275e+07   \n",
       "hot                             0.049519    0.00     0.351828  1.237833e-01   \n",
       "num_compromised                 0.010209    0.00     0.100521  1.010448e-02   \n",
       "num_root                        0.000000    0.00     0.000000  0.000000e+00   \n",
       "num_file_creations              0.000000    0.00     0.000000  0.000000e+00   \n",
       "last_flag                      19.546145   20.00     2.061403  4.249381e+00   \n",
       "num_access_files                0.000000    0.00     0.000000  0.000000e+00   \n",
       "count                          84.108310   14.00   114.508753  1.311225e+04   \n",
       "srv_count                      27.553361    8.00    71.420437  5.100879e+03   \n",
       "serror_rate                     0.284487    0.00     0.446457  1.993236e-01   \n",
       "srv_serror_rate                 0.282488    0.00     0.447024  1.998301e-01   \n",
       "rerror_rate                     0.119959    0.00     0.320437  1.026796e-01   \n",
       "srv_rerror_rate                 0.121184    0.00     0.323648  1.047482e-01   \n",
       "same_srv_rate                   0.660925    1.00     0.439624  1.932689e-01   \n",
       "diff_srv_rate                   0.063053    0.00     0.180315  3.251351e-02   \n",
       "srv_diff_host_rate              0.097322    0.00     0.259831  6.751235e-02   \n",
       "dst_host_count                182.149224  255.00    99.206522  9.841934e+03   \n",
       "dst_host_srv_count            115.653748   63.00   110.702861  1.225512e+04   \n",
       "dst_host_same_srv_rate          0.521244    0.51     0.448950  2.015562e-01   \n",
       "dst_host_diff_srv_rate          0.082952    0.02     0.188922  3.569171e-02   \n",
       "dst_host_same_src_port_rate     0.148379    0.00     0.308998  9.547998e-02   \n",
       "dst_host_srv_diff_host_rate     0.029649    0.00     0.092388  8.535578e-03   \n",
       "dst_host_serror_rate            0.284455    0.00     0.444785  1.978338e-01   \n",
       "dst_host_srv_serror_rate        0.278487    0.00     0.445670  1.986219e-01   \n",
       "dst_host_rerror_rate            0.118832    0.00     0.306559  9.397818e-02   \n",
       "dst_host_srv_rerror_rate        0.120241    0.00     0.319460  1.020550e-01   \n",
       "\n",
       "                              MIN    P1     P5    P10    P25     P50     P75  \\\n",
       "duration                      0.0   0.0   0.00   0.00   0.00    0.00    0.00   \n",
       "src_bytes                     0.0   0.0   0.00   0.00   0.00   44.00  276.00   \n",
       "dst_bytes                     0.0   0.0   0.00   0.00   0.00    0.00  516.00   \n",
       "hot                           0.0   0.0   0.00   0.00   0.00    0.00    0.00   \n",
       "num_compromised               0.0   0.0   0.00   0.00   0.00    0.00    0.00   \n",
       "num_root                      0.0   0.0   0.00   0.00   0.00    0.00    0.00   \n",
       "num_file_creations            0.0   0.0   0.00   0.00   0.00    0.00    0.00   \n",
       "last_flag                    11.0  11.0  15.00  17.00  18.00   20.00   21.00   \n",
       "num_access_files              0.0   0.0   0.00   0.00   0.00    0.00    0.00   \n",
       "count                         1.0   1.0   1.00   1.00   2.00   14.00  143.00   \n",
       "srv_count                     1.0   1.0   1.00   1.00   2.00    8.00   18.00   \n",
       "serror_rate                   0.0   0.0   0.00   0.00   0.00    0.00    1.00   \n",
       "srv_serror_rate               0.0   0.0   0.00   0.00   0.00    0.00    1.00   \n",
       "rerror_rate                   0.0   0.0   0.00   0.00   0.00    0.00    0.00   \n",
       "srv_rerror_rate               0.0   0.0   0.00   0.00   0.00    0.00    0.00   \n",
       "same_srv_rate                 0.0   0.0   0.01   0.03   0.09    1.00    1.00   \n",
       "diff_srv_rate                 0.0   0.0   0.00   0.00   0.00    0.00    0.06   \n",
       "srv_diff_host_rate            0.0   0.0   0.00   0.00   0.00    0.00    0.00   \n",
       "dst_host_count                1.0   1.0   3.00  11.00  82.00  255.00  255.00   \n",
       "dst_host_srv_count            1.0   1.0   1.00   2.00  10.00   63.00  255.00   \n",
       "dst_host_same_srv_rate        0.0   0.0   0.00   0.01   0.05    0.51    1.00   \n",
       "dst_host_diff_srv_rate        0.0   0.0   0.00   0.00   0.00    0.02    0.07   \n",
       "dst_host_same_src_port_rate   0.0   0.0   0.00   0.00   0.00    0.00    0.06   \n",
       "dst_host_srv_diff_host_rate   0.0   0.0   0.00   0.00   0.00    0.00    0.02   \n",
       "dst_host_serror_rate          0.0   0.0   0.00   0.00   0.00    0.00    1.00   \n",
       "dst_host_srv_serror_rate      0.0   0.0   0.00   0.00   0.00    0.00    1.00   \n",
       "dst_host_rerror_rate          0.0   0.0   0.00   0.00   0.00    0.00    0.00   \n",
       "dst_host_srv_rerror_rate      0.0   0.0   0.00   0.00   0.00    0.00    0.00   \n",
       "\n",
       "                                 P90      P95         P99       MAX  \n",
       "duration                        0.00     4.00   9590.1682   9590.58  \n",
       "src_bytes                     848.00  1480.00  54540.0000  54540.00  \n",
       "dst_bytes                    3375.90  8314.00  25519.0000  25519.00  \n",
       "hot                             0.00     0.00      3.0000      3.00  \n",
       "num_compromised                 0.00     0.00      1.0000      1.00  \n",
       "num_root                        0.00     0.00      0.0000      0.00  \n",
       "num_file_creations              0.00     0.00      0.0000      0.00  \n",
       "last_flag                      21.00    21.00     21.0000     21.00  \n",
       "num_access_files                0.00     0.00      0.0000      0.00  \n",
       "count                         256.00   286.00    511.0000    511.00  \n",
       "srv_count                      40.00   158.00    492.0000    492.00  \n",
       "serror_rate                     1.00     1.00      1.0000      1.00  \n",
       "srv_serror_rate                 1.00     1.00      1.0000      1.00  \n",
       "rerror_rate                     1.00     1.00      1.0000      1.00  \n",
       "srv_rerror_rate                 1.00     1.00      1.0000      1.00  \n",
       "same_srv_rate                   1.00     1.00      1.0000      1.00  \n",
       "diff_srv_rate                   0.07     0.29      1.0000      1.00  \n",
       "srv_diff_host_rate              0.31     1.00      1.0000      1.00  \n",
       "dst_host_count                255.00   255.00    255.0000    255.00  \n",
       "dst_host_srv_count            255.00   255.00    255.0000    255.00  \n",
       "dst_host_same_srv_rate          1.00     1.00      1.0000      1.00  \n",
       "dst_host_diff_srv_rate          0.10     0.56      1.0000      1.00  \n",
       "dst_host_same_src_port_rate     0.84     1.00      1.0000      1.00  \n",
       "dst_host_srv_diff_host_rate     0.05     0.18      0.5200      0.52  \n",
       "dst_host_serror_rate            1.00     1.00      1.0000      1.00  \n",
       "dst_host_srv_serror_rate        1.00     1.00      1.0000      1.00  \n",
       "dst_host_rerror_rate            0.84     1.00      1.0000      1.00  \n",
       "dst_host_srv_rerror_rate        1.00     1.00      1.0000      1.00  "
      ]
     },
     "execution_count": 22,
     "metadata": {},
     "output_type": "execute_result"
    }
   ],
   "source": [
    "train_num.apply(var_summary).T"
   ]
  },
  {
   "cell_type": "code",
   "execution_count": 23,
   "metadata": {},
   "outputs": [
    {
     "name": "stderr",
     "output_type": "stream",
     "text": [
      "C:\\Users\\Ashu\\Anaconda3\\lib\\site-packages\\ipykernel_launcher.py:3: FutureWarning: clip_upper(threshold) is deprecated, use clip(upper=threshold) instead\n",
      "  This is separate from the ipykernel package so we can avoid doing imports until\n",
      "C:\\Users\\Ashu\\Anaconda3\\lib\\site-packages\\ipykernel_launcher.py:4: FutureWarning: clip_lower(threshold) is deprecated, use clip(lower=threshold) instead\n",
      "  after removing the cwd from sys.path.\n"
     ]
    }
   ],
   "source": [
    "test_num=test_num.apply(outlier_clip)"
   ]
  },
  {
   "cell_type": "markdown",
   "metadata": {},
   "source": [
    "### correlation "
   ]
  },
  {
   "cell_type": "code",
   "execution_count": 24,
   "metadata": {},
   "outputs": [
    {
     "data": {
      "text/plain": [
       "<matplotlib.axes._subplots.AxesSubplot at 0x1d151050d08>"
      ]
     },
     "execution_count": 24,
     "metadata": {},
     "output_type": "execute_result"
    },
    {
     "data": {
      "image/png": "[encoded data removed]",
      "text/plain": [
       "<Figure size 720x720 with 2 Axes>"
      ]
     },
     "metadata": {
      "needs_background": "light"
     },
     "output_type": "display_data"
    }
   ],
   "source": [
    "# checking correlation via heatmap\n",
    "corr = np.round(train_num.corr(),2)\n",
    "pylt.figure(figsize=(10,10))\n",
    "sns.heatmap(data=corr, vmax=.7, square=True,annot=True)"
   ]
  },
  {
   "cell_type": "code",
   "execution_count": 25,
   "metadata": {},
   "outputs": [],
   "source": [
    "#From above correlation plot\n",
    "#----> num_root, num_file_creations and num_access_files have no relation with others\n",
    "#----> dst_host_serror_rate is positively correlated with serror_rate, srv_serror_rate and dst_host_srv_serror_rate\n",
    "#----> dst_host_srv_serror_rate is positively correlated with serror_rate, srv_serror_rate and dst_host_serror_rate\n",
    "#----> dst_host_rerror_rate is positively correlated with rerror_rate, srv_rerror_rate and dst_host_srv_rerror_rate\n",
    "#----> dst_host_srv_rerror_rate is positively correlated with rerror_rate, srv_rerror_rate and dst_host_rerror_rate\n",
    "#----> dst_host_same_srv_rate is positively correlated with same_srv_rate and dst_host_srv_count\n",
    "#----> dst_host_srv_count is positively correlated with same_srv_rate and dst_host_same_srv_count\n",
    "#----> srv_serror_rate is positively correlated with serror_rate\n",
    "#----> srv_rerror_rate is positively correlated with rerror_rate\n",
    "#----> dst_host_same_srv_rate is Negalively correlated with serror_rate and srv_serror_rate\n",
    "#----> same_srv_rate is Negalively correlated with count, serror_rate and srv_serror_rate"
   ]
  },
  {
   "cell_type": "code",
   "execution_count": 26,
   "metadata": {},
   "outputs": [],
   "source": [
    "train_num.drop(['num_root','num_file_creations','num_access_files','dst_host_serror_rate',\n",
    "               'dst_host_srv_serror_rate','dst_host_rerror_rate','dst_host_srv_rerror_rate',\n",
    "                'dst_host_same_srv_rate','dst_host_srv_count','srv_serror_rate',\n",
    "                'srv_rerror_rate','same_srv_rate'],axis=1,inplace=True)"
   ]
  },
  {
   "cell_type": "code",
   "execution_count": 27,
   "metadata": {},
   "outputs": [
    {
     "data": {
      "text/plain": [
       "<matplotlib.axes._subplots.AxesSubplot at 0x1d150357f48>"
      ]
     },
     "execution_count": 27,
     "metadata": {},
     "output_type": "execute_result"
    },
    {
     "data": {
      "image/png": "[encoded data removed]",
      "text/plain": [
       "<Figure size 720x720 with 2 Axes>"
      ]
     },
     "metadata": {
      "needs_background": "light"
     },
     "output_type": "display_data"
    }
   ],
   "source": [
    "# checking correlation via heatmap\n",
    "corr = np.round(train_num.corr(),2)\n",
    "pylt.figure(figsize=(10,10))\n",
    "sns.heatmap(data=corr, vmax=.7, square=True,annot=True)"
   ]
  },
  {
   "cell_type": "code",
   "execution_count": 28,
   "metadata": {},
   "outputs": [
    {
     "name": "stderr",
     "output_type": "stream",
     "text": [
      "C:\\Users\\Ashu\\Anaconda3\\lib\\site-packages\\ipykernel_launcher.py:1: SettingWithCopyWarning: \n",
      "A value is trying to be set on a copy of a slice from a DataFrame.\n",
      "Try using .loc[row_indexer,col_indexer] = value instead\n",
      "\n",
      "See the caveats in the documentation: http://pandas.pydata.org/pandas-docs/stable/user_guide/indexing.html#returning-a-view-versus-a-copy\n",
      "  \"\"\"Entry point for launching an IPython kernel.\n",
      "C:\\Users\\Ashu\\Anaconda3\\lib\\site-packages\\ipykernel_launcher.py:3: SettingWithCopyWarning: \n",
      "A value is trying to be set on a copy of a slice from a DataFrame.\n",
      "Try using .loc[row_indexer,col_indexer] = value instead\n",
      "\n",
      "See the caveats in the documentation: http://pandas.pydata.org/pandas-docs/stable/user_guide/indexing.html#returning-a-view-versus-a-copy\n",
      "  This is separate from the ipykernel package so we can avoid doing imports until\n",
      "C:\\Users\\Ashu\\Anaconda3\\lib\\site-packages\\pandas\\core\\frame.py:4102: SettingWithCopyWarning: \n",
      "A value is trying to be set on a copy of a slice from a DataFrame\n",
      "\n",
      "See the caveats in the documentation: http://pandas.pydata.org/pandas-docs/stable/user_guide/indexing.html#returning-a-view-versus-a-copy\n",
      "  errors=errors,\n"
     ]
    }
   ],
   "source": [
    "train_cat['Activity'] = train_cat.attack.apply(lambda x : 'normal' if x == 'normal' else 'attack')\n",
    "\n",
    "test_cat['Activity'] = test_cat.attack.apply(lambda x : 'normal' if x == 'normal' else 'attack')\n",
    "\n",
    "train_cat.drop(['attack'],axis=1,inplace=True)\n",
    "test_cat.drop(['attack'],axis=1,inplace=True)"
   ]
  },
  {
   "cell_type": "code",
   "execution_count": 29,
   "metadata": {},
   "outputs": [],
   "source": [
    "# creating dummy\n",
    "def create_dummy(df, colname):\n",
    "    col_dummies = pd.get_dummies(df[colname], prefix=colname, drop_first=True)\n",
    "    df = pd.concat([df, col_dummies],axis=1)\n",
    "    df.drop(colname,axis=1, inplace=True)\n",
    "    return df"
   ]
  },
  {
   "cell_type": "code",
   "execution_count": 30,
   "metadata": {},
   "outputs": [
    {
     "name": "stderr",
     "output_type": "stream",
     "text": [
      "C:\\Users\\Ashu\\Anaconda3\\lib\\site-packages\\ipykernel_launcher.py:3: SettingWithCopyWarning: \n",
      "A value is trying to be set on a copy of a slice from a DataFrame.\n",
      "Try using .loc[row_indexer,col_indexer] = value instead\n",
      "\n",
      "See the caveats in the documentation: http://pandas.pydata.org/pandas-docs/stable/user_guide/indexing.html#returning-a-view-versus-a-copy\n",
      "  This is separate from the ipykernel package so we can avoid doing imports until\n",
      "C:\\Users\\Ashu\\Anaconda3\\lib\\site-packages\\ipykernel_launcher.py:8: SettingWithCopyWarning: \n",
      "A value is trying to be set on a copy of a slice from a DataFrame.\n",
      "Try using .loc[row_indexer,col_indexer] = value instead\n",
      "\n",
      "See the caveats in the documentation: http://pandas.pydata.org/pandas-docs/stable/user_guide/indexing.html#returning-a-view-versus-a-copy\n",
      "  \n"
     ]
    }
   ],
   "source": [
    "# implementing creatin of dummy def for train data\n",
    "for c_features in train_cat.columns:\n",
    "    train_cat[c_features] = train_cat[c_features].astype('category')\n",
    "    train_cat = create_dummy(train_cat,c_features)\n",
    "    \n",
    "# implementing creatin of dummy def for test data\n",
    "for c_features in test_cat.columns:\n",
    "    test_cat[c_features] = test_cat[c_features].astype('category')\n",
    "    test_cat = create_dummy(test_cat,c_features)"
   ]
  },
  {
   "cell_type": "code",
   "execution_count": 31,
   "metadata": {},
   "outputs": [],
   "source": [
    "train_final = pd.concat([train_num,train_cat],axis=1)\n",
    "test_final = pd.concat([test_num,test_cat],axis=1)"
   ]
  },
  {
   "cell_type": "code",
   "execution_count": 33,
   "metadata": {},
   "outputs": [
    {
     "data": {
      "text/html": [
       "<div>\n",
       "<style scoped>\n",
       "    .dataframe tbody tr th:only-of-type {\n",
       "        vertical-align: middle;\n",
       "    }\n",
       "\n",
       "    .dataframe tbody tr th {\n",
       "        vertical-align: top;\n",
       "    }\n",
       "\n",
       "    .dataframe thead th {\n",
       "        text-align: right;\n",
       "    }\n",
       "</style>\n",
       "<table border=\"1\" class=\"dataframe\">\n",
       "  <thead>\n",
       "    <tr style=\"text-align: right;\">\n",
       "      <th></th>\n",
       "      <th>duration</th>\n",
       "      <th>src_bytes</th>\n",
       "      <th>dst_bytes</th>\n",
       "      <th>hot</th>\n",
       "      <th>num_compromised</th>\n",
       "      <th>last_flag</th>\n",
       "      <th>count</th>\n",
       "      <th>srv_count</th>\n",
       "      <th>serror_rate</th>\n",
       "      <th>rerror_rate</th>\n",
       "      <th>...</th>\n",
       "      <th>num_failed_logins_5</th>\n",
       "      <th>su_attempted_1</th>\n",
       "      <th>su_attempted_2</th>\n",
       "      <th>is_host_login_1</th>\n",
       "      <th>is_guest_login_1</th>\n",
       "      <th>wrong_fragment_1</th>\n",
       "      <th>wrong_fragment_3</th>\n",
       "      <th>num_shells_1</th>\n",
       "      <th>num_shells_2</th>\n",
       "      <th>Activity_normal</th>\n",
       "    </tr>\n",
       "  </thead>\n",
       "  <tbody>\n",
       "    <tr>\n",
       "      <td>0</td>\n",
       "      <td>0.0</td>\n",
       "      <td>146</td>\n",
       "      <td>0</td>\n",
       "      <td>0</td>\n",
       "      <td>0</td>\n",
       "      <td>15</td>\n",
       "      <td>13</td>\n",
       "      <td>1</td>\n",
       "      <td>0.0</td>\n",
       "      <td>0.0</td>\n",
       "      <td>...</td>\n",
       "      <td>0</td>\n",
       "      <td>0</td>\n",
       "      <td>0</td>\n",
       "      <td>0</td>\n",
       "      <td>0</td>\n",
       "      <td>0</td>\n",
       "      <td>0</td>\n",
       "      <td>0</td>\n",
       "      <td>0</td>\n",
       "      <td>1</td>\n",
       "    </tr>\n",
       "    <tr>\n",
       "      <td>1</td>\n",
       "      <td>0.0</td>\n",
       "      <td>0</td>\n",
       "      <td>0</td>\n",
       "      <td>0</td>\n",
       "      <td>0</td>\n",
       "      <td>19</td>\n",
       "      <td>123</td>\n",
       "      <td>6</td>\n",
       "      <td>1.0</td>\n",
       "      <td>0.0</td>\n",
       "      <td>...</td>\n",
       "      <td>0</td>\n",
       "      <td>0</td>\n",
       "      <td>0</td>\n",
       "      <td>0</td>\n",
       "      <td>0</td>\n",
       "      <td>0</td>\n",
       "      <td>0</td>\n",
       "      <td>0</td>\n",
       "      <td>0</td>\n",
       "      <td>0</td>\n",
       "    </tr>\n",
       "    <tr>\n",
       "      <td>2</td>\n",
       "      <td>0.0</td>\n",
       "      <td>232</td>\n",
       "      <td>8153</td>\n",
       "      <td>0</td>\n",
       "      <td>0</td>\n",
       "      <td>21</td>\n",
       "      <td>5</td>\n",
       "      <td>5</td>\n",
       "      <td>0.2</td>\n",
       "      <td>0.0</td>\n",
       "      <td>...</td>\n",
       "      <td>0</td>\n",
       "      <td>0</td>\n",
       "      <td>0</td>\n",
       "      <td>0</td>\n",
       "      <td>0</td>\n",
       "      <td>0</td>\n",
       "      <td>0</td>\n",
       "      <td>0</td>\n",
       "      <td>0</td>\n",
       "      <td>1</td>\n",
       "    </tr>\n",
       "  </tbody>\n",
       "</table>\n",
       "<p>3 rows × 117 columns</p>\n",
       "</div>"
      ],
      "text/plain": [
       "   duration  src_bytes  dst_bytes  hot  num_compromised  last_flag  count  \\\n",
       "0       0.0        146          0    0                0         15     13   \n",
       "1       0.0          0          0    0                0         19    123   \n",
       "2       0.0        232       8153    0                0         21      5   \n",
       "\n",
       "   srv_count  serror_rate  rerror_rate  ...  num_failed_logins_5  \\\n",
       "0          1          0.0          0.0  ...                    0   \n",
       "1          6          1.0          0.0  ...                    0   \n",
       "2          5          0.2          0.0  ...                    0   \n",
       "\n",
       "   su_attempted_1  su_attempted_2  is_host_login_1  is_guest_login_1  \\\n",
       "0               0               0                0                 0   \n",
       "1               0               0                0                 0   \n",
       "2               0               0                0                 0   \n",
       "\n",
       "   wrong_fragment_1  wrong_fragment_3  num_shells_1  num_shells_2  \\\n",
       "0                 0                 0             0             0   \n",
       "1                 0                 0             0             0   \n",
       "2                 0                 0             0             0   \n",
       "\n",
       "   Activity_normal  \n",
       "0                1  \n",
       "1                0  \n",
       "2                1  \n",
       "\n",
       "[3 rows x 117 columns]"
      ]
     },
     "execution_count": 33,
     "metadata": {},
     "output_type": "execute_result"
    }
   ],
   "source": [
    "train_final.head(3)"
   ]
  },
  {
   "cell_type": "markdown",
   "metadata": {},
   "source": [
    "# `Binomial Classification: Activity is normal or attack`"
   ]
  },
  {
   "cell_type": "markdown",
   "metadata": {},
   "source": [
    "### feature selection"
   ]
  },
  {
   "cell_type": "code",
   "execution_count": 33,
   "metadata": {
    "scrolled": true
   },
   "outputs": [
    {
     "name": "stdout",
     "output_type": "stream",
     "text": [
      "Warning: Maximum number of iterations has been exceeded.\n"
     ]
    },
    {
     "name": "stderr",
     "output_type": "stream",
     "text": [
      "C:\\Users\\Ashu\\Anaconda3\\lib\\site-packages\\statsmodels\\base\\model.py:512: ConvergenceWarning: Maximum Likelihood optimization failed to converge. Check mle_retvals\n",
      "  \"Check mle_retvals\", ConvergenceWarning)\n"
     ]
    },
    {
     "name": "stdout",
     "output_type": "stream",
     "text": [
      "Warning: Maximum number of iterations has been exceeded.\n"
     ]
    },
    {
     "name": "stderr",
     "output_type": "stream",
     "text": [
      "C:\\Users\\Ashu\\Anaconda3\\lib\\site-packages\\statsmodels\\base\\model.py:512: ConvergenceWarning: Maximum Likelihood optimization failed to converge. Check mle_retvals\n",
      "  \"Check mle_retvals\", ConvergenceWarning)\n"
     ]
    },
    {
     "name": "stdout",
     "output_type": "stream",
     "text": [
      "Warning: Maximum number of iterations has been exceeded.\n"
     ]
    },
    {
     "name": "stderr",
     "output_type": "stream",
     "text": [
      "C:\\Users\\Ashu\\Anaconda3\\lib\\site-packages\\statsmodels\\base\\model.py:512: ConvergenceWarning: Maximum Likelihood optimization failed to converge. Check mle_retvals\n",
      "  \"Check mle_retvals\", ConvergenceWarning)\n"
     ]
    },
    {
     "name": "stdout",
     "output_type": "stream",
     "text": [
      "Optimization terminated successfully.\n",
      "         Current function value: 0.686022\n",
      "         Iterations: 11\n",
      "         Function evaluations: 21\n",
      "Warning: Maximum number of iterations has been exceeded.\n"
     ]
    },
    {
     "name": "stderr",
     "output_type": "stream",
     "text": [
      "C:\\Users\\Ashu\\Anaconda3\\lib\\site-packages\\statsmodels\\base\\model.py:512: ConvergenceWarning: Maximum Likelihood optimization failed to converge. Check mle_retvals\n",
      "  \"Check mle_retvals\", ConvergenceWarning)\n"
     ]
    },
    {
     "name": "stdout",
     "output_type": "stream",
     "text": [
      "Warning: Maximum number of iterations has been exceeded.\n"
     ]
    },
    {
     "name": "stderr",
     "output_type": "stream",
     "text": [
      "C:\\Users\\Ashu\\Anaconda3\\lib\\site-packages\\statsmodels\\base\\model.py:512: ConvergenceWarning: Maximum Likelihood optimization failed to converge. Check mle_retvals\n",
      "  \"Check mle_retvals\", ConvergenceWarning)\n"
     ]
    },
    {
     "name": "stdout",
     "output_type": "stream",
     "text": [
      "Warning: Maximum number of iterations has been exceeded.\n"
     ]
    },
    {
     "name": "stderr",
     "output_type": "stream",
     "text": [
      "C:\\Users\\Ashu\\Anaconda3\\lib\\site-packages\\statsmodels\\base\\model.py:512: ConvergenceWarning: Maximum Likelihood optimization failed to converge. Check mle_retvals\n",
      "  \"Check mle_retvals\", ConvergenceWarning)\n"
     ]
    },
    {
     "name": "stdout",
     "output_type": "stream",
     "text": [
      "Warning: Maximum number of iterations has been exceeded.\n"
     ]
    },
    {
     "name": "stderr",
     "output_type": "stream",
     "text": [
      "C:\\Users\\Ashu\\Anaconda3\\lib\\site-packages\\statsmodels\\base\\model.py:512: ConvergenceWarning: Maximum Likelihood optimization failed to converge. Check mle_retvals\n",
      "  \"Check mle_retvals\", ConvergenceWarning)\n"
     ]
    },
    {
     "name": "stdout",
     "output_type": "stream",
     "text": [
      "Warning: Maximum number of iterations has been exceeded.\n"
     ]
    },
    {
     "name": "stderr",
     "output_type": "stream",
     "text": [
      "C:\\Users\\Ashu\\Anaconda3\\lib\\site-packages\\statsmodels\\base\\model.py:512: ConvergenceWarning: Maximum Likelihood optimization failed to converge. Check mle_retvals\n",
      "  \"Check mle_retvals\", ConvergenceWarning)\n"
     ]
    },
    {
     "name": "stdout",
     "output_type": "stream",
     "text": [
      "Warning: Maximum number of iterations has been exceeded.\n"
     ]
    },
    {
     "name": "stderr",
     "output_type": "stream",
     "text": [
      "C:\\Users\\Ashu\\Anaconda3\\lib\\site-packages\\statsmodels\\base\\model.py:512: ConvergenceWarning: Maximum Likelihood optimization failed to converge. Check mle_retvals\n",
      "  \"Check mle_retvals\", ConvergenceWarning)\n"
     ]
    },
    {
     "name": "stdout",
     "output_type": "stream",
     "text": [
      "Warning: Maximum number of iterations has been exceeded.\n"
     ]
    },
    {
     "name": "stderr",
     "output_type": "stream",
     "text": [
      "C:\\Users\\Ashu\\Anaconda3\\lib\\site-packages\\statsmodels\\base\\model.py:512: ConvergenceWarning: Maximum Likelihood optimization failed to converge. Check mle_retvals\n",
      "  \"Check mle_retvals\", ConvergenceWarning)\n"
     ]
    },
    {
     "name": "stdout",
     "output_type": "stream",
     "text": [
      "Warning: Maximum number of iterations has been exceeded.\n"
     ]
    },
    {
     "name": "stderr",
     "output_type": "stream",
     "text": [
      "C:\\Users\\Ashu\\Anaconda3\\lib\\site-packages\\statsmodels\\base\\model.py:512: ConvergenceWarning: Maximum Likelihood optimization failed to converge. Check mle_retvals\n",
      "  \"Check mle_retvals\", ConvergenceWarning)\n"
     ]
    },
    {
     "name": "stdout",
     "output_type": "stream",
     "text": [
      "Warning: Maximum number of iterations has been exceeded.\n"
     ]
    },
    {
     "name": "stderr",
     "output_type": "stream",
     "text": [
      "C:\\Users\\Ashu\\Anaconda3\\lib\\site-packages\\statsmodels\\base\\model.py:512: ConvergenceWarning: Maximum Likelihood optimization failed to converge. Check mle_retvals\n",
      "  \"Check mle_retvals\", ConvergenceWarning)\n"
     ]
    },
    {
     "name": "stdout",
     "output_type": "stream",
     "text": [
      "Warning: Maximum number of iterations has been exceeded.\n"
     ]
    },
    {
     "name": "stderr",
     "output_type": "stream",
     "text": [
      "C:\\Users\\Ashu\\Anaconda3\\lib\\site-packages\\statsmodels\\base\\model.py:512: ConvergenceWarning: Maximum Likelihood optimization failed to converge. Check mle_retvals\n",
      "  \"Check mle_retvals\", ConvergenceWarning)\n"
     ]
    },
    {
     "name": "stdout",
     "output_type": "stream",
     "text": [
      "Warning: Maximum number of iterations has been exceeded.\n"
     ]
    },
    {
     "name": "stderr",
     "output_type": "stream",
     "text": [
      "C:\\Users\\Ashu\\Anaconda3\\lib\\site-packages\\statsmodels\\base\\model.py:512: ConvergenceWarning: Maximum Likelihood optimization failed to converge. Check mle_retvals\n",
      "  \"Check mle_retvals\", ConvergenceWarning)\n"
     ]
    },
    {
     "name": "stdout",
     "output_type": "stream",
     "text": [
      "Warning: Maximum number of iterations has been exceeded.\n"
     ]
    },
    {
     "name": "stderr",
     "output_type": "stream",
     "text": [
      "C:\\Users\\Ashu\\Anaconda3\\lib\\site-packages\\statsmodels\\base\\model.py:512: ConvergenceWarning: Maximum Likelihood optimization failed to converge. Check mle_retvals\n",
      "  \"Check mle_retvals\", ConvergenceWarning)\n"
     ]
    },
    {
     "name": "stdout",
     "output_type": "stream",
     "text": [
      "Warning: Maximum number of iterations has been exceeded.\n"
     ]
    },
    {
     "name": "stderr",
     "output_type": "stream",
     "text": [
      "C:\\Users\\Ashu\\Anaconda3\\lib\\site-packages\\statsmodels\\base\\model.py:512: ConvergenceWarning: Maximum Likelihood optimization failed to converge. Check mle_retvals\n",
      "  \"Check mle_retvals\", ConvergenceWarning)\n"
     ]
    },
    {
     "name": "stdout",
     "output_type": "stream",
     "text": [
      "Warning: Maximum number of iterations has been exceeded.\n"
     ]
    },
    {
     "name": "stderr",
     "output_type": "stream",
     "text": [
      "C:\\Users\\Ashu\\Anaconda3\\lib\\site-packages\\statsmodels\\base\\model.py:512: ConvergenceWarning: Maximum Likelihood optimization failed to converge. Check mle_retvals\n",
      "  \"Check mle_retvals\", ConvergenceWarning)\n"
     ]
    },
    {
     "name": "stdout",
     "output_type": "stream",
     "text": [
      "Warning: Maximum number of iterations has been exceeded.\n"
     ]
    },
    {
     "name": "stderr",
     "output_type": "stream",
     "text": [
      "C:\\Users\\Ashu\\Anaconda3\\lib\\site-packages\\statsmodels\\base\\model.py:512: ConvergenceWarning: Maximum Likelihood optimization failed to converge. Check mle_retvals\n",
      "  \"Check mle_retvals\", ConvergenceWarning)\n"
     ]
    },
    {
     "name": "stdout",
     "output_type": "stream",
     "text": [
      "Warning: Maximum number of iterations has been exceeded.\n"
     ]
    },
    {
     "name": "stderr",
     "output_type": "stream",
     "text": [
      "C:\\Users\\Ashu\\Anaconda3\\lib\\site-packages\\statsmodels\\base\\model.py:512: ConvergenceWarning: Maximum Likelihood optimization failed to converge. Check mle_retvals\n",
      "  \"Check mle_retvals\", ConvergenceWarning)\n"
     ]
    },
    {
     "name": "stdout",
     "output_type": "stream",
     "text": [
      "Warning: Maximum number of iterations has been exceeded.\n"
     ]
    },
    {
     "name": "stderr",
     "output_type": "stream",
     "text": [
      "C:\\Users\\Ashu\\Anaconda3\\lib\\site-packages\\statsmodels\\base\\model.py:512: ConvergenceWarning: Maximum Likelihood optimization failed to converge. Check mle_retvals\n",
      "  \"Check mle_retvals\", ConvergenceWarning)\n"
     ]
    },
    {
     "name": "stdout",
     "output_type": "stream",
     "text": [
      "Warning: Maximum number of iterations has been exceeded.\n"
     ]
    },
    {
     "name": "stderr",
     "output_type": "stream",
     "text": [
      "C:\\Users\\Ashu\\Anaconda3\\lib\\site-packages\\statsmodels\\base\\model.py:512: ConvergenceWarning: Maximum Likelihood optimization failed to converge. Check mle_retvals\n",
      "  \"Check mle_retvals\", ConvergenceWarning)\n"
     ]
    },
    {
     "name": "stdout",
     "output_type": "stream",
     "text": [
      "Warning: Maximum number of iterations has been exceeded.\n"
     ]
    },
    {
     "name": "stderr",
     "output_type": "stream",
     "text": [
      "C:\\Users\\Ashu\\Anaconda3\\lib\\site-packages\\statsmodels\\base\\model.py:512: ConvergenceWarning: Maximum Likelihood optimization failed to converge. Check mle_retvals\n",
      "  \"Check mle_retvals\", ConvergenceWarning)\n"
     ]
    },
    {
     "name": "stdout",
     "output_type": "stream",
     "text": [
      "Warning: Maximum number of iterations has been exceeded.\n"
     ]
    },
    {
     "name": "stderr",
     "output_type": "stream",
     "text": [
      "C:\\Users\\Ashu\\Anaconda3\\lib\\site-packages\\statsmodels\\base\\model.py:512: ConvergenceWarning: Maximum Likelihood optimization failed to converge. Check mle_retvals\n",
      "  \"Check mle_retvals\", ConvergenceWarning)\n"
     ]
    },
    {
     "name": "stdout",
     "output_type": "stream",
     "text": [
      "Warning: Maximum number of iterations has been exceeded.\n"
     ]
    },
    {
     "name": "stderr",
     "output_type": "stream",
     "text": [
      "C:\\Users\\Ashu\\Anaconda3\\lib\\site-packages\\statsmodels\\base\\model.py:512: ConvergenceWarning: Maximum Likelihood optimization failed to converge. Check mle_retvals\n",
      "  \"Check mle_retvals\", ConvergenceWarning)\n"
     ]
    },
    {
     "name": "stdout",
     "output_type": "stream",
     "text": [
      "Warning: Maximum number of iterations has been exceeded.\n"
     ]
    },
    {
     "name": "stderr",
     "output_type": "stream",
     "text": [
      "C:\\Users\\Ashu\\Anaconda3\\lib\\site-packages\\statsmodels\\base\\model.py:512: ConvergenceWarning: Maximum Likelihood optimization failed to converge. Check mle_retvals\n",
      "  \"Check mle_retvals\", ConvergenceWarning)\n"
     ]
    },
    {
     "name": "stdout",
     "output_type": "stream",
     "text": [
      "Warning: Maximum number of iterations has been exceeded.\n"
     ]
    },
    {
     "name": "stderr",
     "output_type": "stream",
     "text": [
      "C:\\Users\\Ashu\\Anaconda3\\lib\\site-packages\\statsmodels\\base\\model.py:512: ConvergenceWarning: Maximum Likelihood optimization failed to converge. Check mle_retvals\n",
      "  \"Check mle_retvals\", ConvergenceWarning)\n"
     ]
    },
    {
     "name": "stdout",
     "output_type": "stream",
     "text": [
      "Warning: Maximum number of iterations has been exceeded.\n"
     ]
    },
    {
     "name": "stderr",
     "output_type": "stream",
     "text": [
      "C:\\Users\\Ashu\\Anaconda3\\lib\\site-packages\\statsmodels\\base\\model.py:512: ConvergenceWarning: Maximum Likelihood optimization failed to converge. Check mle_retvals\n",
      "  \"Check mle_retvals\", ConvergenceWarning)\n"
     ]
    },
    {
     "name": "stdout",
     "output_type": "stream",
     "text": [
      "Warning: Maximum number of iterations has been exceeded.\n"
     ]
    },
    {
     "name": "stderr",
     "output_type": "stream",
     "text": [
      "C:\\Users\\Ashu\\Anaconda3\\lib\\site-packages\\statsmodels\\base\\model.py:512: ConvergenceWarning: Maximum Likelihood optimization failed to converge. Check mle_retvals\n",
      "  \"Check mle_retvals\", ConvergenceWarning)\n"
     ]
    },
    {
     "name": "stdout",
     "output_type": "stream",
     "text": [
      "Warning: Maximum number of iterations has been exceeded.\n"
     ]
    },
    {
     "name": "stderr",
     "output_type": "stream",
     "text": [
      "C:\\Users\\Ashu\\Anaconda3\\lib\\site-packages\\statsmodels\\base\\model.py:512: ConvergenceWarning: Maximum Likelihood optimization failed to converge. Check mle_retvals\n",
      "  \"Check mle_retvals\", ConvergenceWarning)\n"
     ]
    },
    {
     "name": "stdout",
     "output_type": "stream",
     "text": [
      "Warning: Maximum number of iterations has been exceeded.\n"
     ]
    },
    {
     "name": "stderr",
     "output_type": "stream",
     "text": [
      "C:\\Users\\Ashu\\Anaconda3\\lib\\site-packages\\statsmodels\\base\\model.py:512: ConvergenceWarning: Maximum Likelihood optimization failed to converge. Check mle_retvals\n",
      "  \"Check mle_retvals\", ConvergenceWarning)\n"
     ]
    },
    {
     "name": "stdout",
     "output_type": "stream",
     "text": [
      "Warning: Maximum number of iterations has been exceeded.\n"
     ]
    },
    {
     "name": "stderr",
     "output_type": "stream",
     "text": [
      "C:\\Users\\Ashu\\Anaconda3\\lib\\site-packages\\statsmodels\\base\\model.py:512: ConvergenceWarning: Maximum Likelihood optimization failed to converge. Check mle_retvals\n",
      "  \"Check mle_retvals\", ConvergenceWarning)\n"
     ]
    },
    {
     "name": "stdout",
     "output_type": "stream",
     "text": [
      "Warning: Maximum number of iterations has been exceeded.\n"
     ]
    },
    {
     "name": "stderr",
     "output_type": "stream",
     "text": [
      "C:\\Users\\Ashu\\Anaconda3\\lib\\site-packages\\statsmodels\\base\\model.py:512: ConvergenceWarning: Maximum Likelihood optimization failed to converge. Check mle_retvals\n",
      "  \"Check mle_retvals\", ConvergenceWarning)\n"
     ]
    },
    {
     "name": "stdout",
     "output_type": "stream",
     "text": [
      "Warning: Maximum number of iterations has been exceeded.\n"
     ]
    },
    {
     "name": "stderr",
     "output_type": "stream",
     "text": [
      "C:\\Users\\Ashu\\Anaconda3\\lib\\site-packages\\statsmodels\\base\\model.py:512: ConvergenceWarning: Maximum Likelihood optimization failed to converge. Check mle_retvals\n",
      "  \"Check mle_retvals\", ConvergenceWarning)\n"
     ]
    },
    {
     "name": "stdout",
     "output_type": "stream",
     "text": [
      "Warning: Maximum number of iterations has been exceeded.\n"
     ]
    },
    {
     "name": "stderr",
     "output_type": "stream",
     "text": [
      "C:\\Users\\Ashu\\Anaconda3\\lib\\site-packages\\statsmodels\\base\\model.py:512: ConvergenceWarning: Maximum Likelihood optimization failed to converge. Check mle_retvals\n",
      "  \"Check mle_retvals\", ConvergenceWarning)\n"
     ]
    },
    {
     "name": "stdout",
     "output_type": "stream",
     "text": [
      "Warning: Maximum number of iterations has been exceeded.\n"
     ]
    },
    {
     "name": "stderr",
     "output_type": "stream",
     "text": [
      "C:\\Users\\Ashu\\Anaconda3\\lib\\site-packages\\statsmodels\\base\\model.py:512: ConvergenceWarning: Maximum Likelihood optimization failed to converge. Check mle_retvals\n",
      "  \"Check mle_retvals\", ConvergenceWarning)\n"
     ]
    },
    {
     "name": "stdout",
     "output_type": "stream",
     "text": [
      "Warning: Maximum number of iterations has been exceeded.\n"
     ]
    },
    {
     "name": "stderr",
     "output_type": "stream",
     "text": [
      "C:\\Users\\Ashu\\Anaconda3\\lib\\site-packages\\statsmodels\\base\\model.py:512: ConvergenceWarning: Maximum Likelihood optimization failed to converge. Check mle_retvals\n",
      "  \"Check mle_retvals\", ConvergenceWarning)\n"
     ]
    },
    {
     "name": "stdout",
     "output_type": "stream",
     "text": [
      "Warning: Maximum number of iterations has been exceeded.\n"
     ]
    },
    {
     "name": "stderr",
     "output_type": "stream",
     "text": [
      "C:\\Users\\Ashu\\Anaconda3\\lib\\site-packages\\statsmodels\\base\\model.py:512: ConvergenceWarning: Maximum Likelihood optimization failed to converge. Check mle_retvals\n",
      "  \"Check mle_retvals\", ConvergenceWarning)\n"
     ]
    },
    {
     "name": "stdout",
     "output_type": "stream",
     "text": [
      "Warning: Maximum number of iterations has been exceeded.\n"
     ]
    },
    {
     "name": "stderr",
     "output_type": "stream",
     "text": [
      "C:\\Users\\Ashu\\Anaconda3\\lib\\site-packages\\statsmodels\\base\\model.py:512: ConvergenceWarning: Maximum Likelihood optimization failed to converge. Check mle_retvals\n",
      "  \"Check mle_retvals\", ConvergenceWarning)\n"
     ]
    },
    {
     "name": "stdout",
     "output_type": "stream",
     "text": [
      "Warning: Maximum number of iterations has been exceeded.\n"
     ]
    },
    {
     "name": "stderr",
     "output_type": "stream",
     "text": [
      "C:\\Users\\Ashu\\Anaconda3\\lib\\site-packages\\statsmodels\\base\\model.py:512: ConvergenceWarning: Maximum Likelihood optimization failed to converge. Check mle_retvals\n",
      "  \"Check mle_retvals\", ConvergenceWarning)\n"
     ]
    },
    {
     "name": "stdout",
     "output_type": "stream",
     "text": [
      "Warning: Maximum number of iterations has been exceeded.\n"
     ]
    },
    {
     "name": "stderr",
     "output_type": "stream",
     "text": [
      "C:\\Users\\Ashu\\Anaconda3\\lib\\site-packages\\statsmodels\\base\\model.py:512: ConvergenceWarning: Maximum Likelihood optimization failed to converge. Check mle_retvals\n",
      "  \"Check mle_retvals\", ConvergenceWarning)\n"
     ]
    },
    {
     "name": "stdout",
     "output_type": "stream",
     "text": [
      "Warning: Maximum number of iterations has been exceeded.\n"
     ]
    },
    {
     "name": "stderr",
     "output_type": "stream",
     "text": [
      "C:\\Users\\Ashu\\Anaconda3\\lib\\site-packages\\statsmodels\\base\\model.py:512: ConvergenceWarning: Maximum Likelihood optimization failed to converge. Check mle_retvals\n",
      "  \"Check mle_retvals\", ConvergenceWarning)\n"
     ]
    },
    {
     "name": "stdout",
     "output_type": "stream",
     "text": [
      "Warning: Maximum number of iterations has been exceeded.\n"
     ]
    },
    {
     "name": "stderr",
     "output_type": "stream",
     "text": [
      "C:\\Users\\Ashu\\Anaconda3\\lib\\site-packages\\statsmodels\\base\\model.py:512: ConvergenceWarning: Maximum Likelihood optimization failed to converge. Check mle_retvals\n",
      "  \"Check mle_retvals\", ConvergenceWarning)\n"
     ]
    },
    {
     "name": "stdout",
     "output_type": "stream",
     "text": [
      "Warning: Maximum number of iterations has been exceeded.\n"
     ]
    },
    {
     "name": "stderr",
     "output_type": "stream",
     "text": [
      "C:\\Users\\Ashu\\Anaconda3\\lib\\site-packages\\statsmodels\\base\\model.py:512: ConvergenceWarning: Maximum Likelihood optimization failed to converge. Check mle_retvals\n",
      "  \"Check mle_retvals\", ConvergenceWarning)\n"
     ]
    },
    {
     "name": "stdout",
     "output_type": "stream",
     "text": [
      "Warning: Maximum number of iterations has been exceeded.\n"
     ]
    },
    {
     "name": "stderr",
     "output_type": "stream",
     "text": [
      "C:\\Users\\Ashu\\Anaconda3\\lib\\site-packages\\statsmodels\\base\\model.py:512: ConvergenceWarning: Maximum Likelihood optimization failed to converge. Check mle_retvals\n",
      "  \"Check mle_retvals\", ConvergenceWarning)\n"
     ]
    },
    {
     "name": "stdout",
     "output_type": "stream",
     "text": [
      "Warning: Maximum number of iterations has been exceeded.\n"
     ]
    },
    {
     "name": "stderr",
     "output_type": "stream",
     "text": [
      "C:\\Users\\Ashu\\Anaconda3\\lib\\site-packages\\statsmodels\\base\\model.py:512: ConvergenceWarning: Maximum Likelihood optimization failed to converge. Check mle_retvals\n",
      "  \"Check mle_retvals\", ConvergenceWarning)\n"
     ]
    },
    {
     "name": "stdout",
     "output_type": "stream",
     "text": [
      "Warning: Maximum number of iterations has been exceeded.\n"
     ]
    },
    {
     "name": "stderr",
     "output_type": "stream",
     "text": [
      "C:\\Users\\Ashu\\Anaconda3\\lib\\site-packages\\statsmodels\\base\\model.py:512: ConvergenceWarning: Maximum Likelihood optimization failed to converge. Check mle_retvals\n",
      "  \"Check mle_retvals\", ConvergenceWarning)\n"
     ]
    },
    {
     "name": "stdout",
     "output_type": "stream",
     "text": [
      "Warning: Maximum number of iterations has been exceeded.\n"
     ]
    },
    {
     "name": "stderr",
     "output_type": "stream",
     "text": [
      "C:\\Users\\Ashu\\Anaconda3\\lib\\site-packages\\statsmodels\\base\\model.py:512: ConvergenceWarning: Maximum Likelihood optimization failed to converge. Check mle_retvals\n",
      "  \"Check mle_retvals\", ConvergenceWarning)\n"
     ]
    },
    {
     "name": "stdout",
     "output_type": "stream",
     "text": [
      "Warning: Maximum number of iterations has been exceeded.\n"
     ]
    },
    {
     "name": "stderr",
     "output_type": "stream",
     "text": [
      "C:\\Users\\Ashu\\Anaconda3\\lib\\site-packages\\statsmodels\\base\\model.py:512: ConvergenceWarning: Maximum Likelihood optimization failed to converge. Check mle_retvals\n",
      "  \"Check mle_retvals\", ConvergenceWarning)\n"
     ]
    },
    {
     "name": "stdout",
     "output_type": "stream",
     "text": [
      "Warning: Maximum number of iterations has been exceeded.\n"
     ]
    },
    {
     "name": "stderr",
     "output_type": "stream",
     "text": [
      "C:\\Users\\Ashu\\Anaconda3\\lib\\site-packages\\statsmodels\\base\\model.py:512: ConvergenceWarning: Maximum Likelihood optimization failed to converge. Check mle_retvals\n",
      "  \"Check mle_retvals\", ConvergenceWarning)\n"
     ]
    },
    {
     "name": "stdout",
     "output_type": "stream",
     "text": [
      "Warning: Maximum number of iterations has been exceeded.\n"
     ]
    },
    {
     "name": "stderr",
     "output_type": "stream",
     "text": [
      "C:\\Users\\Ashu\\Anaconda3\\lib\\site-packages\\statsmodels\\base\\model.py:512: ConvergenceWarning: Maximum Likelihood optimization failed to converge. Check mle_retvals\n",
      "  \"Check mle_retvals\", ConvergenceWarning)\n"
     ]
    },
    {
     "name": "stdout",
     "output_type": "stream",
     "text": [
      "Warning: Maximum number of iterations has been exceeded.\n"
     ]
    },
    {
     "name": "stderr",
     "output_type": "stream",
     "text": [
      "C:\\Users\\Ashu\\Anaconda3\\lib\\site-packages\\statsmodels\\base\\model.py:512: ConvergenceWarning: Maximum Likelihood optimization failed to converge. Check mle_retvals\n",
      "  \"Check mle_retvals\", ConvergenceWarning)\n"
     ]
    },
    {
     "name": "stdout",
     "output_type": "stream",
     "text": [
      "Warning: Maximum number of iterations has been exceeded.\n"
     ]
    },
    {
     "name": "stderr",
     "output_type": "stream",
     "text": [
      "C:\\Users\\Ashu\\Anaconda3\\lib\\site-packages\\statsmodels\\base\\model.py:512: ConvergenceWarning: Maximum Likelihood optimization failed to converge. Check mle_retvals\n",
      "  \"Check mle_retvals\", ConvergenceWarning)\n"
     ]
    },
    {
     "name": "stdout",
     "output_type": "stream",
     "text": [
      "Warning: Maximum number of iterations has been exceeded.\n"
     ]
    },
    {
     "name": "stderr",
     "output_type": "stream",
     "text": [
      "C:\\Users\\Ashu\\Anaconda3\\lib\\site-packages\\statsmodels\\base\\model.py:512: ConvergenceWarning: Maximum Likelihood optimization failed to converge. Check mle_retvals\n",
      "  \"Check mle_retvals\", ConvergenceWarning)\n"
     ]
    },
    {
     "name": "stdout",
     "output_type": "stream",
     "text": [
      "Warning: Maximum number of iterations has been exceeded.\n"
     ]
    },
    {
     "name": "stderr",
     "output_type": "stream",
     "text": [
      "C:\\Users\\Ashu\\Anaconda3\\lib\\site-packages\\statsmodels\\base\\model.py:512: ConvergenceWarning: Maximum Likelihood optimization failed to converge. Check mle_retvals\n",
      "  \"Check mle_retvals\", ConvergenceWarning)\n"
     ]
    },
    {
     "name": "stdout",
     "output_type": "stream",
     "text": [
      "Warning: Maximum number of iterations has been exceeded.\n"
     ]
    },
    {
     "name": "stderr",
     "output_type": "stream",
     "text": [
      "C:\\Users\\Ashu\\Anaconda3\\lib\\site-packages\\statsmodels\\base\\model.py:512: ConvergenceWarning: Maximum Likelihood optimization failed to converge. Check mle_retvals\n",
      "  \"Check mle_retvals\", ConvergenceWarning)\n"
     ]
    },
    {
     "name": "stdout",
     "output_type": "stream",
     "text": [
      "Warning: Maximum number of iterations has been exceeded.\n"
     ]
    },
    {
     "name": "stderr",
     "output_type": "stream",
     "text": [
      "C:\\Users\\Ashu\\Anaconda3\\lib\\site-packages\\statsmodels\\base\\model.py:512: ConvergenceWarning: Maximum Likelihood optimization failed to converge. Check mle_retvals\n",
      "  \"Check mle_retvals\", ConvergenceWarning)\n"
     ]
    },
    {
     "name": "stdout",
     "output_type": "stream",
     "text": [
      "Warning: Maximum number of iterations has been exceeded.\n"
     ]
    },
    {
     "name": "stderr",
     "output_type": "stream",
     "text": [
      "C:\\Users\\Ashu\\Anaconda3\\lib\\site-packages\\statsmodels\\base\\model.py:512: ConvergenceWarning: Maximum Likelihood optimization failed to converge. Check mle_retvals\n",
      "  \"Check mle_retvals\", ConvergenceWarning)\n"
     ]
    },
    {
     "name": "stdout",
     "output_type": "stream",
     "text": [
      "Warning: Maximum number of iterations has been exceeded.\n"
     ]
    },
    {
     "name": "stderr",
     "output_type": "stream",
     "text": [
      "C:\\Users\\Ashu\\Anaconda3\\lib\\site-packages\\statsmodels\\base\\model.py:512: ConvergenceWarning: Maximum Likelihood optimization failed to converge. Check mle_retvals\n",
      "  \"Check mle_retvals\", ConvergenceWarning)\n"
     ]
    },
    {
     "name": "stdout",
     "output_type": "stream",
     "text": [
      "Warning: Maximum number of iterations has been exceeded.\n"
     ]
    },
    {
     "name": "stderr",
     "output_type": "stream",
     "text": [
      "C:\\Users\\Ashu\\Anaconda3\\lib\\site-packages\\statsmodels\\base\\model.py:512: ConvergenceWarning: Maximum Likelihood optimization failed to converge. Check mle_retvals\n",
      "  \"Check mle_retvals\", ConvergenceWarning)\n"
     ]
    },
    {
     "name": "stdout",
     "output_type": "stream",
     "text": [
      "Warning: Maximum number of iterations has been exceeded.\n"
     ]
    },
    {
     "name": "stderr",
     "output_type": "stream",
     "text": [
      "C:\\Users\\Ashu\\Anaconda3\\lib\\site-packages\\statsmodels\\base\\model.py:512: ConvergenceWarning: Maximum Likelihood optimization failed to converge. Check mle_retvals\n",
      "  \"Check mle_retvals\", ConvergenceWarning)\n"
     ]
    },
    {
     "name": "stdout",
     "output_type": "stream",
     "text": [
      "Warning: Maximum number of iterations has been exceeded.\n"
     ]
    },
    {
     "name": "stderr",
     "output_type": "stream",
     "text": [
      "C:\\Users\\Ashu\\Anaconda3\\lib\\site-packages\\statsmodels\\base\\model.py:512: ConvergenceWarning: Maximum Likelihood optimization failed to converge. Check mle_retvals\n",
      "  \"Check mle_retvals\", ConvergenceWarning)\n"
     ]
    },
    {
     "name": "stdout",
     "output_type": "stream",
     "text": [
      "Warning: Maximum number of iterations has been exceeded.\n"
     ]
    },
    {
     "name": "stderr",
     "output_type": "stream",
     "text": [
      "C:\\Users\\Ashu\\Anaconda3\\lib\\site-packages\\statsmodels\\base\\model.py:512: ConvergenceWarning: Maximum Likelihood optimization failed to converge. Check mle_retvals\n",
      "  \"Check mle_retvals\", ConvergenceWarning)\n"
     ]
    },
    {
     "name": "stdout",
     "output_type": "stream",
     "text": [
      "Warning: Maximum number of iterations has been exceeded.\n"
     ]
    },
    {
     "name": "stderr",
     "output_type": "stream",
     "text": [
      "C:\\Users\\Ashu\\Anaconda3\\lib\\site-packages\\statsmodels\\base\\model.py:512: ConvergenceWarning: Maximum Likelihood optimization failed to converge. Check mle_retvals\n",
      "  \"Check mle_retvals\", ConvergenceWarning)\n"
     ]
    },
    {
     "name": "stdout",
     "output_type": "stream",
     "text": [
      "Warning: Maximum number of iterations has been exceeded.\n"
     ]
    },
    {
     "name": "stderr",
     "output_type": "stream",
     "text": [
      "C:\\Users\\Ashu\\Anaconda3\\lib\\site-packages\\statsmodels\\base\\model.py:512: ConvergenceWarning: Maximum Likelihood optimization failed to converge. Check mle_retvals\n",
      "  \"Check mle_retvals\", ConvergenceWarning)\n"
     ]
    },
    {
     "name": "stdout",
     "output_type": "stream",
     "text": [
      "Warning: Maximum number of iterations has been exceeded.\n"
     ]
    },
    {
     "name": "stderr",
     "output_type": "stream",
     "text": [
      "C:\\Users\\Ashu\\Anaconda3\\lib\\site-packages\\statsmodels\\base\\model.py:512: ConvergenceWarning: Maximum Likelihood optimization failed to converge. Check mle_retvals\n",
      "  \"Check mle_retvals\", ConvergenceWarning)\n"
     ]
    },
    {
     "name": "stdout",
     "output_type": "stream",
     "text": [
      "Warning: Maximum number of iterations has been exceeded.\n"
     ]
    },
    {
     "name": "stderr",
     "output_type": "stream",
     "text": [
      "C:\\Users\\Ashu\\Anaconda3\\lib\\site-packages\\statsmodels\\base\\model.py:512: ConvergenceWarning: Maximum Likelihood optimization failed to converge. Check mle_retvals\n",
      "  \"Check mle_retvals\", ConvergenceWarning)\n"
     ]
    },
    {
     "name": "stdout",
     "output_type": "stream",
     "text": [
      "Warning: Maximum number of iterations has been exceeded.\n"
     ]
    },
    {
     "name": "stderr",
     "output_type": "stream",
     "text": [
      "C:\\Users\\Ashu\\Anaconda3\\lib\\site-packages\\statsmodels\\base\\model.py:512: ConvergenceWarning: Maximum Likelihood optimization failed to converge. Check mle_retvals\n",
      "  \"Check mle_retvals\", ConvergenceWarning)\n"
     ]
    },
    {
     "name": "stdout",
     "output_type": "stream",
     "text": [
      "Warning: Maximum number of iterations has been exceeded.\n"
     ]
    },
    {
     "name": "stderr",
     "output_type": "stream",
     "text": [
      "C:\\Users\\Ashu\\Anaconda3\\lib\\site-packages\\statsmodels\\base\\model.py:512: ConvergenceWarning: Maximum Likelihood optimization failed to converge. Check mle_retvals\n",
      "  \"Check mle_retvals\", ConvergenceWarning)\n"
     ]
    },
    {
     "name": "stdout",
     "output_type": "stream",
     "text": [
      "Warning: Maximum number of iterations has been exceeded.\n"
     ]
    },
    {
     "name": "stderr",
     "output_type": "stream",
     "text": [
      "C:\\Users\\Ashu\\Anaconda3\\lib\\site-packages\\statsmodels\\base\\model.py:512: ConvergenceWarning: Maximum Likelihood optimization failed to converge. Check mle_retvals\n",
      "  \"Check mle_retvals\", ConvergenceWarning)\n"
     ]
    },
    {
     "name": "stdout",
     "output_type": "stream",
     "text": [
      "Warning: Maximum number of iterations has been exceeded.\n"
     ]
    },
    {
     "name": "stderr",
     "output_type": "stream",
     "text": [
      "C:\\Users\\Ashu\\Anaconda3\\lib\\site-packages\\statsmodels\\base\\model.py:512: ConvergenceWarning: Maximum Likelihood optimization failed to converge. Check mle_retvals\n",
      "  \"Check mle_retvals\", ConvergenceWarning)\n"
     ]
    },
    {
     "name": "stdout",
     "output_type": "stream",
     "text": [
      "Warning: Maximum number of iterations has been exceeded.\n"
     ]
    },
    {
     "name": "stderr",
     "output_type": "stream",
     "text": [
      "C:\\Users\\Ashu\\Anaconda3\\lib\\site-packages\\statsmodels\\base\\model.py:512: ConvergenceWarning: Maximum Likelihood optimization failed to converge. Check mle_retvals\n",
      "  \"Check mle_retvals\", ConvergenceWarning)\n"
     ]
    },
    {
     "name": "stdout",
     "output_type": "stream",
     "text": [
      "Warning: Maximum number of iterations has been exceeded.\n"
     ]
    },
    {
     "name": "stderr",
     "output_type": "stream",
     "text": [
      "C:\\Users\\Ashu\\Anaconda3\\lib\\site-packages\\statsmodels\\base\\model.py:512: ConvergenceWarning: Maximum Likelihood optimization failed to converge. Check mle_retvals\n",
      "  \"Check mle_retvals\", ConvergenceWarning)\n"
     ]
    },
    {
     "name": "stdout",
     "output_type": "stream",
     "text": [
      "Warning: Maximum number of iterations has been exceeded.\n"
     ]
    },
    {
     "name": "stderr",
     "output_type": "stream",
     "text": [
      "C:\\Users\\Ashu\\Anaconda3\\lib\\site-packages\\statsmodels\\base\\model.py:512: ConvergenceWarning: Maximum Likelihood optimization failed to converge. Check mle_retvals\n",
      "  \"Check mle_retvals\", ConvergenceWarning)\n"
     ]
    },
    {
     "name": "stdout",
     "output_type": "stream",
     "text": [
      "Warning: Maximum number of iterations has been exceeded.\n"
     ]
    },
    {
     "name": "stderr",
     "output_type": "stream",
     "text": [
      "C:\\Users\\Ashu\\Anaconda3\\lib\\site-packages\\statsmodels\\base\\model.py:512: ConvergenceWarning: Maximum Likelihood optimization failed to converge. Check mle_retvals\n",
      "  \"Check mle_retvals\", ConvergenceWarning)\n"
     ]
    },
    {
     "name": "stdout",
     "output_type": "stream",
     "text": [
      "Warning: Maximum number of iterations has been exceeded.\n"
     ]
    },
    {
     "name": "stderr",
     "output_type": "stream",
     "text": [
      "C:\\Users\\Ashu\\Anaconda3\\lib\\site-packages\\statsmodels\\base\\model.py:512: ConvergenceWarning: Maximum Likelihood optimization failed to converge. Check mle_retvals\n",
      "  \"Check mle_retvals\", ConvergenceWarning)\n"
     ]
    },
    {
     "name": "stdout",
     "output_type": "stream",
     "text": [
      "Warning: Maximum number of iterations has been exceeded.\n"
     ]
    },
    {
     "name": "stderr",
     "output_type": "stream",
     "text": [
      "C:\\Users\\Ashu\\Anaconda3\\lib\\site-packages\\statsmodels\\base\\model.py:512: ConvergenceWarning: Maximum Likelihood optimization failed to converge. Check mle_retvals\n",
      "  \"Check mle_retvals\", ConvergenceWarning)\n"
     ]
    },
    {
     "name": "stdout",
     "output_type": "stream",
     "text": [
      "Warning: Maximum number of iterations has been exceeded.\n"
     ]
    },
    {
     "name": "stderr",
     "output_type": "stream",
     "text": [
      "C:\\Users\\Ashu\\Anaconda3\\lib\\site-packages\\statsmodels\\base\\model.py:512: ConvergenceWarning: Maximum Likelihood optimization failed to converge. Check mle_retvals\n",
      "  \"Check mle_retvals\", ConvergenceWarning)\n"
     ]
    },
    {
     "name": "stdout",
     "output_type": "stream",
     "text": [
      "Warning: Maximum number of iterations has been exceeded.\n"
     ]
    },
    {
     "name": "stderr",
     "output_type": "stream",
     "text": [
      "C:\\Users\\Ashu\\Anaconda3\\lib\\site-packages\\statsmodels\\base\\model.py:512: ConvergenceWarning: Maximum Likelihood optimization failed to converge. Check mle_retvals\n",
      "  \"Check mle_retvals\", ConvergenceWarning)\n"
     ]
    },
    {
     "name": "stdout",
     "output_type": "stream",
     "text": [
      "Warning: Maximum number of iterations has been exceeded.\n"
     ]
    },
    {
     "name": "stderr",
     "output_type": "stream",
     "text": [
      "C:\\Users\\Ashu\\Anaconda3\\lib\\site-packages\\statsmodels\\base\\model.py:512: ConvergenceWarning: Maximum Likelihood optimization failed to converge. Check mle_retvals\n",
      "  \"Check mle_retvals\", ConvergenceWarning)\n"
     ]
    },
    {
     "name": "stdout",
     "output_type": "stream",
     "text": [
      "Warning: Maximum number of iterations has been exceeded.\n"
     ]
    },
    {
     "name": "stderr",
     "output_type": "stream",
     "text": [
      "C:\\Users\\Ashu\\Anaconda3\\lib\\site-packages\\statsmodels\\base\\model.py:512: ConvergenceWarning: Maximum Likelihood optimization failed to converge. Check mle_retvals\n",
      "  \"Check mle_retvals\", ConvergenceWarning)\n"
     ]
    },
    {
     "name": "stdout",
     "output_type": "stream",
     "text": [
      "Warning: Maximum number of iterations has been exceeded.\n"
     ]
    },
    {
     "name": "stderr",
     "output_type": "stream",
     "text": [
      "C:\\Users\\Ashu\\Anaconda3\\lib\\site-packages\\statsmodels\\base\\model.py:512: ConvergenceWarning: Maximum Likelihood optimization failed to converge. Check mle_retvals\n",
      "  \"Check mle_retvals\", ConvergenceWarning)\n"
     ]
    },
    {
     "name": "stdout",
     "output_type": "stream",
     "text": [
      "Warning: Maximum number of iterations has been exceeded.\n"
     ]
    },
    {
     "name": "stderr",
     "output_type": "stream",
     "text": [
      "C:\\Users\\Ashu\\Anaconda3\\lib\\site-packages\\statsmodels\\base\\model.py:512: ConvergenceWarning: Maximum Likelihood optimization failed to converge. Check mle_retvals\n",
      "  \"Check mle_retvals\", ConvergenceWarning)\n"
     ]
    },
    {
     "name": "stdout",
     "output_type": "stream",
     "text": [
      "Warning: Maximum number of iterations has been exceeded.\n"
     ]
    },
    {
     "name": "stderr",
     "output_type": "stream",
     "text": [
      "C:\\Users\\Ashu\\Anaconda3\\lib\\site-packages\\statsmodels\\base\\model.py:512: ConvergenceWarning: Maximum Likelihood optimization failed to converge. Check mle_retvals\n",
      "  \"Check mle_retvals\", ConvergenceWarning)\n"
     ]
    },
    {
     "name": "stdout",
     "output_type": "stream",
     "text": [
      "Warning: Maximum number of iterations has been exceeded.\n"
     ]
    },
    {
     "name": "stderr",
     "output_type": "stream",
     "text": [
      "C:\\Users\\Ashu\\Anaconda3\\lib\\site-packages\\statsmodels\\base\\model.py:512: ConvergenceWarning: Maximum Likelihood optimization failed to converge. Check mle_retvals\n",
      "  \"Check mle_retvals\", ConvergenceWarning)\n"
     ]
    },
    {
     "name": "stdout",
     "output_type": "stream",
     "text": [
      "Warning: Maximum number of iterations has been exceeded.\n"
     ]
    },
    {
     "name": "stderr",
     "output_type": "stream",
     "text": [
      "C:\\Users\\Ashu\\Anaconda3\\lib\\site-packages\\statsmodels\\base\\model.py:512: ConvergenceWarning: Maximum Likelihood optimization failed to converge. Check mle_retvals\n",
      "  \"Check mle_retvals\", ConvergenceWarning)\n"
     ]
    },
    {
     "name": "stdout",
     "output_type": "stream",
     "text": [
      "Warning: Maximum number of iterations has been exceeded.\n"
     ]
    },
    {
     "name": "stderr",
     "output_type": "stream",
     "text": [
      "C:\\Users\\Ashu\\Anaconda3\\lib\\site-packages\\statsmodels\\base\\model.py:512: ConvergenceWarning: Maximum Likelihood optimization failed to converge. Check mle_retvals\n",
      "  \"Check mle_retvals\", ConvergenceWarning)\n"
     ]
    },
    {
     "name": "stdout",
     "output_type": "stream",
     "text": [
      "Warning: Maximum number of iterations has been exceeded.\n"
     ]
    },
    {
     "name": "stderr",
     "output_type": "stream",
     "text": [
      "C:\\Users\\Ashu\\Anaconda3\\lib\\site-packages\\statsmodels\\base\\model.py:512: ConvergenceWarning: Maximum Likelihood optimization failed to converge. Check mle_retvals\n",
      "  \"Check mle_retvals\", ConvergenceWarning)\n"
     ]
    },
    {
     "name": "stdout",
     "output_type": "stream",
     "text": [
      "Warning: Maximum number of iterations has been exceeded.\n"
     ]
    },
    {
     "name": "stderr",
     "output_type": "stream",
     "text": [
      "C:\\Users\\Ashu\\Anaconda3\\lib\\site-packages\\statsmodels\\base\\model.py:512: ConvergenceWarning: Maximum Likelihood optimization failed to converge. Check mle_retvals\n",
      "  \"Check mle_retvals\", ConvergenceWarning)\n"
     ]
    },
    {
     "name": "stdout",
     "output_type": "stream",
     "text": [
      "Warning: Maximum number of iterations has been exceeded.\n"
     ]
    },
    {
     "name": "stderr",
     "output_type": "stream",
     "text": [
      "C:\\Users\\Ashu\\Anaconda3\\lib\\site-packages\\statsmodels\\base\\model.py:512: ConvergenceWarning: Maximum Likelihood optimization failed to converge. Check mle_retvals\n",
      "  \"Check mle_retvals\", ConvergenceWarning)\n"
     ]
    },
    {
     "name": "stdout",
     "output_type": "stream",
     "text": [
      "Warning: Maximum number of iterations has been exceeded.\n"
     ]
    },
    {
     "name": "stderr",
     "output_type": "stream",
     "text": [
      "C:\\Users\\Ashu\\Anaconda3\\lib\\site-packages\\statsmodels\\base\\model.py:512: ConvergenceWarning: Maximum Likelihood optimization failed to converge. Check mle_retvals\n",
      "  \"Check mle_retvals\", ConvergenceWarning)\n"
     ]
    },
    {
     "name": "stdout",
     "output_type": "stream",
     "text": [
      "Warning: Maximum number of iterations has been exceeded.\n"
     ]
    },
    {
     "name": "stderr",
     "output_type": "stream",
     "text": [
      "C:\\Users\\Ashu\\Anaconda3\\lib\\site-packages\\statsmodels\\base\\model.py:512: ConvergenceWarning: Maximum Likelihood optimization failed to converge. Check mle_retvals\n",
      "  \"Check mle_retvals\", ConvergenceWarning)\n"
     ]
    },
    {
     "name": "stdout",
     "output_type": "stream",
     "text": [
      "Warning: Maximum number of iterations has been exceeded.\n"
     ]
    },
    {
     "name": "stderr",
     "output_type": "stream",
     "text": [
      "C:\\Users\\Ashu\\Anaconda3\\lib\\site-packages\\statsmodels\\base\\model.py:512: ConvergenceWarning: Maximum Likelihood optimization failed to converge. Check mle_retvals\n",
      "  \"Check mle_retvals\", ConvergenceWarning)\n"
     ]
    },
    {
     "name": "stdout",
     "output_type": "stream",
     "text": [
      "Warning: Maximum number of iterations has been exceeded.\n"
     ]
    },
    {
     "name": "stderr",
     "output_type": "stream",
     "text": [
      "C:\\Users\\Ashu\\Anaconda3\\lib\\site-packages\\statsmodels\\base\\model.py:512: ConvergenceWarning: Maximum Likelihood optimization failed to converge. Check mle_retvals\n",
      "  \"Check mle_retvals\", ConvergenceWarning)\n"
     ]
    },
    {
     "name": "stdout",
     "output_type": "stream",
     "text": [
      "Warning: Maximum number of iterations has been exceeded.\n"
     ]
    },
    {
     "name": "stderr",
     "output_type": "stream",
     "text": [
      "C:\\Users\\Ashu\\Anaconda3\\lib\\site-packages\\statsmodels\\base\\model.py:512: ConvergenceWarning: Maximum Likelihood optimization failed to converge. Check mle_retvals\n",
      "  \"Check mle_retvals\", ConvergenceWarning)\n"
     ]
    },
    {
     "name": "stdout",
     "output_type": "stream",
     "text": [
      "Warning: Maximum number of iterations has been exceeded.\n"
     ]
    },
    {
     "name": "stderr",
     "output_type": "stream",
     "text": [
      "C:\\Users\\Ashu\\Anaconda3\\lib\\site-packages\\statsmodels\\base\\model.py:512: ConvergenceWarning: Maximum Likelihood optimization failed to converge. Check mle_retvals\n",
      "  \"Check mle_retvals\", ConvergenceWarning)\n"
     ]
    },
    {
     "name": "stdout",
     "output_type": "stream",
     "text": [
      "Warning: Maximum number of iterations has been exceeded.\n"
     ]
    },
    {
     "name": "stderr",
     "output_type": "stream",
     "text": [
      "C:\\Users\\Ashu\\Anaconda3\\lib\\site-packages\\statsmodels\\base\\model.py:512: ConvergenceWarning: Maximum Likelihood optimization failed to converge. Check mle_retvals\n",
      "  \"Check mle_retvals\", ConvergenceWarning)\n"
     ]
    },
    {
     "name": "stdout",
     "output_type": "stream",
     "text": [
      "Warning: Maximum number of iterations has been exceeded.\n"
     ]
    },
    {
     "name": "stderr",
     "output_type": "stream",
     "text": [
      "C:\\Users\\Ashu\\Anaconda3\\lib\\site-packages\\statsmodels\\base\\model.py:512: ConvergenceWarning: Maximum Likelihood optimization failed to converge. Check mle_retvals\n",
      "  \"Check mle_retvals\", ConvergenceWarning)\n"
     ]
    },
    {
     "name": "stdout",
     "output_type": "stream",
     "text": [
      "Warning: Maximum number of iterations has been exceeded.\n"
     ]
    },
    {
     "name": "stderr",
     "output_type": "stream",
     "text": [
      "C:\\Users\\Ashu\\Anaconda3\\lib\\site-packages\\statsmodels\\base\\model.py:512: ConvergenceWarning: Maximum Likelihood optimization failed to converge. Check mle_retvals\n",
      "  \"Check mle_retvals\", ConvergenceWarning)\n"
     ]
    },
    {
     "name": "stdout",
     "output_type": "stream",
     "text": [
      "Warning: Maximum number of iterations has been exceeded.\n"
     ]
    },
    {
     "name": "stderr",
     "output_type": "stream",
     "text": [
      "C:\\Users\\Ashu\\Anaconda3\\lib\\site-packages\\statsmodels\\base\\model.py:512: ConvergenceWarning: Maximum Likelihood optimization failed to converge. Check mle_retvals\n",
      "  \"Check mle_retvals\", ConvergenceWarning)\n"
     ]
    },
    {
     "name": "stdout",
     "output_type": "stream",
     "text": [
      "Warning: Maximum number of iterations has been exceeded.\n"
     ]
    },
    {
     "name": "stderr",
     "output_type": "stream",
     "text": [
      "C:\\Users\\Ashu\\Anaconda3\\lib\\site-packages\\statsmodels\\base\\model.py:512: ConvergenceWarning: Maximum Likelihood optimization failed to converge. Check mle_retvals\n",
      "  \"Check mle_retvals\", ConvergenceWarning)\n"
     ]
    },
    {
     "name": "stdout",
     "output_type": "stream",
     "text": [
      "Warning: Maximum number of iterations has been exceeded.\n"
     ]
    },
    {
     "name": "stderr",
     "output_type": "stream",
     "text": [
      "C:\\Users\\Ashu\\Anaconda3\\lib\\site-packages\\statsmodels\\base\\model.py:512: ConvergenceWarning: Maximum Likelihood optimization failed to converge. Check mle_retvals\n",
      "  \"Check mle_retvals\", ConvergenceWarning)\n"
     ]
    },
    {
     "name": "stdout",
     "output_type": "stream",
     "text": [
      "Warning: Maximum number of iterations has been exceeded.\n"
     ]
    },
    {
     "name": "stderr",
     "output_type": "stream",
     "text": [
      "C:\\Users\\Ashu\\Anaconda3\\lib\\site-packages\\statsmodels\\base\\model.py:512: ConvergenceWarning: Maximum Likelihood optimization failed to converge. Check mle_retvals\n",
      "  \"Check mle_retvals\", ConvergenceWarning)\n"
     ]
    },
    {
     "name": "stdout",
     "output_type": "stream",
     "text": [
      "Warning: Maximum number of iterations has been exceeded.\n"
     ]
    },
    {
     "name": "stderr",
     "output_type": "stream",
     "text": [
      "C:\\Users\\Ashu\\Anaconda3\\lib\\site-packages\\statsmodels\\base\\model.py:512: ConvergenceWarning: Maximum Likelihood optimization failed to converge. Check mle_retvals\n",
      "  \"Check mle_retvals\", ConvergenceWarning)\n"
     ]
    },
    {
     "name": "stdout",
     "output_type": "stream",
     "text": [
      "Warning: Maximum number of iterations has been exceeded.\n"
     ]
    },
    {
     "name": "stderr",
     "output_type": "stream",
     "text": [
      "C:\\Users\\Ashu\\Anaconda3\\lib\\site-packages\\statsmodels\\base\\model.py:512: ConvergenceWarning: Maximum Likelihood optimization failed to converge. Check mle_retvals\n",
      "  \"Check mle_retvals\", ConvergenceWarning)\n"
     ]
    },
    {
     "name": "stdout",
     "output_type": "stream",
     "text": [
      "Warning: Maximum number of iterations has been exceeded.\n"
     ]
    },
    {
     "name": "stderr",
     "output_type": "stream",
     "text": [
      "C:\\Users\\Ashu\\Anaconda3\\lib\\site-packages\\statsmodels\\base\\model.py:512: ConvergenceWarning: Maximum Likelihood optimization failed to converge. Check mle_retvals\n",
      "  \"Check mle_retvals\", ConvergenceWarning)\n"
     ]
    },
    {
     "name": "stdout",
     "output_type": "stream",
     "text": [
      "Warning: Maximum number of iterations has been exceeded.\n"
     ]
    },
    {
     "name": "stderr",
     "output_type": "stream",
     "text": [
      "C:\\Users\\Ashu\\Anaconda3\\lib\\site-packages\\statsmodels\\base\\model.py:512: ConvergenceWarning: Maximum Likelihood optimization failed to converge. Check mle_retvals\n",
      "  \"Check mle_retvals\", ConvergenceWarning)\n"
     ]
    },
    {
     "name": "stdout",
     "output_type": "stream",
     "text": [
      "Warning: Maximum number of iterations has been exceeded.\n"
     ]
    },
    {
     "name": "stderr",
     "output_type": "stream",
     "text": [
      "C:\\Users\\Ashu\\Anaconda3\\lib\\site-packages\\statsmodels\\base\\model.py:512: ConvergenceWarning: Maximum Likelihood optimization failed to converge. Check mle_retvals\n",
      "  \"Check mle_retvals\", ConvergenceWarning)\n"
     ]
    },
    {
     "name": "stdout",
     "output_type": "stream",
     "text": [
      "Warning: Maximum number of iterations has been exceeded.\n"
     ]
    },
    {
     "name": "stderr",
     "output_type": "stream",
     "text": [
      "C:\\Users\\Ashu\\Anaconda3\\lib\\site-packages\\statsmodels\\base\\model.py:512: ConvergenceWarning: Maximum Likelihood optimization failed to converge. Check mle_retvals\n",
      "  \"Check mle_retvals\", ConvergenceWarning)\n"
     ]
    },
    {
     "name": "stdout",
     "output_type": "stream",
     "text": [
      "Warning: Maximum number of iterations has been exceeded.\n"
     ]
    },
    {
     "name": "stderr",
     "output_type": "stream",
     "text": [
      "C:\\Users\\Ashu\\Anaconda3\\lib\\site-packages\\statsmodels\\base\\model.py:512: ConvergenceWarning: Maximum Likelihood optimization failed to converge. Check mle_retvals\n",
      "  \"Check mle_retvals\", ConvergenceWarning)\n"
     ]
    },
    {
     "name": "stdout",
     "output_type": "stream",
     "text": [
      "Warning: Maximum number of iterations has been exceeded.\n"
     ]
    },
    {
     "name": "stderr",
     "output_type": "stream",
     "text": [
      "C:\\Users\\Ashu\\Anaconda3\\lib\\site-packages\\statsmodels\\base\\model.py:512: ConvergenceWarning: Maximum Likelihood optimization failed to converge. Check mle_retvals\n",
      "  \"Check mle_retvals\", ConvergenceWarning)\n"
     ]
    },
    {
     "name": "stdout",
     "output_type": "stream",
     "text": [
      "Warning: Maximum number of iterations has been exceeded.\n"
     ]
    },
    {
     "name": "stderr",
     "output_type": "stream",
     "text": [
      "C:\\Users\\Ashu\\Anaconda3\\lib\\site-packages\\statsmodels\\base\\model.py:512: ConvergenceWarning: Maximum Likelihood optimization failed to converge. Check mle_retvals\n",
      "  \"Check mle_retvals\", ConvergenceWarning)\n"
     ]
    },
    {
     "name": "stdout",
     "output_type": "stream",
     "text": [
      "Warning: Maximum number of iterations has been exceeded.\n"
     ]
    },
    {
     "name": "stderr",
     "output_type": "stream",
     "text": [
      "C:\\Users\\Ashu\\Anaconda3\\lib\\site-packages\\statsmodels\\base\\model.py:512: ConvergenceWarning: Maximum Likelihood optimization failed to converge. Check mle_retvals\n",
      "  \"Check mle_retvals\", ConvergenceWarning)\n"
     ]
    },
    {
     "name": "stdout",
     "output_type": "stream",
     "text": [
      "Warning: Maximum number of iterations has been exceeded.\n"
     ]
    },
    {
     "name": "stderr",
     "output_type": "stream",
     "text": [
      "C:\\Users\\Ashu\\Anaconda3\\lib\\site-packages\\statsmodels\\base\\model.py:512: ConvergenceWarning: Maximum Likelihood optimization failed to converge. Check mle_retvals\n",
      "  \"Check mle_retvals\", ConvergenceWarning)\n"
     ]
    },
    {
     "name": "stdout",
     "output_type": "stream",
     "text": [
      "Warning: Maximum number of iterations has been exceeded.\n"
     ]
    },
    {
     "name": "stderr",
     "output_type": "stream",
     "text": [
      "C:\\Users\\Ashu\\Anaconda3\\lib\\site-packages\\statsmodels\\base\\model.py:512: ConvergenceWarning: Maximum Likelihood optimization failed to converge. Check mle_retvals\n",
      "  \"Check mle_retvals\", ConvergenceWarning)\n"
     ]
    },
    {
     "name": "stdout",
     "output_type": "stream",
     "text": [
      "Warning: Maximum number of iterations has been exceeded.\n"
     ]
    },
    {
     "name": "stderr",
     "output_type": "stream",
     "text": [
      "C:\\Users\\Ashu\\Anaconda3\\lib\\site-packages\\statsmodels\\base\\model.py:512: ConvergenceWarning: Maximum Likelihood optimization failed to converge. Check mle_retvals\n",
      "  \"Check mle_retvals\", ConvergenceWarning)\n"
     ]
    }
   ],
   "source": [
    "somerced_val = pd.DataFrame()\n",
    "for i_var in train_final.columns.difference(['Activity_normal']):\n",
    "    model = smf.logit('Activity_normal~'+str(i_var), data=train_final).fit(method='nm')\n",
    "    somerce_d = 2*metrics.roc_auc_score(train_final.Activity_normal, model.predict())-1\n",
    "    temp = pd.DataFrame([i_var, somerce_d]).T\n",
    "    somerced_val = pd.concat([somerced_val, temp], axis=0)"
   ]
  },
  {
   "cell_type": "code",
   "execution_count": 36,
   "metadata": {},
   "outputs": [
    {
     "data": {
      "text/html": [
       "<div>\n",
       "<style scoped>\n",
       "    .dataframe tbody tr th:only-of-type {\n",
       "        vertical-align: middle;\n",
       "    }\n",
       "\n",
       "    .dataframe tbody tr th {\n",
       "        vertical-align: top;\n",
       "    }\n",
       "\n",
       "    .dataframe thead th {\n",
       "        text-align: right;\n",
       "    }\n",
       "</style>\n",
       "<table border=\"1\" class=\"dataframe\">\n",
       "  <thead>\n",
       "    <tr style=\"text-align: right;\">\n",
       "      <th></th>\n",
       "      <th>var</th>\n",
       "      <th>SomerceD</th>\n",
       "    </tr>\n",
       "  </thead>\n",
       "  <tbody>\n",
       "    <tr>\n",
       "      <td>0</td>\n",
       "      <td>dst_bytes</td>\n",
       "      <td>0.799057</td>\n",
       "    </tr>\n",
       "    <tr>\n",
       "      <td>0</td>\n",
       "      <td>src_bytes</td>\n",
       "      <td>0.797324</td>\n",
       "    </tr>\n",
       "    <tr>\n",
       "      <td>0</td>\n",
       "      <td>flag_SF</td>\n",
       "      <td>0.744312</td>\n",
       "    </tr>\n",
       "    <tr>\n",
       "      <td>0</td>\n",
       "      <td>diff_srv_rate</td>\n",
       "      <td>0.689471</td>\n",
       "    </tr>\n",
       "    <tr>\n",
       "      <td>0</td>\n",
       "      <td>logged_in_1</td>\n",
       "      <td>0.676629</td>\n",
       "    </tr>\n",
       "    <tr>\n",
       "      <td>...</td>\n",
       "      <td>...</td>\n",
       "      <td>...</td>\n",
       "    </tr>\n",
       "    <tr>\n",
       "      <td>0</td>\n",
       "      <td>urgent_1</td>\n",
       "      <td>1.04365e-05</td>\n",
       "    </tr>\n",
       "    <tr>\n",
       "      <td>0</td>\n",
       "      <td>duration</td>\n",
       "      <td>-0.0816933</td>\n",
       "    </tr>\n",
       "    <tr>\n",
       "      <td>0</td>\n",
       "      <td>srv_count</td>\n",
       "      <td>-0.117776</td>\n",
       "    </tr>\n",
       "    <tr>\n",
       "      <td>0</td>\n",
       "      <td>dst_host_same_src_port_rate</td>\n",
       "      <td>-0.259158</td>\n",
       "    </tr>\n",
       "    <tr>\n",
       "      <td>0</td>\n",
       "      <td>dst_host_srv_diff_host_rate</td>\n",
       "      <td>-0.36368</td>\n",
       "    </tr>\n",
       "  </tbody>\n",
       "</table>\n",
       "<p>116 rows × 2 columns</p>\n",
       "</div>"
      ],
      "text/plain": [
       "                            var     SomerceD\n",
       "0                     dst_bytes     0.799057\n",
       "0                     src_bytes     0.797324\n",
       "0                       flag_SF     0.744312\n",
       "0                 diff_srv_rate     0.689471\n",
       "0                   logged_in_1     0.676629\n",
       "..                          ...          ...\n",
       "0                      urgent_1  1.04365e-05\n",
       "0                      duration   -0.0816933\n",
       "0                     srv_count    -0.117776\n",
       "0   dst_host_same_src_port_rate    -0.259158\n",
       "0   dst_host_srv_diff_host_rate     -0.36368\n",
       "\n",
       "[116 rows x 2 columns]"
      ]
     },
     "execution_count": 36,
     "metadata": {},
     "output_type": "execute_result"
    }
   ],
   "source": [
    "somerced_val.columns = ['var', 'SomerceD']\n",
    "somerced_val.sort_values(by = 'SomerceD', inplace=True, ascending=False)\n",
    "somerced_val.to_csv('somerce_d.csv')\n",
    "somerced_val"
   ]
  },
  {
   "cell_type": "code",
   "execution_count": 37,
   "metadata": {},
   "outputs": [],
   "source": [
    "from sklearn.ensemble import RandomForestClassifier\n",
    "from sklearn.feature_selection import RFE"
   ]
  },
  {
   "cell_type": "code",
   "execution_count": 38,
   "metadata": {
    "scrolled": true
   },
   "outputs": [
    {
     "name": "stderr",
     "output_type": "stream",
     "text": [
      "C:\\Users\\Ashu\\Anaconda3\\lib\\site-packages\\sklearn\\utils\\validation.py:70: FutureWarning: Pass n_features_to_select=20 as keyword args. From version 0.25 passing these as positional arguments will result in an error\n",
      "  FutureWarning)\n",
      "C:\\Users\\Ashu\\Anaconda3\\lib\\site-packages\\sklearn\\feature_selection\\_rfe.py:196: DataConversionWarning: A column-vector y was passed when a 1d array was expected. Please change the shape of y to (n_samples,), for example using ravel().\n",
      "  estimator.fit(X[:, features], y)\n",
      "C:\\Users\\Ashu\\Anaconda3\\lib\\site-packages\\sklearn\\feature_selection\\_rfe.py:196: DataConversionWarning: A column-vector y was passed when a 1d array was expected. Please change the shape of y to (n_samples,), for example using ravel().\n",
      "  estimator.fit(X[:, features], y)\n",
      "C:\\Users\\Ashu\\Anaconda3\\lib\\site-packages\\sklearn\\feature_selection\\_rfe.py:196: DataConversionWarning: A column-vector y was passed when a 1d array was expected. Please change the shape of y to (n_samples,), for example using ravel().\n",
      "  estimator.fit(X[:, features], y)\n",
      "C:\\Users\\Ashu\\Anaconda3\\lib\\site-packages\\sklearn\\feature_selection\\_rfe.py:196: DataConversionWarning: A column-vector y was passed when a 1d array was expected. Please change the shape of y to (n_samples,), for example using ravel().\n",
      "  estimator.fit(X[:, features], y)\n",
      "C:\\Users\\Ashu\\Anaconda3\\lib\\site-packages\\sklearn\\feature_selection\\_rfe.py:196: DataConversionWarning: A column-vector y was passed when a 1d array was expected. Please change the shape of y to (n_samples,), for example using ravel().\n",
      "  estimator.fit(X[:, features], y)\n"
     ]
    },
    {
     "ename": "KeyboardInterrupt",
     "evalue": "",
     "output_type": "error",
     "traceback": [
      "\u001b[1;31m---------------------------------------------------------------------------\u001b[0m",
      "\u001b[1;31mKeyboardInterrupt\u001b[0m                         Traceback (most recent call last)",
      "\u001b[1;32m<ipython-input-38-0e1ac0914328>\u001b[0m in \u001b[0;36m<module>\u001b[1;34m\u001b[0m\n\u001b[0;32m      4\u001b[0m \u001b[1;33m\u001b[0m\u001b[0m\n\u001b[0;32m      5\u001b[0m \u001b[0mrfe\u001b[0m \u001b[1;33m=\u001b[0m \u001b[0mRFE\u001b[0m\u001b[1;33m(\u001b[0m\u001b[0mRandomForestClassifier\u001b[0m\u001b[1;33m(\u001b[0m\u001b[1;33m)\u001b[0m\u001b[1;33m,\u001b[0m \u001b[1;36m20\u001b[0m\u001b[1;33m)\u001b[0m\u001b[1;33m\u001b[0m\u001b[1;33m\u001b[0m\u001b[0m\n\u001b[1;32m----> 6\u001b[1;33m \u001b[0mrfe\u001b[0m \u001b[1;33m=\u001b[0m \u001b[0mrfe\u001b[0m\u001b[1;33m.\u001b[0m\u001b[0mfit\u001b[0m\u001b[1;33m(\u001b[0m\u001b[0mX\u001b[0m\u001b[1;33m,\u001b[0m \u001b[0my\u001b[0m\u001b[1;33m)\u001b[0m\u001b[1;33m\u001b[0m\u001b[1;33m\u001b[0m\u001b[0m\n\u001b[0m",
      "\u001b[1;32m~\\Anaconda3\\lib\\site-packages\\sklearn\\feature_selection\\_rfe.py\u001b[0m in \u001b[0;36mfit\u001b[1;34m(self, X, y)\u001b[0m\n\u001b[0;32m    149\u001b[0m             \u001b[0mThe\u001b[0m \u001b[0mtarget\u001b[0m \u001b[0mvalues\u001b[0m\u001b[1;33m.\u001b[0m\u001b[1;33m\u001b[0m\u001b[1;33m\u001b[0m\u001b[0m\n\u001b[0;32m    150\u001b[0m         \"\"\"\n\u001b[1;32m--> 151\u001b[1;33m         \u001b[1;32mreturn\u001b[0m \u001b[0mself\u001b[0m\u001b[1;33m.\u001b[0m\u001b[0m_fit\u001b[0m\u001b[1;33m(\u001b[0m\u001b[0mX\u001b[0m\u001b[1;33m,\u001b[0m \u001b[0my\u001b[0m\u001b[1;33m)\u001b[0m\u001b[1;33m\u001b[0m\u001b[1;33m\u001b[0m\u001b[0m\n\u001b[0m\u001b[0;32m    152\u001b[0m \u001b[1;33m\u001b[0m\u001b[0m\n\u001b[0;32m    153\u001b[0m     \u001b[1;32mdef\u001b[0m \u001b[0m_fit\u001b[0m\u001b[1;33m(\u001b[0m\u001b[0mself\u001b[0m\u001b[1;33m,\u001b[0m \u001b[0mX\u001b[0m\u001b[1;33m,\u001b[0m \u001b[0my\u001b[0m\u001b[1;33m,\u001b[0m \u001b[0mstep_score\u001b[0m\u001b[1;33m=\u001b[0m\u001b[1;32mNone\u001b[0m\u001b[1;33m)\u001b[0m\u001b[1;33m:\u001b[0m\u001b[1;33m\u001b[0m\u001b[1;33m\u001b[0m\u001b[0m\n",
      "\u001b[1;32m~\\Anaconda3\\lib\\site-packages\\sklearn\\feature_selection\\_rfe.py\u001b[0m in \u001b[0;36m_fit\u001b[1;34m(self, X, y, step_score)\u001b[0m\n\u001b[0;32m    194\u001b[0m                 \u001b[0mprint\u001b[0m\u001b[1;33m(\u001b[0m\u001b[1;34m\"Fitting estimator with %d features.\"\u001b[0m \u001b[1;33m%\u001b[0m \u001b[0mnp\u001b[0m\u001b[1;33m.\u001b[0m\u001b[0msum\u001b[0m\u001b[1;33m(\u001b[0m\u001b[0msupport_\u001b[0m\u001b[1;33m)\u001b[0m\u001b[1;33m)\u001b[0m\u001b[1;33m\u001b[0m\u001b[1;33m\u001b[0m\u001b[0m\n\u001b[0;32m    195\u001b[0m \u001b[1;33m\u001b[0m\u001b[0m\n\u001b[1;32m--> 196\u001b[1;33m             \u001b[0mestimator\u001b[0m\u001b[1;33m.\u001b[0m\u001b[0mfit\u001b[0m\u001b[1;33m(\u001b[0m\u001b[0mX\u001b[0m\u001b[1;33m[\u001b[0m\u001b[1;33m:\u001b[0m\u001b[1;33m,\u001b[0m \u001b[0mfeatures\u001b[0m\u001b[1;33m]\u001b[0m\u001b[1;33m,\u001b[0m \u001b[0my\u001b[0m\u001b[1;33m)\u001b[0m\u001b[1;33m\u001b[0m\u001b[1;33m\u001b[0m\u001b[0m\n\u001b[0m\u001b[0;32m    197\u001b[0m \u001b[1;33m\u001b[0m\u001b[0m\n\u001b[0;32m    198\u001b[0m             \u001b[1;31m# Get coefs\u001b[0m\u001b[1;33m\u001b[0m\u001b[1;33m\u001b[0m\u001b[1;33m\u001b[0m\u001b[0m\n",
      "\u001b[1;32m~\\Anaconda3\\lib\\site-packages\\sklearn\\ensemble\\_forest.py\u001b[0m in \u001b[0;36mfit\u001b[1;34m(self, X, y, sample_weight)\u001b[0m\n\u001b[0;32m    390\u001b[0m                     \u001b[0mverbose\u001b[0m\u001b[1;33m=\u001b[0m\u001b[0mself\u001b[0m\u001b[1;33m.\u001b[0m\u001b[0mverbose\u001b[0m\u001b[1;33m,\u001b[0m \u001b[0mclass_weight\u001b[0m\u001b[1;33m=\u001b[0m\u001b[0mself\u001b[0m\u001b[1;33m.\u001b[0m\u001b[0mclass_weight\u001b[0m\u001b[1;33m,\u001b[0m\u001b[1;33m\u001b[0m\u001b[1;33m\u001b[0m\u001b[0m\n\u001b[0;32m    391\u001b[0m                     n_samples_bootstrap=n_samples_bootstrap)\n\u001b[1;32m--> 392\u001b[1;33m                 for i, t in enumerate(trees))\n\u001b[0m\u001b[0;32m    393\u001b[0m \u001b[1;33m\u001b[0m\u001b[0m\n\u001b[0;32m    394\u001b[0m             \u001b[1;31m# Collect newly grown trees\u001b[0m\u001b[1;33m\u001b[0m\u001b[1;33m\u001b[0m\u001b[1;33m\u001b[0m\u001b[0m\n",
      "\u001b[1;32m~\\Anaconda3\\lib\\site-packages\\joblib\\parallel.py\u001b[0m in \u001b[0;36m__call__\u001b[1;34m(self, iterable)\u001b[0m\n\u001b[0;32m    922\u001b[0m                 \u001b[0mself\u001b[0m\u001b[1;33m.\u001b[0m\u001b[0m_iterating\u001b[0m \u001b[1;33m=\u001b[0m \u001b[0mself\u001b[0m\u001b[1;33m.\u001b[0m\u001b[0m_original_iterator\u001b[0m \u001b[1;32mis\u001b[0m \u001b[1;32mnot\u001b[0m \u001b[1;32mNone\u001b[0m\u001b[1;33m\u001b[0m\u001b[1;33m\u001b[0m\u001b[0m\n\u001b[0;32m    923\u001b[0m \u001b[1;33m\u001b[0m\u001b[0m\n\u001b[1;32m--> 924\u001b[1;33m             \u001b[1;32mwhile\u001b[0m \u001b[0mself\u001b[0m\u001b[1;33m.\u001b[0m\u001b[0mdispatch_one_batch\u001b[0m\u001b[1;33m(\u001b[0m\u001b[0miterator\u001b[0m\u001b[1;33m)\u001b[0m\u001b[1;33m:\u001b[0m\u001b[1;33m\u001b[0m\u001b[1;33m\u001b[0m\u001b[0m\n\u001b[0m\u001b[0;32m    925\u001b[0m                 \u001b[1;32mpass\u001b[0m\u001b[1;33m\u001b[0m\u001b[1;33m\u001b[0m\u001b[0m\n\u001b[0;32m    926\u001b[0m \u001b[1;33m\u001b[0m\u001b[0m\n",
      "\u001b[1;32m~\\Anaconda3\\lib\\site-packages\\joblib\\parallel.py\u001b[0m in \u001b[0;36mdispatch_one_batch\u001b[1;34m(self, iterator)\u001b[0m\n\u001b[0;32m    757\u001b[0m                 \u001b[1;32mreturn\u001b[0m \u001b[1;32mFalse\u001b[0m\u001b[1;33m\u001b[0m\u001b[1;33m\u001b[0m\u001b[0m\n\u001b[0;32m    758\u001b[0m             \u001b[1;32melse\u001b[0m\u001b[1;33m:\u001b[0m\u001b[1;33m\u001b[0m\u001b[1;33m\u001b[0m\u001b[0m\n\u001b[1;32m--> 759\u001b[1;33m                 \u001b[0mself\u001b[0m\u001b[1;33m.\u001b[0m\u001b[0m_dispatch\u001b[0m\u001b[1;33m(\u001b[0m\u001b[0mtasks\u001b[0m\u001b[1;33m)\u001b[0m\u001b[1;33m\u001b[0m\u001b[1;33m\u001b[0m\u001b[0m\n\u001b[0m\u001b[0;32m    760\u001b[0m                 \u001b[1;32mreturn\u001b[0m \u001b[1;32mTrue\u001b[0m\u001b[1;33m\u001b[0m\u001b[1;33m\u001b[0m\u001b[0m\n\u001b[0;32m    761\u001b[0m \u001b[1;33m\u001b[0m\u001b[0m\n",
      "\u001b[1;32m~\\Anaconda3\\lib\\site-packages\\joblib\\parallel.py\u001b[0m in \u001b[0;36m_dispatch\u001b[1;34m(self, batch)\u001b[0m\n\u001b[0;32m    714\u001b[0m         \u001b[1;32mwith\u001b[0m \u001b[0mself\u001b[0m\u001b[1;33m.\u001b[0m\u001b[0m_lock\u001b[0m\u001b[1;33m:\u001b[0m\u001b[1;33m\u001b[0m\u001b[1;33m\u001b[0m\u001b[0m\n\u001b[0;32m    715\u001b[0m             \u001b[0mjob_idx\u001b[0m \u001b[1;33m=\u001b[0m \u001b[0mlen\u001b[0m\u001b[1;33m(\u001b[0m\u001b[0mself\u001b[0m\u001b[1;33m.\u001b[0m\u001b[0m_jobs\u001b[0m\u001b[1;33m)\u001b[0m\u001b[1;33m\u001b[0m\u001b[1;33m\u001b[0m\u001b[0m\n\u001b[1;32m--> 716\u001b[1;33m             \u001b[0mjob\u001b[0m \u001b[1;33m=\u001b[0m \u001b[0mself\u001b[0m\u001b[1;33m.\u001b[0m\u001b[0m_backend\u001b[0m\u001b[1;33m.\u001b[0m\u001b[0mapply_async\u001b[0m\u001b[1;33m(\u001b[0m\u001b[0mbatch\u001b[0m\u001b[1;33m,\u001b[0m \u001b[0mcallback\u001b[0m\u001b[1;33m=\u001b[0m\u001b[0mcb\u001b[0m\u001b[1;33m)\u001b[0m\u001b[1;33m\u001b[0m\u001b[1;33m\u001b[0m\u001b[0m\n\u001b[0m\u001b[0;32m    717\u001b[0m             \u001b[1;31m# A job can complete so quickly than its callback is\u001b[0m\u001b[1;33m\u001b[0m\u001b[1;33m\u001b[0m\u001b[1;33m\u001b[0m\u001b[0m\n\u001b[0;32m    718\u001b[0m             \u001b[1;31m# called before we get here, causing self._jobs to\u001b[0m\u001b[1;33m\u001b[0m\u001b[1;33m\u001b[0m\u001b[1;33m\u001b[0m\u001b[0m\n",
      "\u001b[1;32m~\\Anaconda3\\lib\\site-packages\\joblib\\_parallel_backends.py\u001b[0m in \u001b[0;36mapply_async\u001b[1;34m(self, func, callback)\u001b[0m\n\u001b[0;32m    180\u001b[0m     \u001b[1;32mdef\u001b[0m \u001b[0mapply_async\u001b[0m\u001b[1;33m(\u001b[0m\u001b[0mself\u001b[0m\u001b[1;33m,\u001b[0m \u001b[0mfunc\u001b[0m\u001b[1;33m,\u001b[0m \u001b[0mcallback\u001b[0m\u001b[1;33m=\u001b[0m\u001b[1;32mNone\u001b[0m\u001b[1;33m)\u001b[0m\u001b[1;33m:\u001b[0m\u001b[1;33m\u001b[0m\u001b[1;33m\u001b[0m\u001b[0m\n\u001b[0;32m    181\u001b[0m         \u001b[1;34m\"\"\"Schedule a func to be run\"\"\"\u001b[0m\u001b[1;33m\u001b[0m\u001b[1;33m\u001b[0m\u001b[0m\n\u001b[1;32m--> 182\u001b[1;33m         \u001b[0mresult\u001b[0m \u001b[1;33m=\u001b[0m \u001b[0mImmediateResult\u001b[0m\u001b[1;33m(\u001b[0m\u001b[0mfunc\u001b[0m\u001b[1;33m)\u001b[0m\u001b[1;33m\u001b[0m\u001b[1;33m\u001b[0m\u001b[0m\n\u001b[0m\u001b[0;32m    183\u001b[0m         \u001b[1;32mif\u001b[0m \u001b[0mcallback\u001b[0m\u001b[1;33m:\u001b[0m\u001b[1;33m\u001b[0m\u001b[1;33m\u001b[0m\u001b[0m\n\u001b[0;32m    184\u001b[0m             \u001b[0mcallback\u001b[0m\u001b[1;33m(\u001b[0m\u001b[0mresult\u001b[0m\u001b[1;33m)\u001b[0m\u001b[1;33m\u001b[0m\u001b[1;33m\u001b[0m\u001b[0m\n",
      "\u001b[1;32m~\\Anaconda3\\lib\\site-packages\\joblib\\_parallel_backends.py\u001b[0m in \u001b[0;36m__init__\u001b[1;34m(self, batch)\u001b[0m\n\u001b[0;32m    547\u001b[0m         \u001b[1;31m# Don't delay the application, to avoid keeping the input\u001b[0m\u001b[1;33m\u001b[0m\u001b[1;33m\u001b[0m\u001b[1;33m\u001b[0m\u001b[0m\n\u001b[0;32m    548\u001b[0m         \u001b[1;31m# arguments in memory\u001b[0m\u001b[1;33m\u001b[0m\u001b[1;33m\u001b[0m\u001b[1;33m\u001b[0m\u001b[0m\n\u001b[1;32m--> 549\u001b[1;33m         \u001b[0mself\u001b[0m\u001b[1;33m.\u001b[0m\u001b[0mresults\u001b[0m \u001b[1;33m=\u001b[0m \u001b[0mbatch\u001b[0m\u001b[1;33m(\u001b[0m\u001b[1;33m)\u001b[0m\u001b[1;33m\u001b[0m\u001b[1;33m\u001b[0m\u001b[0m\n\u001b[0m\u001b[0;32m    550\u001b[0m \u001b[1;33m\u001b[0m\u001b[0m\n\u001b[0;32m    551\u001b[0m     \u001b[1;32mdef\u001b[0m \u001b[0mget\u001b[0m\u001b[1;33m(\u001b[0m\u001b[0mself\u001b[0m\u001b[1;33m)\u001b[0m\u001b[1;33m:\u001b[0m\u001b[1;33m\u001b[0m\u001b[1;33m\u001b[0m\u001b[0m\n",
      "\u001b[1;32m~\\Anaconda3\\lib\\site-packages\\joblib\\parallel.py\u001b[0m in \u001b[0;36m__call__\u001b[1;34m(self)\u001b[0m\n\u001b[0;32m    223\u001b[0m         \u001b[1;32mwith\u001b[0m \u001b[0mparallel_backend\u001b[0m\u001b[1;33m(\u001b[0m\u001b[0mself\u001b[0m\u001b[1;33m.\u001b[0m\u001b[0m_backend\u001b[0m\u001b[1;33m,\u001b[0m \u001b[0mn_jobs\u001b[0m\u001b[1;33m=\u001b[0m\u001b[0mself\u001b[0m\u001b[1;33m.\u001b[0m\u001b[0m_n_jobs\u001b[0m\u001b[1;33m)\u001b[0m\u001b[1;33m:\u001b[0m\u001b[1;33m\u001b[0m\u001b[1;33m\u001b[0m\u001b[0m\n\u001b[0;32m    224\u001b[0m             return [func(*args, **kwargs)\n\u001b[1;32m--> 225\u001b[1;33m                     for func, args, kwargs in self.items]\n\u001b[0m\u001b[0;32m    226\u001b[0m \u001b[1;33m\u001b[0m\u001b[0m\n\u001b[0;32m    227\u001b[0m     \u001b[1;32mdef\u001b[0m \u001b[0m__len__\u001b[0m\u001b[1;33m(\u001b[0m\u001b[0mself\u001b[0m\u001b[1;33m)\u001b[0m\u001b[1;33m:\u001b[0m\u001b[1;33m\u001b[0m\u001b[1;33m\u001b[0m\u001b[0m\n",
      "\u001b[1;32m~\\Anaconda3\\lib\\site-packages\\joblib\\parallel.py\u001b[0m in \u001b[0;36m<listcomp>\u001b[1;34m(.0)\u001b[0m\n\u001b[0;32m    223\u001b[0m         \u001b[1;32mwith\u001b[0m \u001b[0mparallel_backend\u001b[0m\u001b[1;33m(\u001b[0m\u001b[0mself\u001b[0m\u001b[1;33m.\u001b[0m\u001b[0m_backend\u001b[0m\u001b[1;33m,\u001b[0m \u001b[0mn_jobs\u001b[0m\u001b[1;33m=\u001b[0m\u001b[0mself\u001b[0m\u001b[1;33m.\u001b[0m\u001b[0m_n_jobs\u001b[0m\u001b[1;33m)\u001b[0m\u001b[1;33m:\u001b[0m\u001b[1;33m\u001b[0m\u001b[1;33m\u001b[0m\u001b[0m\n\u001b[0;32m    224\u001b[0m             return [func(*args, **kwargs)\n\u001b[1;32m--> 225\u001b[1;33m                     for func, args, kwargs in self.items]\n\u001b[0m\u001b[0;32m    226\u001b[0m \u001b[1;33m\u001b[0m\u001b[0m\n\u001b[0;32m    227\u001b[0m     \u001b[1;32mdef\u001b[0m \u001b[0m__len__\u001b[0m\u001b[1;33m(\u001b[0m\u001b[0mself\u001b[0m\u001b[1;33m)\u001b[0m\u001b[1;33m:\u001b[0m\u001b[1;33m\u001b[0m\u001b[1;33m\u001b[0m\u001b[0m\n",
      "\u001b[1;32m~\\Anaconda3\\lib\\site-packages\\sklearn\\ensemble\\_forest.py\u001b[0m in \u001b[0;36m_parallel_build_trees\u001b[1;34m(tree, forest, X, y, sample_weight, tree_idx, n_trees, verbose, class_weight, n_samples_bootstrap)\u001b[0m\n\u001b[0;32m    166\u001b[0m                                                         indices=indices)\n\u001b[0;32m    167\u001b[0m \u001b[1;33m\u001b[0m\u001b[0m\n\u001b[1;32m--> 168\u001b[1;33m         \u001b[0mtree\u001b[0m\u001b[1;33m.\u001b[0m\u001b[0mfit\u001b[0m\u001b[1;33m(\u001b[0m\u001b[0mX\u001b[0m\u001b[1;33m,\u001b[0m \u001b[0my\u001b[0m\u001b[1;33m,\u001b[0m \u001b[0msample_weight\u001b[0m\u001b[1;33m=\u001b[0m\u001b[0mcurr_sample_weight\u001b[0m\u001b[1;33m,\u001b[0m \u001b[0mcheck_input\u001b[0m\u001b[1;33m=\u001b[0m\u001b[1;32mFalse\u001b[0m\u001b[1;33m)\u001b[0m\u001b[1;33m\u001b[0m\u001b[1;33m\u001b[0m\u001b[0m\n\u001b[0m\u001b[0;32m    169\u001b[0m     \u001b[1;32melse\u001b[0m\u001b[1;33m:\u001b[0m\u001b[1;33m\u001b[0m\u001b[1;33m\u001b[0m\u001b[0m\n\u001b[0;32m    170\u001b[0m         \u001b[0mtree\u001b[0m\u001b[1;33m.\u001b[0m\u001b[0mfit\u001b[0m\u001b[1;33m(\u001b[0m\u001b[0mX\u001b[0m\u001b[1;33m,\u001b[0m \u001b[0my\u001b[0m\u001b[1;33m,\u001b[0m \u001b[0msample_weight\u001b[0m\u001b[1;33m=\u001b[0m\u001b[0msample_weight\u001b[0m\u001b[1;33m,\u001b[0m \u001b[0mcheck_input\u001b[0m\u001b[1;33m=\u001b[0m\u001b[1;32mFalse\u001b[0m\u001b[1;33m)\u001b[0m\u001b[1;33m\u001b[0m\u001b[1;33m\u001b[0m\u001b[0m\n",
      "\u001b[1;32m~\\Anaconda3\\lib\\site-packages\\sklearn\\tree\\_classes.py\u001b[0m in \u001b[0;36mfit\u001b[1;34m(self, X, y, sample_weight, check_input, X_idx_sorted)\u001b[0m\n\u001b[0;32m    892\u001b[0m             \u001b[0msample_weight\u001b[0m\u001b[1;33m=\u001b[0m\u001b[0msample_weight\u001b[0m\u001b[1;33m,\u001b[0m\u001b[1;33m\u001b[0m\u001b[1;33m\u001b[0m\u001b[0m\n\u001b[0;32m    893\u001b[0m             \u001b[0mcheck_input\u001b[0m\u001b[1;33m=\u001b[0m\u001b[0mcheck_input\u001b[0m\u001b[1;33m,\u001b[0m\u001b[1;33m\u001b[0m\u001b[1;33m\u001b[0m\u001b[0m\n\u001b[1;32m--> 894\u001b[1;33m             X_idx_sorted=X_idx_sorted)\n\u001b[0m\u001b[0;32m    895\u001b[0m         \u001b[1;32mreturn\u001b[0m \u001b[0mself\u001b[0m\u001b[1;33m\u001b[0m\u001b[1;33m\u001b[0m\u001b[0m\n\u001b[0;32m    896\u001b[0m \u001b[1;33m\u001b[0m\u001b[0m\n",
      "\u001b[1;32m~\\Anaconda3\\lib\\site-packages\\sklearn\\tree\\_classes.py\u001b[0m in \u001b[0;36mfit\u001b[1;34m(self, X, y, sample_weight, check_input, X_idx_sorted)\u001b[0m\n\u001b[0;32m    373\u001b[0m                                            min_impurity_split)\n\u001b[0;32m    374\u001b[0m \u001b[1;33m\u001b[0m\u001b[0m\n\u001b[1;32m--> 375\u001b[1;33m         \u001b[0mbuilder\u001b[0m\u001b[1;33m.\u001b[0m\u001b[0mbuild\u001b[0m\u001b[1;33m(\u001b[0m\u001b[0mself\u001b[0m\u001b[1;33m.\u001b[0m\u001b[0mtree_\u001b[0m\u001b[1;33m,\u001b[0m \u001b[0mX\u001b[0m\u001b[1;33m,\u001b[0m \u001b[0my\u001b[0m\u001b[1;33m,\u001b[0m \u001b[0msample_weight\u001b[0m\u001b[1;33m,\u001b[0m \u001b[0mX_idx_sorted\u001b[0m\u001b[1;33m)\u001b[0m\u001b[1;33m\u001b[0m\u001b[1;33m\u001b[0m\u001b[0m\n\u001b[0m\u001b[0;32m    376\u001b[0m \u001b[1;33m\u001b[0m\u001b[0m\n\u001b[0;32m    377\u001b[0m         \u001b[1;32mif\u001b[0m \u001b[0mself\u001b[0m\u001b[1;33m.\u001b[0m\u001b[0mn_outputs_\u001b[0m \u001b[1;33m==\u001b[0m \u001b[1;36m1\u001b[0m \u001b[1;32mand\u001b[0m \u001b[0mis_classifier\u001b[0m\u001b[1;33m(\u001b[0m\u001b[0mself\u001b[0m\u001b[1;33m)\u001b[0m\u001b[1;33m:\u001b[0m\u001b[1;33m\u001b[0m\u001b[1;33m\u001b[0m\u001b[0m\n",
      "\u001b[1;31mKeyboardInterrupt\u001b[0m: "
     ]
    }
   ],
   "source": [
    "#RFE\n",
    "X = train_final[train_final.columns.difference(['Activity_normal'])]\n",
    "y = train_final[['Activity_normal']]\n",
    "\n",
    "rfe = RFE(RandomForestClassifier(), 20)\n",
    "rfe = rfe.fit(X, y)"
   ]
  },
  {
   "cell_type": "code",
   "execution_count": null,
   "metadata": {},
   "outputs": [],
   "source": [
    "X.columns[rfe.get_support()]"
   ]
  },
  {
   "cell_type": "code",
   "execution_count": null,
   "metadata": {},
   "outputs": [],
   "source": [
    "from sklearn.feature_selection import SelectKBest, f_classif"
   ]
  },
  {
   "cell_type": "code",
   "execution_count": null,
   "metadata": {},
   "outputs": [],
   "source": [
    "#SelectKbest\n",
    "SKB = SelectKBest(f_classif, k=20).fit(X, y )\n",
    "X.columns[SKB.get_support()]"
   ]
  },
  {
   "cell_type": "code",
   "execution_count": 34,
   "metadata": {},
   "outputs": [],
   "source": [
    "#Final list\n",
    "Final_list = [\n",
    "    'count',\n",
    "'diff_srv_rate',\n",
    "'dst_bytes',\n",
    "'dst_host_count',\n",
    "'dst_host_diff_srv_rate',\n",
    "'flag_REJ',\n",
    "'rerror_rate',\n",
    "'flag_S0',\n",
    "#'flag_SF',\n",
    "#'last_flag',\n",
    "#'logged_in_1',\n",
    "'protocol_type_udp',\n",
    "'src_bytes',\n",
    "#'serror_rate',\n",
    "'service_domain_u',\n",
    "'service_eco_i',\n",
    "'service_ecr_i',\n",
    "'service_http',\n",
    "'service_private',\n",
    "'service_smtp',\n",
    "]"
   ]
  },
  {
   "cell_type": "code",
   "execution_count": 35,
   "metadata": {},
   "outputs": [],
   "source": [
    "X_new = train_final[Final_list]\n",
    "y = train_final['Activity_normal']"
   ]
  },
  {
   "cell_type": "code",
   "execution_count": 36,
   "metadata": {},
   "outputs": [],
   "source": [
    "from statsmodels.stats.outliers_influence import variance_inflation_factor"
   ]
  },
  {
   "cell_type": "code",
   "execution_count": 37,
   "metadata": {},
   "outputs": [
    {
     "data": {
      "text/html": [
       "<div>\n",
       "<style scoped>\n",
       "    .dataframe tbody tr th:only-of-type {\n",
       "        vertical-align: middle;\n",
       "    }\n",
       "\n",
       "    .dataframe tbody tr th {\n",
       "        vertical-align: top;\n",
       "    }\n",
       "\n",
       "    .dataframe thead th {\n",
       "        text-align: right;\n",
       "    }\n",
       "</style>\n",
       "<table border=\"1\" class=\"dataframe\">\n",
       "  <thead>\n",
       "    <tr style=\"text-align: right;\">\n",
       "      <th></th>\n",
       "      <th>VIF_Factor</th>\n",
       "      <th>features</th>\n",
       "    </tr>\n",
       "  </thead>\n",
       "  <tbody>\n",
       "    <tr>\n",
       "      <td>3</td>\n",
       "      <td>5.228342</td>\n",
       "      <td>dst_host_count</td>\n",
       "    </tr>\n",
       "    <tr>\n",
       "      <td>6</td>\n",
       "      <td>4.753627</td>\n",
       "      <td>rerror_rate</td>\n",
       "    </tr>\n",
       "    <tr>\n",
       "      <td>5</td>\n",
       "      <td>4.061347</td>\n",
       "      <td>flag_REJ</td>\n",
       "    </tr>\n",
       "    <tr>\n",
       "      <td>8</td>\n",
       "      <td>3.714372</td>\n",
       "      <td>protocol_type_udp</td>\n",
       "    </tr>\n",
       "    <tr>\n",
       "      <td>7</td>\n",
       "      <td>3.670801</td>\n",
       "      <td>flag_S0</td>\n",
       "    </tr>\n",
       "    <tr>\n",
       "      <td>0</td>\n",
       "      <td>3.533780</td>\n",
       "      <td>count</td>\n",
       "    </tr>\n",
       "    <tr>\n",
       "      <td>10</td>\n",
       "      <td>3.033734</td>\n",
       "      <td>service_domain_u</td>\n",
       "    </tr>\n",
       "    <tr>\n",
       "      <td>4</td>\n",
       "      <td>2.034405</td>\n",
       "      <td>dst_host_diff_srv_rate</td>\n",
       "    </tr>\n",
       "    <tr>\n",
       "      <td>13</td>\n",
       "      <td>1.862147</td>\n",
       "      <td>service_http</td>\n",
       "    </tr>\n",
       "    <tr>\n",
       "      <td>14</td>\n",
       "      <td>1.674250</td>\n",
       "      <td>service_private</td>\n",
       "    </tr>\n",
       "    <tr>\n",
       "      <td>1</td>\n",
       "      <td>1.660980</td>\n",
       "      <td>diff_srv_rate</td>\n",
       "    </tr>\n",
       "    <tr>\n",
       "      <td>12</td>\n",
       "      <td>1.462720</td>\n",
       "      <td>service_ecr_i</td>\n",
       "    </tr>\n",
       "    <tr>\n",
       "      <td>2</td>\n",
       "      <td>1.404501</td>\n",
       "      <td>dst_bytes</td>\n",
       "    </tr>\n",
       "    <tr>\n",
       "      <td>15</td>\n",
       "      <td>1.112858</td>\n",
       "      <td>service_smtp</td>\n",
       "    </tr>\n",
       "    <tr>\n",
       "      <td>9</td>\n",
       "      <td>1.051785</td>\n",
       "      <td>src_bytes</td>\n",
       "    </tr>\n",
       "    <tr>\n",
       "      <td>11</td>\n",
       "      <td>1.002692</td>\n",
       "      <td>service_eco_i</td>\n",
       "    </tr>\n",
       "  </tbody>\n",
       "</table>\n",
       "</div>"
      ],
      "text/plain": [
       "    VIF_Factor                features\n",
       "3     5.228342          dst_host_count\n",
       "6     4.753627             rerror_rate\n",
       "5     4.061347                flag_REJ\n",
       "8     3.714372       protocol_type_udp\n",
       "7     3.670801                 flag_S0\n",
       "0     3.533780                   count\n",
       "10    3.033734        service_domain_u\n",
       "4     2.034405  dst_host_diff_srv_rate\n",
       "13    1.862147            service_http\n",
       "14    1.674250         service_private\n",
       "1     1.660980           diff_srv_rate\n",
       "12    1.462720           service_ecr_i\n",
       "2     1.404501               dst_bytes\n",
       "15    1.112858            service_smtp\n",
       "9     1.051785               src_bytes\n",
       "11    1.002692           service_eco_i"
      ]
     },
     "execution_count": 37,
     "metadata": {},
     "output_type": "execute_result"
    }
   ],
   "source": [
    "### VIF Calculation for variables\n",
    "vif = pd.DataFrame()\n",
    "vif[\"VIF_Factor\"] = [variance_inflation_factor(X_new.values, i) for i in range(X_new.shape[1])]\n",
    "vif[\"features\"] = X_new.columns\n",
    "vif.sort_values(by='VIF_Factor',ascending=False)"
   ]
  },
  {
   "cell_type": "markdown",
   "metadata": {},
   "source": [
    "### model building"
   ]
  },
  {
   "cell_type": "code",
   "execution_count": 38,
   "metadata": {},
   "outputs": [],
   "source": [
    "data_final1 = pd.concat([X_new, y], axis=1)\n",
    "\n",
    "#split the data into train & test (70%:30%)\n",
    "df1_train, df1_test = train_test_split(data_final1, test_size = 0.3, random_state=123 )"
   ]
  },
  {
   "cell_type": "code",
   "execution_count": 39,
   "metadata": {},
   "outputs": [],
   "source": [
    "eqn = 'Activity_normal~ '+'+'.join(X_new.columns.difference(['Activity_normal']))"
   ]
  },
  {
   "cell_type": "code",
   "execution_count": 40,
   "metadata": {
    "scrolled": true
   },
   "outputs": [
    {
     "name": "stdout",
     "output_type": "stream",
     "text": [
      "Optimization terminated successfully.\n",
      "         Current function value: 0.100812\n",
      "         Iterations 11\n"
     ]
    }
   ],
   "source": [
    "model_logit = smf.logit(formula=eqn,data=df1_train).fit()"
   ]
  },
  {
   "cell_type": "code",
   "execution_count": 41,
   "metadata": {},
   "outputs": [
    {
     "name": "stdout",
     "output_type": "stream",
     "text": [
      "                           Logit Regression Results                           \n",
      "==============================================================================\n",
      "Dep. Variable:        Activity_normal   No. Observations:                88180\n",
      "Model:                          Logit   Df Residuals:                    88163\n",
      "Method:                           MLE   Df Model:                           16\n",
      "Date:                Sat, 29 Aug 2020   Pseudo R-squ.:                  0.8540\n",
      "Time:                        17:06:41   Log-Likelihood:                -8889.6\n",
      "converged:                       True   LL-Null:                       -60896.\n",
      "Covariance Type:            nonrobust   LLR p-value:                     0.000\n",
      "==========================================================================================\n",
      "                             coef    std err          z      P>|z|      [0.025      0.975]\n",
      "------------------------------------------------------------------------------------------\n",
      "Intercept                  3.2386      0.060     54.083      0.000       3.121       3.356\n",
      "count                     -0.0153      0.000    -36.652      0.000      -0.016      -0.014\n",
      "diff_srv_rate              0.8458      0.121      7.012      0.000       0.609       1.082\n",
      "dst_bytes               -3.98e-05   5.73e-06     -6.952      0.000    -5.1e-05   -2.86e-05\n",
      "dst_host_count            -0.0011      0.000     -4.597      0.000      -0.002      -0.001\n",
      "dst_host_diff_srv_rate    -3.2505      0.119    -27.339      0.000      -3.483      -3.017\n",
      "flag_REJ                   0.5832      0.114      5.124      0.000       0.360       0.806\n",
      "flag_S0                   -6.3907      0.089    -71.725      0.000      -6.565      -6.216\n",
      "protocol_type_udp          2.1879      0.123     17.753      0.000       1.946       2.429\n",
      "rerror_rate               -3.6315      0.101    -35.991      0.000      -3.829      -3.434\n",
      "service_domain_u           4.3453      0.395     10.995      0.000       3.571       5.120\n",
      "service_eco_i             -5.3221      0.080    -66.180      0.000      -5.480      -5.164\n",
      "service_ecr_i             -3.6670      0.111    -33.135      0.000      -3.884      -3.450\n",
      "service_http               2.2601      0.063     35.646      0.000       2.136       2.384\n",
      "service_private           -5.2514      0.126    -41.707      0.000      -5.498      -5.005\n",
      "service_smtp               3.0885      0.133     23.203      0.000       2.828       3.349\n",
      "src_bytes               -8.62e-05    1.6e-06    -53.860      0.000   -8.93e-05   -8.31e-05\n",
      "==========================================================================================\n",
      "\n",
      "Possibly complete quasi-separation: A fraction 0.13 of observations can be\n",
      "perfectly predicted. This might indicate that there is complete\n",
      "quasi-separation. In this case some parameters will not be identified.\n"
     ]
    }
   ],
   "source": [
    "print(model_logit.summary())"
   ]
  },
  {
   "cell_type": "markdown",
   "metadata": {},
   "source": [
    "### predicting the probability"
   ]
  },
  {
   "cell_type": "code",
   "execution_count": 42,
   "metadata": {},
   "outputs": [
    {
     "name": "stderr",
     "output_type": "stream",
     "text": [
      "C:\\Users\\Ashu\\Anaconda3\\lib\\site-packages\\ipykernel_launcher.py:1: SettingWithCopyWarning: \n",
      "A value is trying to be set on a copy of a slice from a DataFrame.\n",
      "Try using .loc[row_indexer,col_indexer] = value instead\n",
      "\n",
      "See the caveats in the documentation: http://pandas.pydata.org/pandas-docs/stable/user_guide/indexing.html#returning-a-view-versus-a-copy\n",
      "  \"\"\"Entry point for launching an IPython kernel.\n",
      "C:\\Users\\Ashu\\Anaconda3\\lib\\site-packages\\ipykernel_launcher.py:2: SettingWithCopyWarning: \n",
      "A value is trying to be set on a copy of a slice from a DataFrame.\n",
      "Try using .loc[row_indexer,col_indexer] = value instead\n",
      "\n",
      "See the caveats in the documentation: http://pandas.pydata.org/pandas-docs/stable/user_guide/indexing.html#returning-a-view-versus-a-copy\n",
      "  \n"
     ]
    }
   ],
   "source": [
    "df1_train['pred_prob'] =model_logit.predict(df1_train)\n",
    "df1_test['pred_prob'] =model_logit.predict(df1_test)"
   ]
  },
  {
   "cell_type": "code",
   "execution_count": 43,
   "metadata": {},
   "outputs": [
    {
     "name": "stdout",
     "output_type": "stream",
     "text": [
      "Gini_TRAINING : 0.9854883453088572\n",
      "AUC_TRAINING  : 0.9927441726544286\n"
     ]
    }
   ],
   "source": [
    "train_Gini = 2*metrics.roc_auc_score(df1_train.Activity_normal, df1_train.pred_prob)-1\n",
    "print('Gini_TRAINING :',train_Gini)\n",
    "print('AUC_TRAINING  :',metrics.roc_auc_score(df1_train.Activity_normal, df1_train.pred_prob))"
   ]
  },
  {
   "cell_type": "code",
   "execution_count": 44,
   "metadata": {},
   "outputs": [
    {
     "name": "stdout",
     "output_type": "stream",
     "text": [
      "Gini_TRAINING : 0.9850812916562104\n",
      "AUC_TRAINING  : 0.9925406458281052\n"
     ]
    }
   ],
   "source": [
    "test_Gini = 2*metrics.roc_auc_score(df1_test.Activity_normal, df1_test.pred_prob)-1\n",
    "print('Gini_TRAINING :',test_Gini)\n",
    "print('AUC_TRAINING  :',metrics.roc_auc_score(df1_test.Activity_normal, df1_test.pred_prob))"
   ]
  },
  {
   "cell_type": "markdown",
   "metadata": {},
   "source": [
    "### Validation of model"
   ]
  },
  {
   "cell_type": "code",
   "execution_count": 46,
   "metadata": {},
   "outputs": [],
   "source": [
    "import sklearn.metrics as metrics"
   ]
  },
  {
   "cell_type": "code",
   "execution_count": 45,
   "metadata": {},
   "outputs": [
    {
     "name": "stderr",
     "output_type": "stream",
     "text": [
      "C:\\Users\\Ashu\\Anaconda3\\lib\\site-packages\\ipykernel_launcher.py:1: SettingWithCopyWarning: \n",
      "A value is trying to be set on a copy of a slice from a DataFrame.\n",
      "Try using .loc[row_indexer,col_indexer] = value instead\n",
      "\n",
      "See the caveats in the documentation: http://pandas.pydata.org/pandas-docs/stable/user_guide/indexing.html#returning-a-view-versus-a-copy\n",
      "  \"\"\"Entry point for launching an IPython kernel.\n",
      "C:\\Users\\Ashu\\Anaconda3\\lib\\site-packages\\ipykernel_launcher.py:2: SettingWithCopyWarning: \n",
      "A value is trying to be set on a copy of a slice from a DataFrame.\n",
      "Try using .loc[row_indexer,col_indexer] = value instead\n",
      "\n",
      "See the caveats in the documentation: http://pandas.pydata.org/pandas-docs/stable/user_guide/indexing.html#returning-a-view-versus-a-copy\n",
      "  \n"
     ]
    }
   ],
   "source": [
    "df1_train['y_pred'] = np.where(df1_train.pred_prob>0.8, 1, 0)\n",
    "df1_test['y_pred'] = np.where(df1_test.pred_prob>0.8, 1, 0)"
   ]
  },
  {
   "cell_type": "code",
   "execution_count": 47,
   "metadata": {},
   "outputs": [
    {
     "data": {
      "text/plain": [
       "array([[40064,   875],\n",
       "       [ 2562, 44679]], dtype=int64)"
      ]
     },
     "execution_count": 47,
     "metadata": {},
     "output_type": "execute_result"
    }
   ],
   "source": [
    "metrics.confusion_matrix(df1_train.Activity_normal, df1_train.y_pred)"
   ]
  },
  {
   "cell_type": "code",
   "execution_count": 48,
   "metadata": {},
   "outputs": [
    {
     "data": {
      "text/plain": [
       "<matplotlib.axes._subplots.AxesSubplot at 0x1d150db72c8>"
      ]
     },
     "execution_count": 48,
     "metadata": {},
     "output_type": "execute_result"
    },
    {
     "data": {
      "image/png": "[encoded data removed]",
      "text/plain": [
       "<Figure size 432x288 with 2 Axes>"
      ]
     },
     "metadata": {
      "needs_background": "light"
     },
     "output_type": "display_data"
    }
   ],
   "source": [
    "sns.heatmap(metrics.confusion_matrix(df1_train.Activity_normal, df1_train.y_pred),annot=True )"
   ]
  },
  {
   "cell_type": "code",
   "execution_count": 49,
   "metadata": {},
   "outputs": [
    {
     "data": {
      "text/plain": [
       "array([[17285,   406],\n",
       "       [ 1061, 19040]], dtype=int64)"
      ]
     },
     "execution_count": 49,
     "metadata": {},
     "output_type": "execute_result"
    }
   ],
   "source": [
    "metrics.confusion_matrix(df1_test.Activity_normal, df1_test.y_pred)"
   ]
  },
  {
   "cell_type": "code",
   "execution_count": 50,
   "metadata": {},
   "outputs": [
    {
     "data": {
      "text/plain": [
       "<matplotlib.axes._subplots.AxesSubplot at 0x1d150d7e508>"
      ]
     },
     "execution_count": 50,
     "metadata": {},
     "output_type": "execute_result"
    },
    {
     "data": {
      "image/png": "[encoded data removed]",
      "text/plain": [
       "<Figure size 432x288 with 2 Axes>"
      ]
     },
     "metadata": {
      "needs_background": "light"
     },
     "output_type": "display_data"
    }
   ],
   "source": [
    "sns.heatmap(metrics.confusion_matrix(df1_test.Activity_normal, df1_test.y_pred),annot=True )"
   ]
  },
  {
   "cell_type": "code",
   "execution_count": 51,
   "metadata": {},
   "outputs": [
    {
     "name": "stdout",
     "output_type": "stream",
     "text": [
      "              precision    recall  f1-score   support\n",
      "\n",
      "           0       0.94      0.98      0.96     40939\n",
      "           1       0.98      0.95      0.96     47241\n",
      "\n",
      "    accuracy                           0.96     88180\n",
      "   macro avg       0.96      0.96      0.96     88180\n",
      "weighted avg       0.96      0.96      0.96     88180\n",
      "\n"
     ]
    }
   ],
   "source": [
    "print(metrics.classification_report(df1_train.Activity_normal, df1_train.y_pred))"
   ]
  },
  {
   "cell_type": "code",
   "execution_count": 52,
   "metadata": {},
   "outputs": [
    {
     "name": "stdout",
     "output_type": "stream",
     "text": [
      "              precision    recall  f1-score   support\n",
      "\n",
      "           0       0.94      0.98      0.96     17691\n",
      "           1       0.98      0.95      0.96     20101\n",
      "\n",
      "    accuracy                           0.96     37792\n",
      "   macro avg       0.96      0.96      0.96     37792\n",
      "weighted avg       0.96      0.96      0.96     37792\n",
      "\n"
     ]
    }
   ],
   "source": [
    "print(metrics.classification_report(df1_test.Activity_normal, df1_test.y_pred))"
   ]
  },
  {
   "cell_type": "markdown",
   "metadata": {},
   "source": [
    "### Predicting the test data"
   ]
  },
  {
   "cell_type": "code",
   "execution_count": 53,
   "metadata": {},
   "outputs": [],
   "source": [
    "test_new = test_final[Final_list]"
   ]
  },
  {
   "cell_type": "code",
   "execution_count": 54,
   "metadata": {},
   "outputs": [],
   "source": [
    "data_test_final = pd.concat([test_new,test_final['Activity_normal']], axis=1)"
   ]
  },
  {
   "cell_type": "code",
   "execution_count": 55,
   "metadata": {},
   "outputs": [],
   "source": [
    "data_test_final['pred_prob'] =model_logit.predict(data_test_final)\n",
    "data_test_final['y_pred'] = np.where(data_test_final.pred_prob>0.8, 1, 0)"
   ]
  },
  {
   "cell_type": "code",
   "execution_count": 56,
   "metadata": {},
   "outputs": [
    {
     "name": "stdout",
     "output_type": "stream",
     "text": [
      "[[9792 3040]\n",
      " [1050 8661]]\n"
     ]
    },
    {
     "data": {
      "text/plain": [
       "<matplotlib.axes._subplots.AxesSubplot at 0x1d1532304c8>"
      ]
     },
     "execution_count": 56,
     "metadata": {},
     "output_type": "execute_result"
    },
    {
     "data": {
      "image/png": "[encoded data removed]",
      "text/plain": [
       "<Figure size 432x288 with 2 Axes>"
      ]
     },
     "metadata": {
      "needs_background": "light"
     },
     "output_type": "display_data"
    }
   ],
   "source": [
    "print(metrics.confusion_matrix(data_test_final.Activity_normal, data_test_final.y_pred))\n",
    "sns.heatmap(metrics.confusion_matrix(data_test_final.Activity_normal, data_test_final.y_pred),annot=True )"
   ]
  },
  {
   "cell_type": "code",
   "execution_count": 57,
   "metadata": {},
   "outputs": [
    {
     "name": "stdout",
     "output_type": "stream",
     "text": [
      "              precision    recall  f1-score   support\n",
      "\n",
      "           0       0.90      0.76      0.83     12832\n",
      "           1       0.74      0.89      0.81      9711\n",
      "\n",
      "    accuracy                           0.82     22543\n",
      "   macro avg       0.82      0.83      0.82     22543\n",
      "weighted avg       0.83      0.82      0.82     22543\n",
      "\n"
     ]
    }
   ],
   "source": [
    "print(metrics.classification_report(data_test_final.Activity_normal, data_test_final.y_pred))"
   ]
  },
  {
   "cell_type": "code",
   "execution_count": 58,
   "metadata": {},
   "outputs": [],
   "source": [
    "data_test_final['Activity_bino'] = data_test_final.Activity_normal.apply(lambda x : 'normal' if x == 1 else 'Attack' )"
   ]
  },
  {
   "cell_type": "markdown",
   "metadata": {},
   "source": [
    "# `Multinomial classification: Activity is normal or DOS or PROBE or R2L or U2R`"
   ]
  },
  {
   "cell_type": "code",
   "execution_count": 59,
   "metadata": {},
   "outputs": [],
   "source": [
    "Dos_list = ['back', 'land', 'neptune', 'pod','smurf','teardrop','apache2', 'udpstorm','processtable', 'worm']\n",
    "Probe_list = ['satan', 'ipsweep', 'nmap', 'portsweep', 'mscan', 'saint']\n",
    "R2L_list = ['guess_passwd', 'ftp_write', 'imap', 'phf', 'multihop', 'warezmaster',\n",
    "            'warezclient', 'spy', 'xlock', 'xsnoop', 'snmpguess', 'snmpgetattack', 'httptunnel', 'sendmail', 'named']\n",
    "U2R_list = ['buffer_overflow', 'loadmodule', 'rootkit', 'perl', 'sqlattack', 'xterm', 'ps']"
   ]
  },
  {
   "cell_type": "code",
   "execution_count": 60,
   "metadata": {
    "scrolled": true
   },
   "outputs": [],
   "source": [
    "train_final = train_final.drop(['Activity_normal'],axis=1)\n",
    "\n",
    "test_final = test_final.drop(['Activity_normal'],axis=1)"
   ]
  },
  {
   "cell_type": "code",
   "execution_count": 61,
   "metadata": {},
   "outputs": [],
   "source": [
    "train_final['Activity_class'] = train.attack.apply(lambda x : 'Dos' if x in Dos_list else 'Probe' if x in Probe_list else 'R2L' if x in R2L_list else 'U2R' if x in U2R_list else 'normal')\n",
    "\n",
    "test_final['Activity_class'] = test.attack.apply(lambda x : 'Dos' if x in Dos_list else 'Probe' if x in Probe_list else 'R2L' if x in R2L_list else 'U2R' if x in U2R_list else 'normal')"
   ]
  },
  {
   "cell_type": "code",
   "execution_count": 195,
   "metadata": {},
   "outputs": [],
   "source": [
    "#splitting \n",
    "tXx = train_final.drop(columns=['Activity_class'])\n",
    "tyy = train_final[\"Activity_class\"]"
   ]
  },
  {
   "cell_type": "code",
   "execution_count": 63,
   "metadata": {},
   "outputs": [],
   "source": [
    "from sklearn.preprocessing import LabelEncoder"
   ]
  },
  {
   "cell_type": "code",
   "execution_count": 196,
   "metadata": {},
   "outputs": [],
   "source": [
    "tXx.drop(['service_http_2784',\n",
    "'service_http_8001',\n",
    "'service_red_i',\n",
    "'service_urh_i',\n",
    "'num_failed_logins_5',\n",
    "'service_aol',\n",
    "'service_harvest'\n",
    "],axis=1,inplace=True)"
   ]
  },
  {
   "cell_type": "code",
   "execution_count": 220,
   "metadata": {},
   "outputs": [],
   "source": [
    "#Encoder for y variable\n",
    "enc =LabelEncoder()\n",
    "tyy = enc.fit_transform(tyy)"
   ]
  },
  {
   "cell_type": "code",
   "execution_count": 221,
   "metadata": {},
   "outputs": [
    {
     "data": {
      "text/plain": [
       "4    67342\n",
       "0    45927\n",
       "1    11656\n",
       "2      995\n",
       "3       52\n",
       "dtype: int64"
      ]
     },
     "execution_count": 221,
     "metadata": {},
     "output_type": "execute_result"
    }
   ],
   "source": [
    "pd.Series(tyy).value_counts()"
   ]
  },
  {
   "cell_type": "code",
   "execution_count": 222,
   "metadata": {},
   "outputs": [],
   "source": [
    "#splitting to train and test dataset\n",
    "X_train, X_test, y_train, y_test = train_test_split(tXx, tyy, test_size = 0.3, random_state=123)"
   ]
  },
  {
   "cell_type": "code",
   "execution_count": 114,
   "metadata": {},
   "outputs": [],
   "source": [
    "from sklearn.model_selection import GridSearchCV\n",
    "\n",
    "from xgboost import XGBClassifier"
   ]
  },
  {
   "cell_type": "markdown",
   "metadata": {},
   "source": [
    "### model building"
   ]
  },
  {
   "cell_type": "code",
   "execution_count": 223,
   "metadata": {},
   "outputs": [],
   "source": [
    "#XGBoost with depth of 15 and restriction level 7 \n",
    "xgb = XGBClassifier(n_estimators=100,\n",
    "                    max_depth=15, \n",
    "                    gamma = 7)\n",
    "xgb = xgb.fit(X_train,y_train)"
   ]
  },
  {
   "cell_type": "markdown",
   "metadata": {},
   "source": [
    "### predition on train data "
   ]
  },
  {
   "cell_type": "code",
   "execution_count": 93,
   "metadata": {},
   "outputs": [],
   "source": [
    "from sklearn.metrics import accuracy_score"
   ]
  },
  {
   "cell_type": "code",
   "execution_count": 225,
   "metadata": {},
   "outputs": [],
   "source": [
    "X_train_pred = xgb.predict(X_train)"
   ]
  },
  {
   "cell_type": "code",
   "execution_count": 226,
   "metadata": {},
   "outputs": [
    {
     "name": "stdout",
     "output_type": "stream",
     "text": [
      "Accuracy Train: 99.92%\n"
     ]
    }
   ],
   "source": [
    "accuracy = accuracy_score(y_train, X_train_pred) \n",
    "\n",
    "print(\"Accuracy Train: %.2f%%\" % (accuracy * 100.0))"
   ]
  },
  {
   "cell_type": "code",
   "execution_count": 227,
   "metadata": {},
   "outputs": [
    {
     "data": {
      "text/plain": [
       "array([[32047,     1,     0,     0,     6],\n",
       "       [    2,  8159,     0,     0,    10],\n",
       "       [    0,     0,   659,     3,    14],\n",
       "       [    0,     2,     2,    19,    15],\n",
       "       [    1,    10,     5,     0, 47225]], dtype=int64)"
      ]
     },
     "execution_count": 227,
     "metadata": {},
     "output_type": "execute_result"
    }
   ],
   "source": [
    "metrics.confusion_matrix(y_train, X_train_pred)"
   ]
  },
  {
   "cell_type": "code",
   "execution_count": 228,
   "metadata": {},
   "outputs": [
    {
     "data": {
      "text/plain": [
       "<matplotlib.axes._subplots.AxesSubplot at 0x1d171bc9fc8>"
      ]
     },
     "execution_count": 228,
     "metadata": {},
     "output_type": "execute_result"
    },
    {
     "data": {
      "image/png": "[encoded data removed]",
      "text/plain": [
       "<Figure size 432x288 with 2 Axes>"
      ]
     },
     "metadata": {
      "needs_background": "light"
     },
     "output_type": "display_data"
    }
   ],
   "source": [
    "sns.heatmap(metrics.confusion_matrix(y_train, X_train_pred), annot=True)"
   ]
  },
  {
   "cell_type": "code",
   "execution_count": 229,
   "metadata": {},
   "outputs": [
    {
     "name": "stdout",
     "output_type": "stream",
     "text": [
      "              precision    recall  f1-score   support\n",
      "\n",
      "           0       1.00      1.00      1.00     32054\n",
      "           1       1.00      1.00      1.00      8171\n",
      "           2       0.99      0.97      0.98       676\n",
      "           3       0.86      0.50      0.63        38\n",
      "           4       1.00      1.00      1.00     47241\n",
      "\n",
      "    accuracy                           1.00     88180\n",
      "   macro avg       0.97      0.89      0.92     88180\n",
      "weighted avg       1.00      1.00      1.00     88180\n",
      "\n"
     ]
    }
   ],
   "source": [
    "print(metrics.classification_report(y_train, X_train_pred))"
   ]
  },
  {
   "cell_type": "markdown",
   "metadata": {},
   "source": [
    "### validation with test data"
   ]
  },
  {
   "cell_type": "code",
   "execution_count": 230,
   "metadata": {},
   "outputs": [],
   "source": [
    "X_test_pred = xgb.predict(X_test)"
   ]
  },
  {
   "cell_type": "code",
   "execution_count": 231,
   "metadata": {},
   "outputs": [
    {
     "name": "stdout",
     "output_type": "stream",
     "text": [
      "Accuracy Test: 99.87%\n"
     ]
    }
   ],
   "source": [
    "accuracy = accuracy_score(y_test, X_test_pred) \n",
    "\n",
    "print(\"Accuracy Test: %.2f%%\" % (accuracy * 100.0))"
   ]
  },
  {
   "cell_type": "code",
   "execution_count": 232,
   "metadata": {},
   "outputs": [
    {
     "data": {
      "text/plain": [
       "array([[13873,     0,     0,     0,     0],\n",
       "       [    2,  3473,     1,     0,     9],\n",
       "       [    0,     0,   306,     3,    10],\n",
       "       [    0,     0,     1,     8,     5],\n",
       "       [    2,    10,     5,     0, 20084]], dtype=int64)"
      ]
     },
     "execution_count": 232,
     "metadata": {},
     "output_type": "execute_result"
    }
   ],
   "source": [
    "metrics.confusion_matrix(y_test, X_test_pred)"
   ]
  },
  {
   "cell_type": "code",
   "execution_count": 233,
   "metadata": {
    "scrolled": true
   },
   "outputs": [
    {
     "data": {
      "text/plain": [
       "<matplotlib.axes._subplots.AxesSubplot at 0x1d175b4efc8>"
      ]
     },
     "execution_count": 233,
     "metadata": {},
     "output_type": "execute_result"
    },
    {
     "data": {
      "image/png": "[encoded data removed]",
      "text/plain": [
       "<Figure size 432x288 with 2 Axes>"
      ]
     },
     "metadata": {
      "needs_background": "light"
     },
     "output_type": "display_data"
    }
   ],
   "source": [
    "sns.heatmap(metrics.confusion_matrix(y_test, X_test_pred), annot=True)"
   ]
  },
  {
   "cell_type": "code",
   "execution_count": 234,
   "metadata": {},
   "outputs": [
    {
     "name": "stdout",
     "output_type": "stream",
     "text": [
      "              precision    recall  f1-score   support\n",
      "\n",
      "           0       1.00      1.00      1.00     13873\n",
      "           1       1.00      1.00      1.00      3485\n",
      "           2       0.98      0.96      0.97       319\n",
      "           3       0.73      0.57      0.64        14\n",
      "           4       1.00      1.00      1.00     20101\n",
      "\n",
      "    accuracy                           1.00     37792\n",
      "   macro avg       0.94      0.91      0.92     37792\n",
      "weighted avg       1.00      1.00      1.00     37792\n",
      "\n"
     ]
    }
   ],
   "source": [
    "print(metrics.classification_report(y_test, X_test_pred))"
   ]
  },
  {
   "cell_type": "markdown",
   "metadata": {},
   "source": [
    "### preticting the test sample"
   ]
  },
  {
   "cell_type": "code",
   "execution_count": 235,
   "metadata": {},
   "outputs": [],
   "source": [
    "#splitting \n",
    "ttx = test_final.drop(columns=['Activity_class'])"
   ]
  },
  {
   "cell_type": "code",
   "execution_count": 236,
   "metadata": {},
   "outputs": [],
   "source": [
    "ttx.drop(['dst_host_same_srv_rate',\n",
    "'dst_host_serror_rate',\n",
    "'dst_host_srv_count',\n",
    "'dst_host_srv_rerror_rate',\n",
    "'dst_host_srv_serror_rate',\n",
    "'num_access_files',\n",
    "'num_file_creations',\n",
    "'num_root',\n",
    "'same_srv_rate',\n",
    "'srv_rerror_rate',\n",
    "'srv_serror_rate',\n",
    "'num_shells_5',\n",
    "'dst_host_rerror_rate'\n",
    "],axis=1,inplace=True)"
   ]
  },
  {
   "cell_type": "code",
   "execution_count": 241,
   "metadata": {},
   "outputs": [],
   "source": [
    "tty = test_final.Activity_class.apply(lambda x: 4 if x =='normal' else 0 if x == 'Dos' else 1 if x == 'Probe' else 2 if x =='R2L'else 3)"
   ]
  },
  {
   "cell_type": "code",
   "execution_count": 242,
   "metadata": {
    "scrolled": true
   },
   "outputs": [],
   "source": [
    "test_pred = xgb.predict(ttx)"
   ]
  },
  {
   "cell_type": "code",
   "execution_count": 243,
   "metadata": {},
   "outputs": [
    {
     "name": "stdout",
     "output_type": "stream",
     "text": [
      "Accuracy Test: 82.00%\n"
     ]
    }
   ],
   "source": [
    "accuracy = accuracy_score(tty, test_pred) \n",
    "\n",
    "print(\"Accuracy Test: %.2f%%\" % (accuracy * 100.0))"
   ]
  },
  {
   "cell_type": "code",
   "execution_count": 244,
   "metadata": {},
   "outputs": [
    {
     "data": {
      "text/plain": [
       "array([[6362,  208,    0,    0,  596],\n",
       "       [ 166, 1638,    0,    0,  617],\n",
       "       [   1,  270,  745,    6, 1863],\n",
       "       [   0,    0,    8,   30,   29],\n",
       "       [  69,  222,    2,    0, 9711]], dtype=int64)"
      ]
     },
     "execution_count": 244,
     "metadata": {},
     "output_type": "execute_result"
    }
   ],
   "source": [
    "metrics.confusion_matrix(tty, test_pred)"
   ]
  },
  {
   "cell_type": "code",
   "execution_count": 246,
   "metadata": {
    "scrolled": true
   },
   "outputs": [
    {
     "data": {
      "text/plain": [
       "<matplotlib.axes._subplots.AxesSubplot at 0x1d175dd3148>"
      ]
     },
     "execution_count": 246,
     "metadata": {},
     "output_type": "execute_result"
    },
    {
     "data": {
      "image/png": "[encoded data removed]",
      "text/plain": [
       "<Figure size 432x288 with 2 Axes>"
      ]
     },
     "metadata": {
      "needs_background": "light"
     },
     "output_type": "display_data"
    }
   ],
   "source": [
    "sns.heatmap(metrics.confusion_matrix(tty, test_pred), annot=True)"
   ]
  },
  {
   "cell_type": "code",
   "execution_count": 247,
   "metadata": {},
   "outputs": [
    {
     "name": "stdout",
     "output_type": "stream",
     "text": [
      "              precision    recall  f1-score   support\n",
      "\n",
      "           0       0.96      0.89      0.92      7166\n",
      "           1       0.70      0.68      0.69      2421\n",
      "           2       0.99      0.26      0.41      2885\n",
      "           3       0.83      0.45      0.58        67\n",
      "           4       0.76      0.97      0.85     10004\n",
      "\n",
      "    accuracy                           0.82     22543\n",
      "   macro avg       0.85      0.65      0.69     22543\n",
      "weighted avg       0.85      0.82      0.80     22543\n",
      "\n"
     ]
    }
   ],
   "source": [
    "print(metrics.classification_report(tty, test_pred))"
   ]
  },
  {
   "cell_type": "code",
   "execution_count": 249,
   "metadata": {},
   "outputs": [],
   "source": [
    "data_test_final['Activity_multi'] = tty.apply(lambda x: 'normal' if x ==4 else 'Dos' if x == 0 else 'Probe' if x == 1 else 'R2L' if x ==2 else 'U2R')"
   ]
  },
  {
   "cell_type": "code",
   "execution_count": 250,
   "metadata": {},
   "outputs": [
    {
     "data": {
      "text/html": [
       "<div>\n",
       "<style scoped>\n",
       "    .dataframe tbody tr th:only-of-type {\n",
       "        vertical-align: middle;\n",
       "    }\n",
       "\n",
       "    .dataframe tbody tr th {\n",
       "        vertical-align: top;\n",
       "    }\n",
       "\n",
       "    .dataframe thead th {\n",
       "        text-align: right;\n",
       "    }\n",
       "</style>\n",
       "<table border=\"1\" class=\"dataframe\">\n",
       "  <thead>\n",
       "    <tr style=\"text-align: right;\">\n",
       "      <th></th>\n",
       "      <th>count</th>\n",
       "      <th>diff_srv_rate</th>\n",
       "      <th>dst_bytes</th>\n",
       "      <th>dst_host_count</th>\n",
       "      <th>dst_host_diff_srv_rate</th>\n",
       "      <th>flag_REJ</th>\n",
       "      <th>rerror_rate</th>\n",
       "      <th>flag_S0</th>\n",
       "      <th>protocol_type_udp</th>\n",
       "      <th>src_bytes</th>\n",
       "      <th>...</th>\n",
       "      <th>service_eco_i</th>\n",
       "      <th>service_ecr_i</th>\n",
       "      <th>service_http</th>\n",
       "      <th>service_private</th>\n",
       "      <th>service_smtp</th>\n",
       "      <th>Activity_normal</th>\n",
       "      <th>pred_prob</th>\n",
       "      <th>y_pred</th>\n",
       "      <th>Activity_bino</th>\n",
       "      <th>Activity_multi</th>\n",
       "    </tr>\n",
       "  </thead>\n",
       "  <tbody>\n",
       "    <tr>\n",
       "      <td>0</td>\n",
       "      <td>136</td>\n",
       "      <td>0.06</td>\n",
       "      <td>0.0</td>\n",
       "      <td>255</td>\n",
       "      <td>0.06</td>\n",
       "      <td>1</td>\n",
       "      <td>1.0</td>\n",
       "      <td>0</td>\n",
       "      <td>0</td>\n",
       "      <td>0</td>\n",
       "      <td>...</td>\n",
       "      <td>0</td>\n",
       "      <td>0</td>\n",
       "      <td>0</td>\n",
       "      <td>1</td>\n",
       "      <td>0</td>\n",
       "      <td>0</td>\n",
       "      <td>0.000513</td>\n",
       "      <td>0</td>\n",
       "      <td>Attack</td>\n",
       "      <td>Dos</td>\n",
       "    </tr>\n",
       "    <tr>\n",
       "      <td>1</td>\n",
       "      <td>1</td>\n",
       "      <td>0.00</td>\n",
       "      <td>0.0</td>\n",
       "      <td>134</td>\n",
       "      <td>0.04</td>\n",
       "      <td>0</td>\n",
       "      <td>0.0</td>\n",
       "      <td>0</td>\n",
       "      <td>0</td>\n",
       "      <td>12983</td>\n",
       "      <td>...</td>\n",
       "      <td>0</td>\n",
       "      <td>0</td>\n",
       "      <td>0</td>\n",
       "      <td>0</td>\n",
       "      <td>0</td>\n",
       "      <td>1</td>\n",
       "      <td>0.860899</td>\n",
       "      <td>1</td>\n",
       "      <td>normal</td>\n",
       "      <td>normal</td>\n",
       "    </tr>\n",
       "    <tr>\n",
       "      <td>2</td>\n",
       "      <td>1</td>\n",
       "      <td>0.00</td>\n",
       "      <td>0.0</td>\n",
       "      <td>3</td>\n",
       "      <td>0.00</td>\n",
       "      <td>0</td>\n",
       "      <td>0.0</td>\n",
       "      <td>0</td>\n",
       "      <td>0</td>\n",
       "      <td>20</td>\n",
       "      <td>...</td>\n",
       "      <td>1</td>\n",
       "      <td>0</td>\n",
       "      <td>0</td>\n",
       "      <td>0</td>\n",
       "      <td>0</td>\n",
       "      <td>0</td>\n",
       "      <td>0.108721</td>\n",
       "      <td>0</td>\n",
       "      <td>Attack</td>\n",
       "      <td>Probe</td>\n",
       "    </tr>\n",
       "    <tr>\n",
       "      <td>3</td>\n",
       "      <td>1</td>\n",
       "      <td>0.00</td>\n",
       "      <td>15.0</td>\n",
       "      <td>29</td>\n",
       "      <td>0.17</td>\n",
       "      <td>0</td>\n",
       "      <td>1.0</td>\n",
       "      <td>0</td>\n",
       "      <td>0</td>\n",
       "      <td>0</td>\n",
       "      <td>...</td>\n",
       "      <td>0</td>\n",
       "      <td>0</td>\n",
       "      <td>0</td>\n",
       "      <td>0</td>\n",
       "      <td>0</td>\n",
       "      <td>0</td>\n",
       "      <td>0.270093</td>\n",
       "      <td>0</td>\n",
       "      <td>Attack</td>\n",
       "      <td>Probe</td>\n",
       "    </tr>\n",
       "    <tr>\n",
       "      <td>4</td>\n",
       "      <td>4</td>\n",
       "      <td>0.00</td>\n",
       "      <td>14515.0</td>\n",
       "      <td>155</td>\n",
       "      <td>0.00</td>\n",
       "      <td>0</td>\n",
       "      <td>0.0</td>\n",
       "      <td>0</td>\n",
       "      <td>0</td>\n",
       "      <td>267</td>\n",
       "      <td>...</td>\n",
       "      <td>0</td>\n",
       "      <td>0</td>\n",
       "      <td>1</td>\n",
       "      <td>0</td>\n",
       "      <td>0</td>\n",
       "      <td>1</td>\n",
       "      <td>0.990637</td>\n",
       "      <td>1</td>\n",
       "      <td>normal</td>\n",
       "      <td>normal</td>\n",
       "    </tr>\n",
       "    <tr>\n",
       "      <td>...</td>\n",
       "      <td>...</td>\n",
       "      <td>...</td>\n",
       "      <td>...</td>\n",
       "      <td>...</td>\n",
       "      <td>...</td>\n",
       "      <td>...</td>\n",
       "      <td>...</td>\n",
       "      <td>...</td>\n",
       "      <td>...</td>\n",
       "      <td>...</td>\n",
       "      <td>...</td>\n",
       "      <td>...</td>\n",
       "      <td>...</td>\n",
       "      <td>...</td>\n",
       "      <td>...</td>\n",
       "      <td>...</td>\n",
       "      <td>...</td>\n",
       "      <td>...</td>\n",
       "      <td>...</td>\n",
       "      <td>...</td>\n",
       "      <td>...</td>\n",
       "    </tr>\n",
       "    <tr>\n",
       "      <td>22538</td>\n",
       "      <td>1</td>\n",
       "      <td>0.00</td>\n",
       "      <td>333.0</td>\n",
       "      <td>100</td>\n",
       "      <td>0.06</td>\n",
       "      <td>0</td>\n",
       "      <td>0.0</td>\n",
       "      <td>0</td>\n",
       "      <td>0</td>\n",
       "      <td>794</td>\n",
       "      <td>...</td>\n",
       "      <td>0</td>\n",
       "      <td>0</td>\n",
       "      <td>0</td>\n",
       "      <td>0</td>\n",
       "      <td>1</td>\n",
       "      <td>1</td>\n",
       "      <td>0.997328</td>\n",
       "      <td>1</td>\n",
       "      <td>normal</td>\n",
       "      <td>normal</td>\n",
       "    </tr>\n",
       "    <tr>\n",
       "      <td>22539</td>\n",
       "      <td>2</td>\n",
       "      <td>0.00</td>\n",
       "      <td>938.0</td>\n",
       "      <td>197</td>\n",
       "      <td>0.00</td>\n",
       "      <td>0</td>\n",
       "      <td>0.0</td>\n",
       "      <td>0</td>\n",
       "      <td>0</td>\n",
       "      <td>317</td>\n",
       "      <td>...</td>\n",
       "      <td>0</td>\n",
       "      <td>0</td>\n",
       "      <td>1</td>\n",
       "      <td>0</td>\n",
       "      <td>0</td>\n",
       "      <td>1</td>\n",
       "      <td>0.994408</td>\n",
       "      <td>1</td>\n",
       "      <td>normal</td>\n",
       "      <td>normal</td>\n",
       "    </tr>\n",
       "    <tr>\n",
       "      <td>22540</td>\n",
       "      <td>5</td>\n",
       "      <td>0.00</td>\n",
       "      <td>8314.0</td>\n",
       "      <td>255</td>\n",
       "      <td>0.00</td>\n",
       "      <td>0</td>\n",
       "      <td>0.0</td>\n",
       "      <td>0</td>\n",
       "      <td>0</td>\n",
       "      <td>54540</td>\n",
       "      <td>...</td>\n",
       "      <td>0</td>\n",
       "      <td>0</td>\n",
       "      <td>1</td>\n",
       "      <td>0</td>\n",
       "      <td>0</td>\n",
       "      <td>0</td>\n",
       "      <td>0.525485</td>\n",
       "      <td>0</td>\n",
       "      <td>Attack</td>\n",
       "      <td>Dos</td>\n",
       "    </tr>\n",
       "    <tr>\n",
       "      <td>22541</td>\n",
       "      <td>4</td>\n",
       "      <td>0.00</td>\n",
       "      <td>42.0</td>\n",
       "      <td>255</td>\n",
       "      <td>0.01</td>\n",
       "      <td>0</td>\n",
       "      <td>0.0</td>\n",
       "      <td>0</td>\n",
       "      <td>1</td>\n",
       "      <td>42</td>\n",
       "      <td>...</td>\n",
       "      <td>0</td>\n",
       "      <td>0</td>\n",
       "      <td>0</td>\n",
       "      <td>0</td>\n",
       "      <td>0</td>\n",
       "      <td>1</td>\n",
       "      <td>0.999916</td>\n",
       "      <td>1</td>\n",
       "      <td>normal</td>\n",
       "      <td>normal</td>\n",
       "    </tr>\n",
       "    <tr>\n",
       "      <td>22542</td>\n",
       "      <td>4</td>\n",
       "      <td>1.00</td>\n",
       "      <td>0.0</td>\n",
       "      <td>255</td>\n",
       "      <td>0.03</td>\n",
       "      <td>1</td>\n",
       "      <td>1.0</td>\n",
       "      <td>0</td>\n",
       "      <td>0</td>\n",
       "      <td>0</td>\n",
       "      <td>...</td>\n",
       "      <td>0</td>\n",
       "      <td>0</td>\n",
       "      <td>0</td>\n",
       "      <td>0</td>\n",
       "      <td>0</td>\n",
       "      <td>0</td>\n",
       "      <td>0.643178</td>\n",
       "      <td>0</td>\n",
       "      <td>Attack</td>\n",
       "      <td>Probe</td>\n",
       "    </tr>\n",
       "  </tbody>\n",
       "</table>\n",
       "<p>22543 rows × 21 columns</p>\n",
       "</div>"
      ],
      "text/plain": [
       "       count  diff_srv_rate  dst_bytes  dst_host_count  \\\n",
       "0        136           0.06        0.0             255   \n",
       "1          1           0.00        0.0             134   \n",
       "2          1           0.00        0.0               3   \n",
       "3          1           0.00       15.0              29   \n",
       "4          4           0.00    14515.0             155   \n",
       "...      ...            ...        ...             ...   \n",
       "22538      1           0.00      333.0             100   \n",
       "22539      2           0.00      938.0             197   \n",
       "22540      5           0.00     8314.0             255   \n",
       "22541      4           0.00       42.0             255   \n",
       "22542      4           1.00        0.0             255   \n",
       "\n",
       "       dst_host_diff_srv_rate  flag_REJ  rerror_rate  flag_S0  \\\n",
       "0                        0.06         1          1.0        0   \n",
       "1                        0.04         0          0.0        0   \n",
       "2                        0.00         0          0.0        0   \n",
       "3                        0.17         0          1.0        0   \n",
       "4                        0.00         0          0.0        0   \n",
       "...                       ...       ...          ...      ...   \n",
       "22538                    0.06         0          0.0        0   \n",
       "22539                    0.00         0          0.0        0   \n",
       "22540                    0.00         0          0.0        0   \n",
       "22541                    0.01         0          0.0        0   \n",
       "22542                    0.03         1          1.0        0   \n",
       "\n",
       "       protocol_type_udp  src_bytes  ...  service_eco_i  service_ecr_i  \\\n",
       "0                      0          0  ...              0              0   \n",
       "1                      0      12983  ...              0              0   \n",
       "2                      0         20  ...              1              0   \n",
       "3                      0          0  ...              0              0   \n",
       "4                      0        267  ...              0              0   \n",
       "...                  ...        ...  ...            ...            ...   \n",
       "22538                  0        794  ...              0              0   \n",
       "22539                  0        317  ...              0              0   \n",
       "22540                  0      54540  ...              0              0   \n",
       "22541                  1         42  ...              0              0   \n",
       "22542                  0          0  ...              0              0   \n",
       "\n",
       "       service_http  service_private  service_smtp  Activity_normal  \\\n",
       "0                 0                1             0                0   \n",
       "1                 0                0             0                1   \n",
       "2                 0                0             0                0   \n",
       "3                 0                0             0                0   \n",
       "4                 1                0             0                1   \n",
       "...             ...              ...           ...              ...   \n",
       "22538             0                0             1                1   \n",
       "22539             1                0             0                1   \n",
       "22540             1                0             0                0   \n",
       "22541             0                0             0                1   \n",
       "22542             0                0             0                0   \n",
       "\n",
       "       pred_prob  y_pred  Activity_bino Activity_multi  \n",
       "0       0.000513       0         Attack            Dos  \n",
       "1       0.860899       1         normal         normal  \n",
       "2       0.108721       0         Attack          Probe  \n",
       "3       0.270093       0         Attack          Probe  \n",
       "4       0.990637       1         normal         normal  \n",
       "...          ...     ...            ...            ...  \n",
       "22538   0.997328       1         normal         normal  \n",
       "22539   0.994408       1         normal         normal  \n",
       "22540   0.525485       0         Attack            Dos  \n",
       "22541   0.999916       1         normal         normal  \n",
       "22542   0.643178       0         Attack          Probe  \n",
       "\n",
       "[22543 rows x 21 columns]"
      ]
     },
     "execution_count": 250,
     "metadata": {},
     "output_type": "execute_result"
    }
   ],
   "source": [
    "data_test_final"
   ]
  },
  {
   "cell_type": "code",
   "execution_count": 295,
   "metadata": {},
   "outputs": [],
   "source": [
    "test_output = pd.concat([data_test_final['Activity_bino'],data_test_final['Activity_multi']],axis=1)"
   ]
  },
  {
   "cell_type": "code",
   "execution_count": 296,
   "metadata": {},
   "outputs": [],
   "source": [
    "test_output['Attack'] = test.attack"
   ]
  },
  {
   "cell_type": "code",
   "execution_count": 298,
   "metadata": {},
   "outputs": [],
   "source": [
    "test_output.columns = ['Pred_binomial', 'Pred_multinomial', \"input_attack\"]"
   ]
  },
  {
   "cell_type": "code",
   "execution_count": 299,
   "metadata": {},
   "outputs": [
    {
     "data": {
      "text/html": [
       "<div>\n",
       "<style scoped>\n",
       "    .dataframe tbody tr th:only-of-type {\n",
       "        vertical-align: middle;\n",
       "    }\n",
       "\n",
       "    .dataframe tbody tr th {\n",
       "        vertical-align: top;\n",
       "    }\n",
       "\n",
       "    .dataframe thead th {\n",
       "        text-align: right;\n",
       "    }\n",
       "</style>\n",
       "<table border=\"1\" class=\"dataframe\">\n",
       "  <thead>\n",
       "    <tr style=\"text-align: right;\">\n",
       "      <th></th>\n",
       "      <th>Pred_binomial</th>\n",
       "      <th>Pred_multinomial</th>\n",
       "      <th>input_attack</th>\n",
       "    </tr>\n",
       "  </thead>\n",
       "  <tbody>\n",
       "    <tr>\n",
       "      <td>0</td>\n",
       "      <td>Attack</td>\n",
       "      <td>Dos</td>\n",
       "      <td>neptune</td>\n",
       "    </tr>\n",
       "    <tr>\n",
       "      <td>1</td>\n",
       "      <td>normal</td>\n",
       "      <td>normal</td>\n",
       "      <td>normal</td>\n",
       "    </tr>\n",
       "    <tr>\n",
       "      <td>2</td>\n",
       "      <td>Attack</td>\n",
       "      <td>Probe</td>\n",
       "      <td>saint</td>\n",
       "    </tr>\n",
       "    <tr>\n",
       "      <td>3</td>\n",
       "      <td>Attack</td>\n",
       "      <td>Probe</td>\n",
       "      <td>mscan</td>\n",
       "    </tr>\n",
       "    <tr>\n",
       "      <td>4</td>\n",
       "      <td>normal</td>\n",
       "      <td>normal</td>\n",
       "      <td>normal</td>\n",
       "    </tr>\n",
       "    <tr>\n",
       "      <td>...</td>\n",
       "      <td>...</td>\n",
       "      <td>...</td>\n",
       "      <td>...</td>\n",
       "    </tr>\n",
       "    <tr>\n",
       "      <td>22538</td>\n",
       "      <td>normal</td>\n",
       "      <td>normal</td>\n",
       "      <td>normal</td>\n",
       "    </tr>\n",
       "    <tr>\n",
       "      <td>22539</td>\n",
       "      <td>normal</td>\n",
       "      <td>normal</td>\n",
       "      <td>normal</td>\n",
       "    </tr>\n",
       "    <tr>\n",
       "      <td>22540</td>\n",
       "      <td>Attack</td>\n",
       "      <td>Dos</td>\n",
       "      <td>back</td>\n",
       "    </tr>\n",
       "    <tr>\n",
       "      <td>22541</td>\n",
       "      <td>normal</td>\n",
       "      <td>normal</td>\n",
       "      <td>normal</td>\n",
       "    </tr>\n",
       "    <tr>\n",
       "      <td>22542</td>\n",
       "      <td>Attack</td>\n",
       "      <td>Probe</td>\n",
       "      <td>mscan</td>\n",
       "    </tr>\n",
       "  </tbody>\n",
       "</table>\n",
       "<p>22543 rows × 3 columns</p>\n",
       "</div>"
      ],
      "text/plain": [
       "      Pred_binomial Pred_multinomial input_attack\n",
       "0            Attack              Dos      neptune\n",
       "1            normal           normal       normal\n",
       "2            Attack            Probe        saint\n",
       "3            Attack            Probe        mscan\n",
       "4            normal           normal       normal\n",
       "...             ...              ...          ...\n",
       "22538        normal           normal       normal\n",
       "22539        normal           normal       normal\n",
       "22540        Attack              Dos         back\n",
       "22541        normal           normal       normal\n",
       "22542        Attack            Probe        mscan\n",
       "\n",
       "[22543 rows x 3 columns]"
      ]
     },
     "execution_count": 299,
     "metadata": {},
     "output_type": "execute_result"
    }
   ],
   "source": [
    "test_output"
   ]
  },
  {
   "cell_type": "code",
   "execution_count": 300,
   "metadata": {},
   "outputs": [],
   "source": [
    "test_output.to_csv('test_output.csv')"
   ]
  }
 ],
 "metadata": {
  "kernelspec": {
   "display_name": "Python 3",
   "language": "python",
   "name": "python3"
  },
  "language_info": {
   "codemirror_mode": {
    "name": "ipython",
    "version": 3
   },
   "file_extension": ".py",
   "mimetype": "text/x-python",
   "name": "python",
   "nbconvert_exporter": "python",
   "pygments_lexer": "ipython3",
   "version": "3.7.4"
  }
 },
 "nbformat": 4,
 "nbformat_minor": 2
}
